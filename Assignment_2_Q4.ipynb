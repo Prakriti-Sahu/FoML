{
  "nbformat": 4,
  "nbformat_minor": 0,
  "metadata": {
    "colab": {
      "name": "Assignment-2_Q4.ipynb",
      "provenance": [],
      "collapsed_sections": []
    },
    "kernelspec": {
      "name": "python3",
      "display_name": "Python 3"
    },
    "language_info": {
      "name": "python"
    }
  },
  "cells": [
    {
      "cell_type": "markdown",
      "metadata": {
        "id": "u0tiwjJSryvS"
      },
      "source": [
        "# **Programming Question 4**"
      ]
    },
    {
      "cell_type": "markdown",
      "metadata": {
        "id": "VzV9wMA3_s6s"
      },
      "source": [
        "### **Data Set- Handwritten digits from the processed US Postal Service Zip Code**"
      ]
    },
    {
      "cell_type": "markdown",
      "metadata": {
        "id": "j8a_OCiqr87O"
      },
      "source": [
        "**Getting necessary data**"
      ]
    },
    {
      "cell_type": "code",
      "metadata": {
        "colab": {
          "base_uri": "https://localhost:8080/"
        },
        "id": "DBB2NMZ4rcNd",
        "outputId": "7286b2fb-f0fa-4127-bc8e-50db4c27ef66"
      },
      "source": [
        "!wget http://www.amlbook.com/data/zip/features.train\n",
        "!wget http://www.amlbook.com/data/zip/features.test"
      ],
      "execution_count": 1,
      "outputs": [
        {
          "output_type": "stream",
          "name": "stdout",
          "text": [
            "--2021-10-07 12:38:30--  http://www.amlbook.com/data/zip/features.train\n",
            "Resolving www.amlbook.com (www.amlbook.com)... 50.62.137.42\n",
            "Connecting to www.amlbook.com (www.amlbook.com)|50.62.137.42|:80... connected.\n",
            "HTTP request sent, awaiting response... 200 OK\n",
            "Length: 357259 (349K)\n",
            "Saving to: ‘features.train’\n",
            "\n",
            "features.train      100%[===================>] 348.89K   394KB/s    in 0.9s    \n",
            "\n",
            "2021-10-07 12:38:31 (394 KB/s) - ‘features.train’ saved [357259/357259]\n",
            "\n",
            "--2021-10-07 12:38:31--  http://www.amlbook.com/data/zip/features.test\n",
            "Resolving www.amlbook.com (www.amlbook.com)... 50.62.137.42\n",
            "Connecting to www.amlbook.com (www.amlbook.com)|50.62.137.42|:80... connected.\n",
            "HTTP request sent, awaiting response... 200 OK\n",
            "Length: 98343 (96K)\n",
            "Saving to: ‘features.test’\n",
            "\n",
            "features.test       100%[===================>]  96.04K   163KB/s    in 0.6s    \n",
            "\n",
            "2021-10-07 12:38:32 (163 KB/s) - ‘features.test’ saved [98343/98343]\n",
            "\n"
          ]
        }
      ]
    },
    {
      "cell_type": "markdown",
      "metadata": {
        "id": "tLkZzDPUsJYU"
      },
      "source": [
        "**Importing necessary libraries**"
      ]
    },
    {
      "cell_type": "code",
      "metadata": {
        "id": "kMci4RkasJ0s"
      },
      "source": [
        "import pandas as pd\n",
        "import numpy as np\n",
        "import matplotlib.pyplot as plt\n",
        "import seaborn as sns"
      ],
      "execution_count": 2,
      "outputs": []
    },
    {
      "cell_type": "markdown",
      "metadata": {
        "id": "ei3haTJqrxfw"
      },
      "source": [
        "**Reading the data**"
      ]
    },
    {
      "cell_type": "code",
      "metadata": {
        "colab": {
          "base_uri": "https://localhost:8080/"
        },
        "id": "gnoVFHdIsYBY",
        "outputId": "f67be2b8-f9af-4e31-f99e-74b3d2741449"
      },
      "source": [
        "header_list = [\"result\",\"feature1\",\"feature2\"]\n",
        "data=pd.read_csv(\"/content/features.train\",sep='  ',names=header_list)\n",
        "test_data=pd.read_csv(\"/content/features.test\",sep='  ',names=header_list)"
      ],
      "execution_count": 3,
      "outputs": [
        {
          "output_type": "stream",
          "name": "stderr",
          "text": [
            "/usr/local/lib/python3.7/dist-packages/ipykernel_launcher.py:2: ParserWarning: Falling back to the 'python' engine because the 'c' engine does not support regex separators (separators > 1 char and different from '\\s+' are interpreted as regex); you can avoid this warning by specifying engine='python'.\n",
            "  \n",
            "/usr/local/lib/python3.7/dist-packages/ipykernel_launcher.py:3: ParserWarning: Falling back to the 'python' engine because the 'c' engine does not support regex separators (separators > 1 char and different from '\\s+' are interpreted as regex); you can avoid this warning by specifying engine='python'.\n",
            "  This is separate from the ipykernel package so we can avoid doing imports until\n"
          ]
        }
      ]
    },
    {
      "cell_type": "markdown",
      "metadata": {
        "id": "BSL1g2n_slJL"
      },
      "source": [
        "**Displaying data**"
      ]
    },
    {
      "cell_type": "code",
      "metadata": {
        "colab": {
          "base_uri": "https://localhost:8080/"
        },
        "id": "U18wLWd7snf4",
        "outputId": "9c8c1049-f94f-45cc-a410-684a0ff8565d"
      },
      "source": [
        "#print(f\"Test data:\\n{test_data.head()}\\n\")\n",
        "#print(f\"Train data:\\n{data.head()}\\n\")"
      ],
      "execution_count": 8,
      "outputs": [
        {
          "output_type": "stream",
          "name": "stdout",
          "text": [
            "Test data:\n",
            "   result  feature1  feature2\n",
            "0     1.0  0.159934 -1.742000\n",
            "1     1.0  0.124609 -0.474438\n",
            "2     1.0  0.219117 -0.904500\n",
            "3     1.0  0.244779 -2.505625\n",
            "4     1.0  0.105563 -0.218562\n",
            "\n",
            "Train data:\n",
            "   result  feature1  feature2\n",
            "0     1.0  0.123043 -0.707875\n",
            "1     1.0  0.113859 -0.931375\n",
            "2     1.0  0.115371 -0.386000\n",
            "3     1.0  0.102281 -0.378812\n",
            "4     1.0  0.142043 -1.819438\n",
            "\n"
          ]
        }
      ]
    },
    {
      "cell_type": "markdown",
      "metadata": {
        "id": "JIB-4eiBsyE6"
      },
      "source": [
        "**Processing the data**"
      ]
    },
    {
      "cell_type": "code",
      "metadata": {
        "id": "54a5t2kcsyw1"
      },
      "source": [
        "#print(data[data['result']==1].shape[0])\n",
        "#print(data[data['result']==5].shape[0])\n",
        "\n",
        "data1=data[data['result']==1]\n",
        "data5=data[data['result']==5]\n",
        "data1=data1.append(data5)\n",
        "data=data1\n",
        "data.reset_index(drop=True,inplace=True)\n",
        "\n",
        "#print(f\"\\nTrain data:\\n{data.head()}\\n\")\n",
        "\n",
        "data1=test_data[test_data['result']==1]\n",
        "data5=test_data[test_data['result']==5]\n",
        "data1=data1.append(data5)\n",
        "test_data=data1\n",
        "test_data.reset_index(drop=True,inplace=True)\n",
        "\n",
        "#print(f\"Test data:\\n{test_data.head()}\\n\")"
      ],
      "execution_count": 11,
      "outputs": []
    },
    {
      "cell_type": "markdown",
      "metadata": {
        "id": "al_zVfxStXkX"
      },
      "source": [
        "# **Part (a)**"
      ]
    },
    {
      "cell_type": "code",
      "metadata": {
        "colab": {
          "base_uri": "https://localhost:8080/"
        },
        "id": "69B6D8UGtX9g",
        "outputId": "28c539e8-597d-4a73-f640-ce2575dcdf6c"
      },
      "source": [
        "from sklearn import svm\n",
        "\n",
        "lin_clf=svm.SVC(kernel='linear')  #Using a linear kernel SVM\n",
        "\n",
        "X=data[['feature1','feature2']]\n",
        "Y=data['result']\n",
        "\n",
        "lin_clf.fit(X,Y)\n",
        "\n",
        "test_data1=test_data\n",
        "test_data1['predicted_output']=lin_clf.predict(test_data[['feature1','feature2']])\n",
        "\n",
        "test_data1.head()\n",
        "\n",
        "#accuracy calculation\n",
        "accuracy=np.sum(test_data1['predicted_output']==test_data1['result'])/test_data1.shape[0]\n",
        "print(f\"Accuracy of linear kernel SVM is:\\n\\n{accuracy}\")"
      ],
      "execution_count": 14,
      "outputs": [
        {
          "output_type": "stream",
          "name": "stdout",
          "text": [
            "Accuracy of linear kernel SVM is:\n",
            "\n",
            "0.9787735849056604\n"
          ]
        }
      ]
    },
    {
      "cell_type": "markdown",
      "metadata": {
        "id": "32b6Aa-js-__"
      },
      "source": [
        "# **Part (b)**"
      ]
    },
    {
      "cell_type": "code",
      "metadata": {
        "colab": {
          "base_uri": "https://localhost:8080/"
        },
        "id": "5blwEpd_s_gt",
        "outputId": "13c0ef16-fa36-43a3-985e-3397c05efb51"
      },
      "source": [
        "data1=data.sample(frac=1)\n",
        "data1.head()\n",
        "\n",
        "size_list={50,100,200,800}\n",
        "accuracy_list=[]\n",
        "\n",
        "for i in size_list:  \n",
        "  train_data=data1[:i]    #specifying the size of the Trainig Data  \n",
        "  lin_clf=svm.SVC(kernel='linear')    #linear kernel SVM\n",
        "  X=train_data[['feature1','feature2']]\n",
        "  Y=train_data['result']  \n",
        "  lin_clf.fit(X,Y)    #training the model\n",
        "  test_data1=test_data\n",
        "\n",
        "  test_data1['predicted_output']=lin_clf.predict(test_data1[['feature1','feature2']])\n",
        "  accuracy=np.sum(test_data1['predicted_output']==test_data1['result'])/test_data1.shape[0]\n",
        "  accuracy_list.append(accuracy)\n",
        "  print(\"Number of support vectors: \",lin_clf.n_support_)\n",
        "\n",
        "print(\"\\nAccuracy list: \",accuracy_list)"
      ],
      "execution_count": 20,
      "outputs": [
        {
          "output_type": "stream",
          "name": "stdout",
          "text": [
            "Number of support vectors:  [4 4]\n",
            "Number of support vectors:  [1 1]\n",
            "Number of support vectors:  [8 8]\n",
            "Number of support vectors:  [3 3]\n",
            "\n",
            "Accuracy list:  [0.9834905660377359, 0.9740566037735849, 0.9811320754716981, 0.9764150943396226]\n"
          ]
        }
      ]
    },
    {
      "cell_type": "markdown",
      "metadata": {
        "id": "xyuWmkvHu_YO"
      },
      "source": [
        "# **Part (c)**"
      ]
    },
    {
      "cell_type": "code",
      "metadata": {
        "id": "Ntc26aNLu_7j"
      },
      "source": [
        "from sklearn.metrics import classification_report,confusion_matrix\n",
        "from sklearn.model_selection import cross_val_score"
      ],
      "execution_count": 21,
      "outputs": []
    },
    {
      "cell_type": "markdown",
      "metadata": {
        "id": "5ZYEb1CivI84"
      },
      "source": [
        "**(i) C = 0.0001, training error**"
      ]
    },
    {
      "cell_type": "code",
      "metadata": {
        "colab": {
          "base_uri": "https://localhost:8080/"
        },
        "id": "LblR6YUBvKNy",
        "outputId": "fcf0a297-b3f6-40df-c3d8-bd05cfcd9293"
      },
      "source": [
        "poly_clf_2=svm.SVC(kernel='poly',degree=2,C=0.0001)\n",
        "poly_clf_5=svm.SVC(kernel='poly',degree=5,C=0.0001)\n",
        "\n",
        "X=data[['feature1','feature2']]\n",
        "Y=data['result']\n",
        "\n",
        "poly_clf_2.fit(X,Y)\n",
        "poly_clf_5.fit(X,Y)\n",
        "\n",
        "score_2=cross_val_score(poly_clf_2,X,Y,cv=5)\n",
        "score_5=cross_val_score(poly_clf_5,X,Y,cv=5)\n",
        "\n",
        "print(\"Training Error for Q=2:\",score_2.mean())\n",
        "print(\"Training Error for Q=5:\" ,score_5.mean())\n"
      ],
      "execution_count": 24,
      "outputs": [
        {
          "output_type": "stream",
          "name": "stdout",
          "text": [
            "Training Error for Q=2: 0.6470242483820758\n",
            "Training Error for Q=5: 0.940431719505202\n"
          ]
        }
      ]
    },
    {
      "cell_type": "markdown",
      "metadata": {
        "id": "EJlkeMMPvgXl"
      },
      "source": [
        "**(ii) C=0.0001, number of support vectors**"
      ]
    },
    {
      "cell_type": "code",
      "metadata": {
        "colab": {
          "base_uri": "https://localhost:8080/"
        },
        "id": "4QOmVaYMvgwG",
        "outputId": "97d7c047-6aab-4191-c713-673db7f3886a"
      },
      "source": [
        "poly_clf_2=svm.SVC(kernel='poly',degree=2,C=0.001)\n",
        "poly_clf_5=svm.SVC(kernel='poly',degree=5,C=0.001)\n",
        "X=data[['feature1','feature2']]\n",
        "Y=data['result']\n",
        "poly_clf_2.fit(X,Y)\n",
        "poly_clf_5.fit(X,Y)\n",
        "score_2=cross_val_score(poly_clf_2,X,Y,cv=5)\n",
        "score_5=cross_val_score(poly_clf_5,X,Y,cv=5)\n",
        "\n",
        "print(\"Number of support vectors for Q=2:\", poly_clf_2.n_support_)\n",
        "print(\"Number of support vectors for Q=5:\",poly_clf_5.n_support_)\n"
      ],
      "execution_count": 32,
      "outputs": [
        {
          "output_type": "stream",
          "name": "stdout",
          "text": [
            "Number of support vectors for Q=2: [279 279]\n",
            "Number of support vectors for Q=5: [79 79]\n"
          ]
        }
      ]
    },
    {
      "cell_type": "markdown",
      "metadata": {
        "id": "Kx0ci8r9wAyM"
      },
      "source": [
        "**(iii) C=0.1, training error**"
      ]
    },
    {
      "cell_type": "code",
      "metadata": {
        "colab": {
          "base_uri": "https://localhost:8080/"
        },
        "id": "8gErrOnJwBIF",
        "outputId": "bbc0dad4-8aa7-4d27-ce96-aed5ab45298e"
      },
      "source": [
        "poly_clf_2=svm.SVC(kernel='poly',degree=2,C=0.01)\n",
        "poly_clf_5=svm.SVC(kernel='poly',degree=5,C=0.01)\n",
        "X=data[['feature1','feature2']]\n",
        "Y=data['result']\n",
        "poly_clf_2.fit(X,Y)\n",
        "poly_clf_5.fit(X,Y)\n",
        "score_2=cross_val_score(poly_clf_2,X,Y,cv=5)\n",
        "score_5=cross_val_score(poly_clf_5,X,Y,cv=5)\n",
        "\n",
        "print(\"Training error for Q=2:\",1-score_2.mean())\n",
        "print(\"Training error for Q=5:\",1-score_5.mean())\n"
      ],
      "execution_count": 34,
      "outputs": [
        {
          "output_type": "stream",
          "name": "stdout",
          "text": [
            "Training error for Q=2: 0.008325141312361728\n",
            "Training error for Q=5: 0.008966166953387478\n"
          ]
        }
      ]
    },
    {
      "cell_type": "markdown",
      "metadata": {
        "id": "JjsG_owzwObe"
      },
      "source": [
        "**(iv) C=1, test error**"
      ]
    },
    {
      "cell_type": "code",
      "metadata": {
        "colab": {
          "base_uri": "https://localhost:8080/"
        },
        "id": "iGq52nT7wXti",
        "outputId": "4b96ef9e-8d5e-4973-dcd7-fd03bc5df11d"
      },
      "source": [
        "poly_clf_2=svm.SVC(kernel='poly',degree=2,C=0.01)\n",
        "poly_clf_5=svm.SVC(kernel='poly',degree=5,C=0.01)\n",
        "X=data[['feature1','feature2']]\n",
        "Y=data['result']\n",
        "poly_clf_2.fit(X,Y)\n",
        "poly_clf_5.fit(X,Y)\n",
        "score_2=cross_val_score(poly_clf_2,X,Y,cv=5)\n",
        "score_5=cross_val_score(poly_clf_5,X,Y,cv=5)\n",
        "\n",
        "test_data2=test_data\n",
        "\n",
        "test_data2['predicted_output_2']=poly_clf_2.predict(test_data2[['feature1','feature2']])\n",
        "accuracy_2=np.sum(test_data2['predicted_output_2']==test_data2['result'])/test_data2.shape[0]\n",
        "test_data2['predicted_output_5']=poly_clf_5.predict(test_data2[['feature1','feature2']])\n",
        "accuracy_5=np.sum(test_data2['predicted_output_5']==test_data2['result'])/test_data2.shape[0]\n",
        "\n",
        "print(\"Test error for Q=2: \",1-accuracy_2)\n",
        "print(\"Test error for Q=5: \",1-accuracy_5)"
      ],
      "execution_count": 36,
      "outputs": [
        {
          "output_type": "stream",
          "name": "stdout",
          "text": [
            "Test error for Q=2:  0.021226415094339646\n",
            "Test error for Q=5:  0.021226415094339646\n"
          ]
        }
      ]
    },
    {
      "cell_type": "markdown",
      "metadata": {
        "id": "-DiBN16_whZs"
      },
      "source": [
        "# **Part (d)**"
      ]
    },
    {
      "cell_type": "code",
      "metadata": {
        "colab": {
          "base_uri": "https://localhost:8080/"
        },
        "id": "yPEyYf0Dwktw",
        "outputId": "a939a14a-95a7-4baf-ae58-57692ea59b05"
      },
      "source": [
        "from sklearn import metrics\n",
        "\n",
        "C =[0.01, 1, 100, 10**4,10**6]\n",
        "training_error=[]\n",
        "test_error=[]\n",
        "for i in C:\n",
        "  rbf_clf=svm.SVC(kernel='rbf',C=i)\n",
        "  X=data[['feature1','feature2']]\n",
        "  Y=data['result']\n",
        "  rbf_clf.fit(X,Y)\n",
        "  train_err=1-cross_val_score(rbf_clf,X,Y,cv=5)\n",
        "  training_error.append(train_err.mean())\n",
        "  pred=rbf_clf.predict(test_data[['feature1','feature2']])\n",
        "  test_error.append(1-metrics.accuracy_score(test_data['result'],pred))\n",
        "\n",
        "i=0\n",
        "print(\"Training error at:\\n\")\n",
        "for item in C:\n",
        "    print(f\"C={item}: {training_error[i]}\")\n",
        "    i+=1\n",
        "\n",
        "i=0\n",
        "print(\"\\n\\nTest error at:\\n\")\n",
        "for item in C:\n",
        "    print(f\"C={item}: {test_error[i]}\")\n",
        "    i+=1\n",
        "\n",
        "print(\"\\n\\nMinimum training error is at C:= \",C[np.argmin(training_error)])\n",
        "print(\"Minimum test error is at C:= \",C[np.argmin(test_error)])\n"
      ],
      "execution_count": 54,
      "outputs": [
        {
          "output_type": "stream",
          "name": "stdout",
          "text": [
            "Training error at:\n",
            "\n",
            "C=0.01: 0.005124109117719322\n",
            "C=1: 0.005126157122962227\n",
            "C=100: 0.005126157122962227\n",
            "C=10000: 0.005767182763987888\n",
            "C=1000000: 0.005767182763987888\n",
            "\n",
            "\n",
            "Test error at:\n",
            "\n",
            "C=0.01: 0.01650943396226412\n",
            "C=1: 0.021226415094339646\n",
            "C=100: 0.018867924528301883\n",
            "C=10000: 0.018867924528301883\n",
            "C=1000000: 0.02358490566037741\n",
            "\n",
            "\n",
            "Minimum training error is at C:=  0.01\n",
            "Minimum test error is at C:=  0.01\n"
          ]
        }
      ]
    }
  ]
}