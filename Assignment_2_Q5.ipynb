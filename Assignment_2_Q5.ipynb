{
  "nbformat": 4,
  "nbformat_minor": 0,
  "metadata": {
    "colab": {
      "name": "Assignment_2_Q5.ipynb",
      "provenance": [],
      "collapsed_sections": []
    },
    "kernelspec": {
      "name": "python3",
      "display_name": "Python 3"
    },
    "language_info": {
      "name": "python"
    }
  },
  "cells": [
    {
      "cell_type": "markdown",
      "metadata": {
        "id": "Ik8Jtmo1CrV4"
      },
      "source": [
        "# **Programming Question 5**"
      ]
    },
    {
      "cell_type": "code",
      "metadata": {
        "colab": {
          "base_uri": "https://localhost:8080/"
        },
        "id": "gbEvh2swB8ea",
        "outputId": "cf91c265-999a-4357-f95f-5d8032c1c074"
      },
      "source": [
        "!wget https://archive.ics.uci.edu/ml/machine-learning-databases/gisette/GISETTE/gisette_train.labels\n",
        "!wget https://archive.ics.uci.edu/ml/machine-learning-databases/gisette/gisette_valid.labels\n",
        "!wget https://archive.ics.uci.edu/ml/machine-learning-databases/gisette/GISETTE/gisette_train.data\n",
        "!wget https://archive.ics.uci.edu/ml/machine-learning-databases/gisette/GISETTE/gisette_valid.data\n",
        "!wget https://archive.ics.uci.edu/ml/machine-learning-databases/gisette/GISETTE/gisette_test.data"
      ],
      "execution_count": 1,
      "outputs": [
        {
          "output_type": "stream",
          "name": "stdout",
          "text": [
            "--2021-10-07 15:14:52--  https://archive.ics.uci.edu/ml/machine-learning-databases/gisette/GISETTE/gisette_train.labels\n",
            "Resolving archive.ics.uci.edu (archive.ics.uci.edu)... 128.195.10.252\n",
            "Connecting to archive.ics.uci.edu (archive.ics.uci.edu)|128.195.10.252|:443... connected.\n",
            "HTTP request sent, awaiting response... 200 OK\n",
            "Length: 15000 (15K) [application/x-httpd-php]\n",
            "Saving to: ‘gisette_train.labels’\n",
            "\n",
            "gisette_train.label 100%[===================>]  14.65K  --.-KB/s    in 0.07s   \n",
            "\n",
            "2021-10-07 15:14:53 (219 KB/s) - ‘gisette_train.labels’ saved [15000/15000]\n",
            "\n",
            "--2021-10-07 15:14:53--  https://archive.ics.uci.edu/ml/machine-learning-databases/gisette/gisette_valid.labels\n",
            "Resolving archive.ics.uci.edu (archive.ics.uci.edu)... 128.195.10.252\n",
            "Connecting to archive.ics.uci.edu (archive.ics.uci.edu)|128.195.10.252|:443... connected.\n",
            "HTTP request sent, awaiting response... 200 OK\n",
            "Length: 2500 (2.4K) [application/x-httpd-php]\n",
            "Saving to: ‘gisette_valid.labels’\n",
            "\n",
            "gisette_valid.label 100%[===================>]   2.44K  --.-KB/s    in 0s      \n",
            "\n",
            "2021-10-07 15:14:53 (60.6 MB/s) - ‘gisette_valid.labels’ saved [2500/2500]\n",
            "\n",
            "--2021-10-07 15:14:53--  https://archive.ics.uci.edu/ml/machine-learning-databases/gisette/GISETTE/gisette_train.data\n",
            "Resolving archive.ics.uci.edu (archive.ics.uci.edu)... 128.195.10.252\n",
            "Connecting to archive.ics.uci.edu (archive.ics.uci.edu)|128.195.10.252|:443... connected.\n",
            "HTTP request sent, awaiting response... 200 OK\n",
            "Length: 67788724 (65M) [application/x-httpd-php]\n",
            "Saving to: ‘gisette_train.data’\n",
            "\n",
            "gisette_train.data  100%[===================>]  64.65M  31.5MB/s    in 2.1s    \n",
            "\n",
            "2021-10-07 15:14:55 (31.5 MB/s) - ‘gisette_train.data’ saved [67788724/67788724]\n",
            "\n",
            "--2021-10-07 15:14:55--  https://archive.ics.uci.edu/ml/machine-learning-databases/gisette/GISETTE/gisette_valid.data\n",
            "Resolving archive.ics.uci.edu (archive.ics.uci.edu)... 128.195.10.252\n",
            "Connecting to archive.ics.uci.edu (archive.ics.uci.edu)|128.195.10.252|:443... connected.\n",
            "HTTP request sent, awaiting response... 200 OK\n",
            "Length: 11316914 (11M) [application/x-httpd-php]\n",
            "Saving to: ‘gisette_valid.data’\n",
            "\n",
            "gisette_valid.data  100%[===================>]  10.79M  15.3MB/s    in 0.7s    \n",
            "\n",
            "2021-10-07 15:14:56 (15.3 MB/s) - ‘gisette_valid.data’ saved [11316914/11316914]\n",
            "\n",
            "--2021-10-07 15:14:56--  https://archive.ics.uci.edu/ml/machine-learning-databases/gisette/GISETTE/gisette_test.data\n",
            "Resolving archive.ics.uci.edu (archive.ics.uci.edu)... 128.195.10.252\n",
            "Connecting to archive.ics.uci.edu (archive.ics.uci.edu)|128.195.10.252|:443... connected.\n",
            "HTTP request sent, awaiting response... 200 OK\n",
            "Length: 73448980 (70M) [application/x-httpd-php]\n",
            "Saving to: ‘gisette_test.data’\n",
            "\n",
            "gisette_test.data   100%[===================>]  70.05M  31.9MB/s    in 2.2s    \n",
            "\n",
            "2021-10-07 15:14:59 (31.9 MB/s) - ‘gisette_test.data’ saved [73448980/73448980]\n",
            "\n"
          ]
        }
      ]
    },
    {
      "cell_type": "markdown",
      "metadata": {
        "id": "CbKrv7OcC46C"
      },
      "source": [
        "**Importing necsessary libraries**"
      ]
    },
    {
      "cell_type": "code",
      "metadata": {
        "id": "Bfud9kg5C1k9"
      },
      "source": [
        "import pandas as pd\n",
        "import numpy as np\n",
        "import seaborn as sns\n",
        "import matplotlib.pyplot as plt\n",
        "from sklearn import svm\n",
        "from sklearn import metrics\n",
        "from sklearn.model_selection import cross_val_score"
      ],
      "execution_count": 26,
      "outputs": []
    },
    {
      "cell_type": "markdown",
      "metadata": {
        "id": "Ux0D3XtXDBaR"
      },
      "source": [
        "**Importing necessary data**"
      ]
    },
    {
      "cell_type": "code",
      "metadata": {
        "id": "fgs_UTsCHVAJ"
      },
      "source": [
        "header_list=np.arange(5000)\n",
        "train_data=pd.read_csv(\"/content/gisette_train.data\",sep='\\s+',names=header_list)\n",
        "train_data_y=pd.read_csv(\"/content/gisette_train.labels\",names=['result'])\n",
        "valid_data=pd.read_csv(\"/content/gisette_valid.data\",sep='\\s+',names=header_list)\n",
        "valid_data_y=pd.read_csv(\"/content/gisette_valid.labels\",names=['result'])"
      ],
      "execution_count": 16,
      "outputs": []
    },
    {
      "cell_type": "markdown",
      "metadata": {
        "id": "T9uPBAP7mXR-"
      },
      "source": [
        "**Displaying data**"
      ]
    },
    {
      "cell_type": "code",
      "metadata": {
        "colab": {
          "base_uri": "https://localhost:8080/"
        },
        "id": "ku72xYbgF9TL",
        "outputId": "3f1ab1ed-c443-4b43-db7c-8a16a02e6c93"
      },
      "source": [
        "print(f\"Training data:\\n\\n{train_data.head()}\")\n",
        "print(f\"\\n\\nTrainig data labels:\\n\\n{train_data_y.head()}\")\n",
        "print(f\"\\n\\nValidation set:\\n\\n{valid_data.head()}\")\n",
        "print(f\"\\n\\nValidation set labels:\\n\\n{valid_data_y.head()}\")\n",
        "print(f\"\\n\\n{valid_data.shape,valid_data_y.shape}\\n\")\n",
        "print(train_data.shape)\n"
      ],
      "execution_count": 19,
      "outputs": [
        {
          "output_type": "stream",
          "name": "stdout",
          "text": [
            "Training data:\n",
            "\n",
            "   0     1     2     3     4     5     ...  4994  4995  4996  4997  4998  4999\n",
            "0   550     0   495     0     0     0  ...   991     0     0     0     0   983\n",
            "1     0     0     0     0     0     0  ...     0     0   991     0     0     0\n",
            "2     0     0     0     0     0     0  ...     0     0     0     0     0     0\n",
            "3     0     0   742     0     0     0  ...     0     0   674     0     0   838\n",
            "4     0     0     0     0     0     0  ...     0     0     0     0     0     0\n",
            "\n",
            "[5 rows x 5000 columns]\n",
            "\n",
            "\n",
            "Trainig data labels:\n",
            "\n",
            "   result\n",
            "0       1\n",
            "1      -1\n",
            "2       1\n",
            "3       1\n",
            "4       1\n",
            "\n",
            "\n",
            "Validation set:\n",
            "\n",
            "   0     1     2     3     4     5     ...  4994  4995  4996  4997  4998  4999\n",
            "0   688     0     0     0     0     0  ...     0     0   494     0   769     0\n",
            "1   778   758     0     0     0     0  ...     0     0     0     0     0     0\n",
            "2   469     0   816     0     0     0  ...     0     0     0   417     0     0\n",
            "3     0     0     0     0     0   571  ...     0     0     0     0     0     0\n",
            "4     0     0     0     0     0     0  ...     0     0     0     0   976     0\n",
            "\n",
            "[5 rows x 5000 columns]\n",
            "\n",
            "\n",
            "Validation set labels:\n",
            "\n",
            "   result\n",
            "0       1\n",
            "1       1\n",
            "2      -1\n",
            "3       1\n",
            "4       1\n",
            "\n",
            "\n",
            "((1000, 5000), (1000, 1))\n",
            "\n",
            "(6000, 5000)\n"
          ]
        }
      ]
    },
    {
      "cell_type": "markdown",
      "metadata": {
        "id": "n8wIjRuKg14m"
      },
      "source": [
        "## **Standard Run- Linear Kernel SVM**"
      ]
    },
    {
      "cell_type": "code",
      "metadata": {
        "colab": {
          "base_uri": "https://localhost:8080/"
        },
        "id": "J8htQx7wec39",
        "outputId": "2018d85c-82a2-4033-d81d-c5d442c44f1e"
      },
      "source": [
        "lin=svm.SVC(kernel='linear')\n",
        "print(train_data.shape,train_data_y.shape)\n",
        "lin.fit(train_data,train_data_y['result'])\n",
        "print(\"Number of support vectors:\")\n",
        "lin.n_support_"
      ],
      "execution_count": 21,
      "outputs": [
        {
          "output_type": "stream",
          "name": "stdout",
          "text": [
            "(6000, 5000) (6000, 1)\n",
            "Number of support vectors:\n"
          ]
        },
        {
          "output_type": "execute_result",
          "data": {
            "text/plain": [
              "array([542, 542], dtype=int32)"
            ]
          },
          "metadata": {},
          "execution_count": 21
        }
      ]
    },
    {
      "cell_type": "markdown",
      "metadata": {
        "id": "RWjpZRkHhAyL"
      },
      "source": [
        "Training Error"
      ]
    },
    {
      "cell_type": "code",
      "metadata": {
        "colab": {
          "base_uri": "https://localhost:8080/"
        },
        "id": "RVV5f4uehAMw",
        "outputId": "5fe8ce19-56c2-458f-ffc5-cd0b9f54d5cd"
      },
      "source": [
        "train_err=1-cross_val_score(lin,train_data,train_data_y['result'],cv=5)\n",
        "print(train_err.mean())"
      ],
      "execution_count": 27,
      "outputs": [
        {
          "output_type": "stream",
          "name": "stdout",
          "text": [
            "0.02733333333333332\n"
          ]
        }
      ]
    },
    {
      "cell_type": "markdown",
      "metadata": {
        "id": "r20LQ2w7lgwD"
      },
      "source": [
        "Accuracy and Test error"
      ]
    },
    {
      "cell_type": "code",
      "metadata": {
        "colab": {
          "base_uri": "https://localhost:8080/"
        },
        "id": "6u1o_EHgGMuc",
        "outputId": "49d45bda-f38e-413d-c99a-026e67e057f5"
      },
      "source": [
        "valid_data_y['predicted']=lin.predict(valid_data)\n",
        "test_acc=metrics.accuracy_score(valid_data_y['result'],valid_data_y['predicted'])\n",
        "acc=np.sum(valid_data_y['result']==valid_data_y['predicted'])/valid_data_y.shape[0]\n",
        "print(f\"Test error= {1-acc}\")\n",
        "print(f\"Accuracy= {test_acc}\")\n",
        "#print(f\"Valid data labels:\\n\\n{valid_data_y}\")\n",
        "\n"
      ],
      "execution_count": 23,
      "outputs": [
        {
          "output_type": "stream",
          "name": "stdout",
          "text": [
            "Test error= 0.02400000000000002\n",
            "Accuracy= 0.976\n"
          ]
        }
      ]
    },
    {
      "cell_type": "markdown",
      "metadata": {
        "id": "EC39MmfSc3DI"
      },
      "source": [
        "## **Kernel Variations- RBF (Gaussian) Kernel**"
      ]
    },
    {
      "cell_type": "code",
      "metadata": {
        "colab": {
          "base_uri": "https://localhost:8080/"
        },
        "id": "9wIKbxKdc3nX",
        "outputId": "bee86210-89cd-43f1-843e-8f750401475a"
      },
      "source": [
        "rbf=svm.SVC(kernel='rbf',gamma=0.001)\n",
        "rbf.fit(train_data,train_data_y)\n",
        "\n",
        "train_err=1-cross_val_score(rbf,train_data,train_data_y,cv=5)\n",
        "print(\"\\n\\nTraining error= \",train_err.mean())\n",
        "\n",
        "valid_data_y['predicted_rbf']=rbf.predict(valid_data)\n",
        "test_accuracy=metrics.accuracy_score(valid_data_y['result'],valid_data_y['predicted_rbf'])\n",
        "acc=np.sum(valid_data_y['result']==valid_data_y['predicted_rbf'])/valid_data_y.shape[0]\n",
        "\n",
        "print(f\"\\nTest error= {1-acc} \\nAccuracy= {test_accuracy}\")\n",
        "print(\"\\nNumber Of Support Vectors= \",rbf.n_support_)\n",
        "#valid_data_y.head()\n",
        "\n"
      ],
      "execution_count": 28,
      "outputs": [
        {
          "output_type": "stream",
          "name": "stderr",
          "text": [
            "/usr/local/lib/python3.7/dist-packages/sklearn/utils/validation.py:760: DataConversionWarning: A column-vector y was passed when a 1d array was expected. Please change the shape of y to (n_samples, ), for example using ravel().\n",
            "  y = column_or_1d(y, warn=True)\n",
            "/usr/local/lib/python3.7/dist-packages/sklearn/utils/validation.py:760: DataConversionWarning: A column-vector y was passed when a 1d array was expected. Please change the shape of y to (n_samples, ), for example using ravel().\n",
            "  y = column_or_1d(y, warn=True)\n",
            "/usr/local/lib/python3.7/dist-packages/sklearn/utils/validation.py:760: DataConversionWarning: A column-vector y was passed when a 1d array was expected. Please change the shape of y to (n_samples, ), for example using ravel().\n",
            "  y = column_or_1d(y, warn=True)\n",
            "/usr/local/lib/python3.7/dist-packages/sklearn/utils/validation.py:760: DataConversionWarning: A column-vector y was passed when a 1d array was expected. Please change the shape of y to (n_samples, ), for example using ravel().\n",
            "  y = column_or_1d(y, warn=True)\n",
            "/usr/local/lib/python3.7/dist-packages/sklearn/utils/validation.py:760: DataConversionWarning: A column-vector y was passed when a 1d array was expected. Please change the shape of y to (n_samples, ), for example using ravel().\n",
            "  y = column_or_1d(y, warn=True)\n",
            "/usr/local/lib/python3.7/dist-packages/sklearn/utils/validation.py:760: DataConversionWarning: A column-vector y was passed when a 1d array was expected. Please change the shape of y to (n_samples, ), for example using ravel().\n",
            "  y = column_or_1d(y, warn=True)\n"
          ]
        },
        {
          "output_type": "stream",
          "name": "stdout",
          "text": [
            "Training error=  0.5\n",
            "Test error= 0.5 \n",
            "Accuracy= 0.5\n",
            "Number Of Support Vectors=  [3000 3000]\n"
          ]
        }
      ]
    },
    {
      "cell_type": "markdown",
      "metadata": {
        "id": "wS8fJQQ4gLKR"
      },
      "source": [
        "## **Kernel Variations- Polynomial Kernel**"
      ]
    },
    {
      "cell_type": "code",
      "metadata": {
        "colab": {
          "base_uri": "https://localhost:8080/"
        },
        "id": "Y73B8JQLgRWc",
        "outputId": "4aa56c9a-98b9-46ec-9da6-30c5414f5c67"
      },
      "source": [
        "poly=svm.SVC(kernel='poly',coef0=0.001,degree=2)\n",
        "poly.fit(train_data,train_data_y)\n",
        "\n",
        "train_err=1-cross_val_score(poly,train_data,train_data_y,cv=5)\n",
        "print(\"Training Error= \",train_err.mean())\n",
        "\n",
        "valid_data_y['predicted_poly']=poly.predict(valid_data)\n",
        "test_err=metrics.accuracy_score(valid_data_y['result'],valid_data_y['predicted_poly'])\n",
        "acc=np.sum(valid_data_y['result']==valid_data_y['predicted_poly'])/valid_data_y.shape[0]\n",
        "\n",
        "print(f\"Test Error= {1-acc}\\nAccuracy= {test_err}\")\n",
        "\n",
        "print(\"Number Of Support Vectors= \",poly.n_support_)"
      ],
      "execution_count": 29,
      "outputs": [
        {
          "output_type": "stream",
          "name": "stderr",
          "text": [
            "/usr/local/lib/python3.7/dist-packages/sklearn/utils/validation.py:760: DataConversionWarning: A column-vector y was passed when a 1d array was expected. Please change the shape of y to (n_samples, ), for example using ravel().\n",
            "  y = column_or_1d(y, warn=True)\n",
            "/usr/local/lib/python3.7/dist-packages/sklearn/utils/validation.py:760: DataConversionWarning: A column-vector y was passed when a 1d array was expected. Please change the shape of y to (n_samples, ), for example using ravel().\n",
            "  y = column_or_1d(y, warn=True)\n",
            "/usr/local/lib/python3.7/dist-packages/sklearn/utils/validation.py:760: DataConversionWarning: A column-vector y was passed when a 1d array was expected. Please change the shape of y to (n_samples, ), for example using ravel().\n",
            "  y = column_or_1d(y, warn=True)\n",
            "/usr/local/lib/python3.7/dist-packages/sklearn/utils/validation.py:760: DataConversionWarning: A column-vector y was passed when a 1d array was expected. Please change the shape of y to (n_samples, ), for example using ravel().\n",
            "  y = column_or_1d(y, warn=True)\n",
            "/usr/local/lib/python3.7/dist-packages/sklearn/utils/validation.py:760: DataConversionWarning: A column-vector y was passed when a 1d array was expected. Please change the shape of y to (n_samples, ), for example using ravel().\n",
            "  y = column_or_1d(y, warn=True)\n",
            "/usr/local/lib/python3.7/dist-packages/sklearn/utils/validation.py:760: DataConversionWarning: A column-vector y was passed when a 1d array was expected. Please change the shape of y to (n_samples, ), for example using ravel().\n",
            "  y = column_or_1d(y, warn=True)\n"
          ]
        },
        {
          "output_type": "stream",
          "name": "stdout",
          "text": [
            "Training Error=  0.023833333333333328\n",
            "Test Error= 0.020000000000000018\n",
            "Accuracy= 0.98\n",
            "Number Of Support Vectors=  [820 937]\n"
          ]
        }
      ]
    }
  ]
}