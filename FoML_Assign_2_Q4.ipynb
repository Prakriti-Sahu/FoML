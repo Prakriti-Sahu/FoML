{
  "nbformat": 4,
  "nbformat_minor": 0,
  "metadata": {
    "colab": {
      "name": "FoML_Assignment-2_Q4.ipynb",
      "provenance": [],
      "collapsed_sections": [
        "VzV9wMA3_s6s",
        "al_zVfxStXkX",
        "32b6Aa-js-__",
        "xyuWmkvHu_YO",
        "-DiBN16_whZs"
      ]
    },
    "kernelspec": {
      "name": "python3",
      "display_name": "Python 3"
    },
    "language_info": {
      "name": "python"
    }
  },
  "cells": [
    {
      "cell_type": "markdown",
      "metadata": {
        "id": "u0tiwjJSryvS"
      },
      "source": [
        "# **Programming Question 4**"
      ]
    },
    {
      "cell_type": "markdown",
      "metadata": {
        "id": "VzV9wMA3_s6s"
      },
      "source": [
        "### **Data Set- Handwritten digits from the processed US Postal Service Zip Code**"
      ]
    },
    {
      "cell_type": "markdown",
      "metadata": {
        "id": "j8a_OCiqr87O"
      },
      "source": [
        "**Getting necessary data**"
      ]
    },
    {
      "cell_type": "code",
      "metadata": {
        "colab": {
          "base_uri": "https://localhost:8080/"
        },
        "id": "DBB2NMZ4rcNd",
        "outputId": "af69f0a8-d534-45ef-d71b-618814278f0b"
      },
      "source": [
        "!wget http://www.amlbook.com/data/zip/features.train\n",
        "!wget http://www.amlbook.com/data/zip/features.test"
      ],
      "execution_count": 2,
      "outputs": [
        {
          "output_type": "stream",
          "name": "stdout",
          "text": [
            "--2021-10-07 18:02:12--  http://www.amlbook.com/data/zip/features.train\n",
            "Resolving www.amlbook.com (www.amlbook.com)... 50.62.137.42\n",
            "Connecting to www.amlbook.com (www.amlbook.com)|50.62.137.42|:80... connected.\n",
            "HTTP request sent, awaiting response... 200 OK\n",
            "Length: 357259 (349K)\n",
            "Saving to: ‘features.train’\n",
            "\n",
            "\rfeatures.train        0%[                    ]       0  --.-KB/s               \rfeatures.train      100%[===================>] 348.89K  --.-KB/s    in 0.09s   \n",
            "\n",
            "2021-10-07 18:02:12 (3.62 MB/s) - ‘features.train’ saved [357259/357259]\n",
            "\n",
            "--2021-10-07 18:02:12--  http://www.amlbook.com/data/zip/features.test\n",
            "Resolving www.amlbook.com (www.amlbook.com)... 50.62.137.42\n",
            "Connecting to www.amlbook.com (www.amlbook.com)|50.62.137.42|:80... connected.\n",
            "HTTP request sent, awaiting response... 200 OK\n",
            "Length: 98343 (96K)\n",
            "Saving to: ‘features.test’\n",
            "\n",
            "features.test       100%[===================>]  96.04K  --.-KB/s    in 0.06s   \n",
            "\n",
            "2021-10-07 18:02:12 (1.52 MB/s) - ‘features.test’ saved [98343/98343]\n",
            "\n"
          ]
        }
      ]
    },
    {
      "cell_type": "markdown",
      "metadata": {
        "id": "tLkZzDPUsJYU"
      },
      "source": [
        "**Importing necessary libraries**"
      ]
    },
    {
      "cell_type": "code",
      "metadata": {
        "id": "kMci4RkasJ0s"
      },
      "source": [
        "import pandas as pd\n",
        "import numpy as np\n",
        "import matplotlib.pyplot as plt\n",
        "import seaborn as sns"
      ],
      "execution_count": 3,
      "outputs": []
    },
    {
      "cell_type": "markdown",
      "metadata": {
        "id": "ei3haTJqrxfw"
      },
      "source": [
        "**Reading the data**"
      ]
    },
    {
      "cell_type": "code",
      "metadata": {
        "colab": {
          "base_uri": "https://localhost:8080/"
        },
        "id": "gnoVFHdIsYBY",
        "outputId": "e5bbd666-d93f-4490-b960-8c852c7ece54"
      },
      "source": [
        "header_list = [\"result\",\"feature1\",\"feature2\"]\n",
        "data=pd.read_csv(\"/content/features.train\",sep='  ',names=header_list)\n",
        "test_data=pd.read_csv(\"/content/features.test\",sep='  ',names=header_list)"
      ],
      "execution_count": 14,
      "outputs": [
        {
          "output_type": "stream",
          "name": "stderr",
          "text": [
            "/usr/local/lib/python3.7/dist-packages/ipykernel_launcher.py:2: ParserWarning: Falling back to the 'python' engine because the 'c' engine does not support regex separators (separators > 1 char and different from '\\s+' are interpreted as regex); you can avoid this warning by specifying engine='python'.\n",
            "  \n",
            "/usr/local/lib/python3.7/dist-packages/ipykernel_launcher.py:3: ParserWarning: Falling back to the 'python' engine because the 'c' engine does not support regex separators (separators > 1 char and different from '\\s+' are interpreted as regex); you can avoid this warning by specifying engine='python'.\n",
            "  This is separate from the ipykernel package so we can avoid doing imports until\n"
          ]
        }
      ]
    },
    {
      "cell_type": "code",
      "metadata": {
        "colab": {
          "base_uri": "https://localhost:8080/",
          "height": 203
        },
        "id": "KdBNEhRk9fg2",
        "outputId": "bf05fe9c-7699-4694-f19f-ef5a5c1af24a"
      },
      "source": [
        "test_data.head()"
      ],
      "execution_count": 15,
      "outputs": [
        {
          "output_type": "execute_result",
          "data": {
            "text/html": [
              "<div>\n",
              "<style scoped>\n",
              "    .dataframe tbody tr th:only-of-type {\n",
              "        vertical-align: middle;\n",
              "    }\n",
              "\n",
              "    .dataframe tbody tr th {\n",
              "        vertical-align: top;\n",
              "    }\n",
              "\n",
              "    .dataframe thead th {\n",
              "        text-align: right;\n",
              "    }\n",
              "</style>\n",
              "<table border=\"1\" class=\"dataframe\">\n",
              "  <thead>\n",
              "    <tr style=\"text-align: right;\">\n",
              "      <th></th>\n",
              "      <th>result</th>\n",
              "      <th>feature1</th>\n",
              "      <th>feature2</th>\n",
              "    </tr>\n",
              "  </thead>\n",
              "  <tbody>\n",
              "    <tr>\n",
              "      <th>0</th>\n",
              "      <td>9.0</td>\n",
              "      <td>0.272178</td>\n",
              "      <td>-4.847937</td>\n",
              "    </tr>\n",
              "    <tr>\n",
              "      <th>1</th>\n",
              "      <td>6.0</td>\n",
              "      <td>0.265133</td>\n",
              "      <td>-5.102000</td>\n",
              "    </tr>\n",
              "    <tr>\n",
              "      <th>2</th>\n",
              "      <td>3.0</td>\n",
              "      <td>0.335926</td>\n",
              "      <td>-2.921562</td>\n",
              "    </tr>\n",
              "    <tr>\n",
              "      <th>3</th>\n",
              "      <td>6.0</td>\n",
              "      <td>0.264850</td>\n",
              "      <td>-4.156625</td>\n",
              "    </tr>\n",
              "    <tr>\n",
              "      <th>4</th>\n",
              "      <td>6.0</td>\n",
              "      <td>0.345338</td>\n",
              "      <td>-6.718438</td>\n",
              "    </tr>\n",
              "  </tbody>\n",
              "</table>\n",
              "</div>"
            ],
            "text/plain": [
              "   result  feature1  feature2\n",
              "0     9.0  0.272178 -4.847937\n",
              "1     6.0  0.265133 -5.102000\n",
              "2     3.0  0.335926 -2.921562\n",
              "3     6.0  0.264850 -4.156625\n",
              "4     6.0  0.345338 -6.718438"
            ]
          },
          "metadata": {},
          "execution_count": 15
        }
      ]
    },
    {
      "cell_type": "markdown",
      "metadata": {
        "id": "BSL1g2n_slJL"
      },
      "source": [
        "**Displaying data**"
      ]
    },
    {
      "cell_type": "code",
      "metadata": {
        "colab": {
          "base_uri": "https://localhost:8080/"
        },
        "id": "U18wLWd7snf4",
        "outputId": "9437f7d8-99e8-4af7-9677-20d71910b910"
      },
      "source": [
        "print(f\"Test data:\\n{test_data.head()}\\n\")\n",
        "print(f\"Train data:\\n{data.head()}\\n\")"
      ],
      "execution_count": 16,
      "outputs": [
        {
          "output_type": "stream",
          "name": "stdout",
          "text": [
            "Test data:\n",
            "   result  feature1  feature2\n",
            "0     9.0  0.272178 -4.847937\n",
            "1     6.0  0.265133 -5.102000\n",
            "2     3.0  0.335926 -2.921562\n",
            "3     6.0  0.264850 -4.156625\n",
            "4     6.0  0.345338 -6.718438\n",
            "\n",
            "Train data:\n",
            "   result  feature1  feature2\n",
            "0     6.0  0.341092 -4.528937\n",
            "1     5.0  0.444131 -5.496812\n",
            "2     4.0  0.231002 -2.886750\n",
            "3     7.0  0.200275 -3.534375\n",
            "4     3.0  0.291936 -4.352062\n",
            "\n"
          ]
        }
      ]
    },
    {
      "cell_type": "markdown",
      "metadata": {
        "id": "JIB-4eiBsyE6"
      },
      "source": [
        "**Processing the data**"
      ]
    },
    {
      "cell_type": "code",
      "metadata": {
        "id": "54a5t2kcsyw1"
      },
      "source": [
        "#print(data[data['result']==1].shape[0])\n",
        "#print(data[data['result']==5].shape[0])\n",
        "\n",
        "data1=data[data['result']==1]\n",
        "data5=data[data['result']==5]\n",
        "data1=data1.append(data5)\n",
        "data=data1\n",
        "data.reset_index(drop=True,inplace=True)\n",
        "\n",
        "#print(f\"\\nTrain data:\\n{data.head()}\\n\")\n",
        "\n",
        "data1=test_data[test_data['result']==1]\n",
        "data5=test_data[test_data['result']==5]\n",
        "data1=data1.append(data5)\n",
        "test_data=data1\n",
        "test_data.reset_index(drop=True,inplace=True)\n",
        "\n",
        "#print(f\"Test data:\\n{test_data.head()}\\n\")"
      ],
      "execution_count": 17,
      "outputs": []
    },
    {
      "cell_type": "markdown",
      "metadata": {
        "id": "al_zVfxStXkX"
      },
      "source": [
        "# **Part (a)**"
      ]
    },
    {
      "cell_type": "code",
      "metadata": {
        "colab": {
          "base_uri": "https://localhost:8080/"
        },
        "id": "69B6D8UGtX9g",
        "outputId": "c4e87241-a3cc-4919-92f6-26d0d63d3d34"
      },
      "source": [
        "from sklearn import svm\n",
        "\n",
        "lin_clf=svm.SVC(kernel='linear')  #Using a linear kernel SVM\n",
        "\n",
        "X=data[['feature1','feature2']]\n",
        "Y=data['result']\n",
        "\n",
        "lin_clf.fit(X,Y)\n",
        "\n",
        "test_data1=test_data\n",
        "test_data1['predicted_output']=lin_clf.predict(test_data[['feature1','feature2']])\n",
        "\n",
        "test_data1.head()\n",
        "\n",
        "#accuracy calculation\n",
        "accuracy=np.sum(test_data1['predicted_output']==test_data1['result'])/test_data1.shape[0]\n",
        "print(f\"Accuracy of linear kernel SVM is:\\n\\n{accuracy}\")\n",
        "print(\"Total support vectors (for each class):\",lin_clf.n_support_)"
      ],
      "execution_count": 18,
      "outputs": [
        {
          "output_type": "stream",
          "name": "stdout",
          "text": [
            "Accuracy of linear kernel SVM is:\n",
            "\n",
            "0.9787735849056604\n",
            "Total support vectors (for each class): [14 14]\n"
          ]
        }
      ]
    },
    {
      "cell_type": "markdown",
      "metadata": {
        "id": "32b6Aa-js-__"
      },
      "source": [
        "# **Part (b)**"
      ]
    },
    {
      "cell_type": "code",
      "metadata": {
        "colab": {
          "base_uri": "https://localhost:8080/"
        },
        "id": "5blwEpd_s_gt",
        "outputId": "ca004a55-3c09-4da1-9f55-3417a5bf92d9"
      },
      "source": [
        "data1=data.sample(frac=1)\n",
        "data1.head()\n",
        "\n",
        "size_list={50,100,200,800}\n",
        "accuracy_list=[]\n",
        "sv=[]\n",
        "\n",
        "pacc = {} #number of points and accuracy pair\n",
        "psv = {} #number of points and number of support vectors pair\n",
        "\n",
        "\n",
        "for i in size_list:\n",
        "  #Assigning Size of the Trainig Data\n",
        "  train_data=data1[:i]\n",
        "  #linear Classifier\n",
        "  lin_clf=svm.SVC(kernel='linear')\n",
        "  #preparing Data To Give Input to the Algorithm\n",
        "  X=train_data[['feature1','feature2']]\n",
        "  Y=train_data['result']\n",
        "  #Training The Model\n",
        "  lin_clf.fit(X,Y)\n",
        "  test_data1=test_data\n",
        "  test_data1['predicted_output']=lin_clf.predict(test_data1[['feature1','feature2']])\n",
        "  accuracy=np.sum(test_data1['predicted_output']==test_data1['result'])/test_data1.shape[0]\n",
        "  accuracy_list.append(accuracy)\n",
        "  pacc.update( {i:accuracy} )\n",
        "  #Appending #Support Vectors\n",
        "  s=lin_clf.n_support_\n",
        "  psv.update({i:s[0]+s[1]})\n",
        "\n",
        "print(\"Accuracy list: \",pacc)\n",
        "print(\"\\nNumber of support vectors list: \",psv)"
      ],
      "execution_count": 19,
      "outputs": [
        {
          "output_type": "stream",
          "name": "stdout",
          "text": [
            "Accuracy list:  {200: 0.9764150943396226, 50: 0.9740566037735849, 800: 0.9787735849056604, 100: 0.9740566037735849}\n",
            "\n",
            "Number of support vectors list:  {200: 6, 50: 4, 800: 16, 100: 4}\n"
          ]
        }
      ]
    },
    {
      "cell_type": "markdown",
      "metadata": {
        "id": "xyuWmkvHu_YO"
      },
      "source": [
        "# **Part (c)**"
      ]
    },
    {
      "cell_type": "code",
      "metadata": {
        "id": "Ntc26aNLu_7j"
      },
      "source": [
        "from sklearn.metrics import classification_report,confusion_matrix\n",
        "from sklearn.model_selection import cross_val_score"
      ],
      "execution_count": 20,
      "outputs": []
    },
    {
      "cell_type": "markdown",
      "metadata": {
        "id": "5ZYEb1CivI84"
      },
      "source": [
        "**(i) C = 0.0001, training error**"
      ]
    },
    {
      "cell_type": "code",
      "metadata": {
        "colab": {
          "base_uri": "https://localhost:8080/"
        },
        "id": "LblR6YUBvKNy",
        "outputId": "b3a2e282-8e5b-43a4-8867-d40abaa0ead4"
      },
      "source": [
        "poly_clf_2=svm.SVC(kernel='poly',degree=2,C=0.0001)\n",
        "poly_clf_5=svm.SVC(kernel='poly',degree=5,C=0.0001)\n",
        "\n",
        "X=data[['feature1','feature2']]\n",
        "Y=data['result']\n",
        "\n",
        "poly_clf_2.fit(X,Y)\n",
        "poly_clf_5.fit(X,Y)\n",
        "\n",
        "score_2=cross_val_score(poly_clf_2,X,Y,cv=5)\n",
        "score_5=cross_val_score(poly_clf_5,X,Y,cv=5)\n",
        "\n",
        "print(\"Training Error for Q=2:\",score_2.mean())\n",
        "print(\"Training Error for Q=5:\" ,score_5.mean())\n"
      ],
      "execution_count": 21,
      "outputs": [
        {
          "output_type": "stream",
          "name": "stdout",
          "text": [
            "Training Error for Q=2: 0.6470242483820758\n",
            "Training Error for Q=5: 0.940431719505202\n"
          ]
        }
      ]
    },
    {
      "cell_type": "markdown",
      "metadata": {
        "id": "EJlkeMMPvgXl"
      },
      "source": [
        "**(ii) C=0.001, number of support vectors**"
      ]
    },
    {
      "cell_type": "code",
      "metadata": {
        "colab": {
          "base_uri": "https://localhost:8080/"
        },
        "id": "4QOmVaYMvgwG",
        "outputId": "f6834186-f561-4145-9dce-27d8d6179ca4"
      },
      "source": [
        "poly_clf_2=svm.SVC(kernel='poly',degree=2,C=0.001)\n",
        "poly_clf_5=svm.SVC(kernel='poly',degree=5,C=0.001)\n",
        "X=data[['feature1','feature2']]\n",
        "Y=data['result']\n",
        "poly_clf_2.fit(X,Y)\n",
        "poly_clf_5.fit(X,Y)\n",
        "score_2=cross_val_score(poly_clf_2,X,Y,cv=5)\n",
        "score_5=cross_val_score(poly_clf_5,X,Y,cv=5)\n",
        "\n",
        "print(\"Number of support vectors for Q=2:\", poly_clf_2.n_support_)\n",
        "print(\"Number of support vectors for Q=5:\",poly_clf_5.n_support_)\n"
      ],
      "execution_count": 22,
      "outputs": [
        {
          "output_type": "stream",
          "name": "stdout",
          "text": [
            "Number of support vectors for Q=2: [279 279]\n",
            "Number of support vectors for Q=5: [79 79]\n"
          ]
        }
      ]
    },
    {
      "cell_type": "markdown",
      "metadata": {
        "id": "Kx0ci8r9wAyM"
      },
      "source": [
        "**(iii) C=0.1, training error**"
      ]
    },
    {
      "cell_type": "code",
      "metadata": {
        "colab": {
          "base_uri": "https://localhost:8080/"
        },
        "id": "8gErrOnJwBIF",
        "outputId": "6825d8d5-d62a-4a15-c7b4-a7249d6d36d6"
      },
      "source": [
        "poly_clf_2=svm.SVC(kernel='poly',degree=2,C=0.01)\n",
        "poly_clf_5=svm.SVC(kernel='poly',degree=5,C=0.01)\n",
        "X=data[['feature1','feature2']]\n",
        "Y=data['result']\n",
        "poly_clf_2.fit(X,Y)\n",
        "poly_clf_5.fit(X,Y)\n",
        "score_2=cross_val_score(poly_clf_2,X,Y,cv=5)\n",
        "score_5=cross_val_score(poly_clf_5,X,Y,cv=5)\n",
        "\n",
        "print(\"Training error for Q=2:\",1-score_2.mean())\n",
        "print(\"Training error for Q=5:\",1-score_5.mean())\n"
      ],
      "execution_count": 23,
      "outputs": [
        {
          "output_type": "stream",
          "name": "stdout",
          "text": [
            "Training error for Q=2: 0.008325141312361728\n",
            "Training error for Q=5: 0.008966166953387478\n"
          ]
        }
      ]
    },
    {
      "cell_type": "markdown",
      "metadata": {
        "id": "JjsG_owzwObe"
      },
      "source": [
        "**(iv) C=1, test error**"
      ]
    },
    {
      "cell_type": "code",
      "metadata": {
        "colab": {
          "base_uri": "https://localhost:8080/"
        },
        "id": "iGq52nT7wXti",
        "outputId": "f3671546-df92-4fbe-f52f-b2efdfc49091"
      },
      "source": [
        "poly_clf_2=svm.SVC(kernel='poly',degree=2,C=0.01)\n",
        "poly_clf_5=svm.SVC(kernel='poly',degree=5,C=0.01)\n",
        "X=data[['feature1','feature2']]\n",
        "Y=data['result']\n",
        "poly_clf_2.fit(X,Y)\n",
        "poly_clf_5.fit(X,Y)\n",
        "score_2=cross_val_score(poly_clf_2,X,Y,cv=5)\n",
        "score_5=cross_val_score(poly_clf_5,X,Y,cv=5)\n",
        "\n",
        "test_data2=test_data\n",
        "\n",
        "test_data2['predicted_output_2']=poly_clf_2.predict(test_data2[['feature1','feature2']])\n",
        "accuracy_2=np.sum(test_data2['predicted_output_2']==test_data2['result'])/test_data2.shape[0]\n",
        "test_data2['predicted_output_5']=poly_clf_5.predict(test_data2[['feature1','feature2']])\n",
        "accuracy_5=np.sum(test_data2['predicted_output_5']==test_data2['result'])/test_data2.shape[0]\n",
        "\n",
        "print(\"Test error for Q=2: \",1-accuracy_2)\n",
        "print(\"Test error for Q=5: \",1-accuracy_5)"
      ],
      "execution_count": 24,
      "outputs": [
        {
          "output_type": "stream",
          "name": "stdout",
          "text": [
            "Test error for Q=2:  0.021226415094339646\n",
            "Test error for Q=5:  0.021226415094339646\n"
          ]
        }
      ]
    },
    {
      "cell_type": "markdown",
      "metadata": {
        "id": "-DiBN16_whZs"
      },
      "source": [
        "# **Part (d)**"
      ]
    },
    {
      "cell_type": "code",
      "metadata": {
        "colab": {
          "base_uri": "https://localhost:8080/"
        },
        "id": "yPEyYf0Dwktw",
        "outputId": "0a9542c6-9665-4b6d-a753-3c9437914eee"
      },
      "source": [
        "from sklearn import metrics\n",
        "\n",
        "C =[0.01, 1, 100, 10**4,10**6]\n",
        "training_error=[]\n",
        "test_error=[]\n",
        "for i in C:\n",
        "  rbf_clf=svm.SVC(kernel='rbf',C=i)\n",
        "  X=data[['feature1','feature2']]\n",
        "  Y=data['result']\n",
        "  rbf_clf.fit(X,Y)\n",
        "  train_err=1-cross_val_score(rbf_clf,X,Y,cv=5)\n",
        "  training_error.append(train_err.mean())\n",
        "  pred=rbf_clf.predict(test_data[['feature1','feature2']])\n",
        "  test_error.append(1-metrics.accuracy_score(test_data['result'],pred))\n",
        "\n",
        "i=0\n",
        "print(\"Training error at:\\n\")\n",
        "for item in C:\n",
        "    print(f\"C={item}: {training_error[i]}\")\n",
        "    i+=1\n",
        "\n",
        "i=0\n",
        "print(\"\\n\\nTest error at:\\n\")\n",
        "for item in C:\n",
        "    print(f\"C={item}: {test_error[i]}\")\n",
        "    i+=1\n",
        "\n",
        "print(\"\\n\\nMinimum training error is at C:= \",C[np.argmin(training_error)])\n",
        "print(\"Minimum test error is at C:= \",C[np.argmin(test_error)])\n"
      ],
      "execution_count": 25,
      "outputs": [
        {
          "output_type": "stream",
          "name": "stdout",
          "text": [
            "Training error at:\n",
            "\n",
            "C=0.01: 0.005124109117719322\n",
            "C=1: 0.005126157122962227\n",
            "C=100: 0.005126157122962227\n",
            "C=10000: 0.005767182763987888\n",
            "C=1000000: 0.005767182763987888\n",
            "\n",
            "\n",
            "Test error at:\n",
            "\n",
            "C=0.01: 0.01650943396226412\n",
            "C=1: 0.021226415094339646\n",
            "C=100: 0.018867924528301883\n",
            "C=10000: 0.018867924528301883\n",
            "C=1000000: 0.02358490566037741\n",
            "\n",
            "\n",
            "Minimum training error is at C:=  0.01\n",
            "Minimum test error is at C:=  0.01\n"
          ]
        }
      ]
    }
  ]
}