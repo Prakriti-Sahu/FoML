{
  "nbformat": 4,
  "nbformat_minor": 0,
  "metadata": {
    "colab": {
      "name": "assign-4_q5.ipynb",
      "provenance": [],
      "collapsed_sections": [],
      "include_colab_link": true
    },
    "kernelspec": {
      "name": "python3",
      "display_name": "Python 3"
    },
    "language_info": {
      "name": "python"
    }
  },
  "cells": [
    {
      "cell_type": "markdown",
      "metadata": {
        "id": "view-in-github",
        "colab_type": "text"
      },
      "source": [
        "<a href=\"https://colab.research.google.com/github/Prakriti-Sahu/FoML/blob/main/assign-4_q5.ipynb\" target=\"_parent\"><img src=\"https://colab.research.google.com/assets/colab-badge.svg\" alt=\"Open In Colab\"/></a>"
      ]
    },
    {
      "cell_type": "markdown",
      "metadata": {
        "id": "Wld1VKg9FGFj"
      },
      "source": [
        "# **Q5. Logistic Regression**"
      ]
    },
    {
      "cell_type": "markdown",
      "metadata": {
        "id": "3pS6RTaHEsq0"
      },
      "source": [
        "**Importing necessary libraries**"
      ]
    },
    {
      "cell_type": "code",
      "metadata": {
        "id": "RX_Eik782YXH"
      },
      "source": [
        "import pandas as pd\n",
        "import numpy as np\n",
        "import seaborn as sns\n",
        "import matplotlib.pyplot as plt\n",
        "from sklearn.metrics import accuracy_score, classification_report"
      ],
      "execution_count": 1,
      "outputs": []
    },
    {
      "cell_type": "markdown",
      "metadata": {
        "id": "-AFWYGxIEiz3"
      },
      "source": [
        "**Train data and Test data entered**"
      ]
    },
    {
      "cell_type": "code",
      "metadata": {
        "id": "xs6c-iJZ9p72",
        "colab": {
          "base_uri": "https://localhost:8080/",
          "height": 234
        },
        "outputId": "d2cf3a81-983d-4fde-e0a2-7c93126f2f6c"
      },
      "source": [
        "d=np.array([[0.346,0.780,0],[0.303,0.439,0],[0.358,0.729,0],[0.602,0.863,1],[0.790,0.753,1],[0.611,0.965,1]])\n",
        "train_data=pd.DataFrame(data=d, columns=['x1','x2','y'])\n",
        "train_data"
      ],
      "execution_count": 4,
      "outputs": [
        {
          "output_type": "execute_result",
          "data": {
            "text/html": [
              "<div>\n",
              "<style scoped>\n",
              "    .dataframe tbody tr th:only-of-type {\n",
              "        vertical-align: middle;\n",
              "    }\n",
              "\n",
              "    .dataframe tbody tr th {\n",
              "        vertical-align: top;\n",
              "    }\n",
              "\n",
              "    .dataframe thead th {\n",
              "        text-align: right;\n",
              "    }\n",
              "</style>\n",
              "<table border=\"1\" class=\"dataframe\">\n",
              "  <thead>\n",
              "    <tr style=\"text-align: right;\">\n",
              "      <th></th>\n",
              "      <th>x1</th>\n",
              "      <th>x2</th>\n",
              "      <th>y</th>\n",
              "    </tr>\n",
              "  </thead>\n",
              "  <tbody>\n",
              "    <tr>\n",
              "      <th>0</th>\n",
              "      <td>0.346</td>\n",
              "      <td>0.780</td>\n",
              "      <td>0.0</td>\n",
              "    </tr>\n",
              "    <tr>\n",
              "      <th>1</th>\n",
              "      <td>0.303</td>\n",
              "      <td>0.439</td>\n",
              "      <td>0.0</td>\n",
              "    </tr>\n",
              "    <tr>\n",
              "      <th>2</th>\n",
              "      <td>0.358</td>\n",
              "      <td>0.729</td>\n",
              "      <td>0.0</td>\n",
              "    </tr>\n",
              "    <tr>\n",
              "      <th>3</th>\n",
              "      <td>0.602</td>\n",
              "      <td>0.863</td>\n",
              "      <td>1.0</td>\n",
              "    </tr>\n",
              "    <tr>\n",
              "      <th>4</th>\n",
              "      <td>0.790</td>\n",
              "      <td>0.753</td>\n",
              "      <td>1.0</td>\n",
              "    </tr>\n",
              "    <tr>\n",
              "      <th>5</th>\n",
              "      <td>0.611</td>\n",
              "      <td>0.965</td>\n",
              "      <td>1.0</td>\n",
              "    </tr>\n",
              "  </tbody>\n",
              "</table>\n",
              "</div>"
            ],
            "text/plain": [
              "      x1     x2    y\n",
              "0  0.346  0.780  0.0\n",
              "1  0.303  0.439  0.0\n",
              "2  0.358  0.729  0.0\n",
              "3  0.602  0.863  1.0\n",
              "4  0.790  0.753  1.0\n",
              "5  0.611  0.965  1.0"
            ]
          },
          "metadata": {},
          "execution_count": 4
        }
      ]
    },
    {
      "cell_type": "code",
      "metadata": {
        "colab": {
          "base_uri": "https://localhost:8080/",
          "height": 234
        },
        "id": "5QJCCTBQwz6N",
        "outputId": "a05512e6-4bd6-47f3-ab13-69b69b76d647"
      },
      "source": [
        "te=np.array([[0.959,0.382,0],[0.750,0.306,0],[0.395,0.760,0],[0.823,0.764,1],[0.761,0.874,1],[0.844,0.435,1]])\n",
        "test_data=pd.DataFrame(data=te, columns=['x1','x2','y'])\n",
        "test_data"
      ],
      "execution_count": 5,
      "outputs": [
        {
          "output_type": "execute_result",
          "data": {
            "text/html": [
              "<div>\n",
              "<style scoped>\n",
              "    .dataframe tbody tr th:only-of-type {\n",
              "        vertical-align: middle;\n",
              "    }\n",
              "\n",
              "    .dataframe tbody tr th {\n",
              "        vertical-align: top;\n",
              "    }\n",
              "\n",
              "    .dataframe thead th {\n",
              "        text-align: right;\n",
              "    }\n",
              "</style>\n",
              "<table border=\"1\" class=\"dataframe\">\n",
              "  <thead>\n",
              "    <tr style=\"text-align: right;\">\n",
              "      <th></th>\n",
              "      <th>x1</th>\n",
              "      <th>x2</th>\n",
              "      <th>y</th>\n",
              "    </tr>\n",
              "  </thead>\n",
              "  <tbody>\n",
              "    <tr>\n",
              "      <th>0</th>\n",
              "      <td>0.959</td>\n",
              "      <td>0.382</td>\n",
              "      <td>0.0</td>\n",
              "    </tr>\n",
              "    <tr>\n",
              "      <th>1</th>\n",
              "      <td>0.750</td>\n",
              "      <td>0.306</td>\n",
              "      <td>0.0</td>\n",
              "    </tr>\n",
              "    <tr>\n",
              "      <th>2</th>\n",
              "      <td>0.395</td>\n",
              "      <td>0.760</td>\n",
              "      <td>0.0</td>\n",
              "    </tr>\n",
              "    <tr>\n",
              "      <th>3</th>\n",
              "      <td>0.823</td>\n",
              "      <td>0.764</td>\n",
              "      <td>1.0</td>\n",
              "    </tr>\n",
              "    <tr>\n",
              "      <th>4</th>\n",
              "      <td>0.761</td>\n",
              "      <td>0.874</td>\n",
              "      <td>1.0</td>\n",
              "    </tr>\n",
              "    <tr>\n",
              "      <th>5</th>\n",
              "      <td>0.844</td>\n",
              "      <td>0.435</td>\n",
              "      <td>1.0</td>\n",
              "    </tr>\n",
              "  </tbody>\n",
              "</table>\n",
              "</div>"
            ],
            "text/plain": [
              "      x1     x2    y\n",
              "0  0.959  0.382  0.0\n",
              "1  0.750  0.306  0.0\n",
              "2  0.395  0.760  0.0\n",
              "3  0.823  0.764  1.0\n",
              "4  0.761  0.874  1.0\n",
              "5  0.844  0.435  1.0"
            ]
          },
          "metadata": {},
          "execution_count": 5
        }
      ]
    },
    {
      "cell_type": "markdown",
      "metadata": {
        "id": "TLPAfVts-0pU"
      },
      "source": [
        "### **Logistic Regresseion Model**"
      ]
    },
    {
      "cell_type": "markdown",
      "metadata": {
        "id": "ulJ6GIsUGFQi"
      },
      "source": [
        "**Defining necessary functions**"
      ]
    },
    {
      "cell_type": "code",
      "metadata": {
        "id": "GzbQ8suQ-4SH"
      },
      "source": [
        "# Sigmoid function\n",
        "def sigmoid(x):\n",
        "  return 1.0/(1.0+np.exp(-x))\n",
        "\n",
        "\n",
        "# Hypothesis function\n",
        "def hypothesis(X,theta):\n",
        " return sigmoid(np.dot(X,theta))\n",
        "\n",
        "\n",
        "# Cross Entropy Error = (y*log(y_) +(1-y)*log(1-y_))/n\n",
        "def error(X,y,theta):  \n",
        "  h_i=hypothesis(X,theta)\n",
        "  error=-1*np.mean((y*np.log(h_i)+(1-y)*np.log(1-h_i))) \n",
        "\n",
        "  return error\n",
        "\n",
        "\n",
        "# updating gradient\n",
        "def gradient(X,y,theta):\n",
        "  h_i=hypothesis(X,theta)\n",
        "  grad=-np.dot(X.T,y-h_i)\n",
        "  m=X.shape[0]\n",
        "\n",
        "  return grad/m\n",
        "\n",
        "\n",
        "#Gradient Descent\n",
        "def gradient_descent(X,y,lr=0.1,max_itr=800):\n",
        "  n=X.shape[1]\n",
        "  #theta=np.zeros((n,1))\n",
        "  theta=np.array([-1,1.5,0.5]).reshape((-1,1))\n",
        "  print(\"Initial Theta:\\n\",theta)\n",
        "  errlist=[]\n",
        "\n",
        "  for i in range(max_itr):    \n",
        "    err=error(X,y,theta)\n",
        "    errlist.append(err)\n",
        "    grad=gradient(X,y,theta)\n",
        "    theta=theta-lr*grad\n",
        "    if(i==0):\n",
        "      print(\"\\n\\nAfter 1st Iteration:\\n\",theta)\n",
        "\n",
        "  return (theta,errlist)"
      ],
      "execution_count": 6,
      "outputs": []
    },
    {
      "cell_type": "markdown",
      "metadata": {
        "id": "jL0P78_RwuNW"
      },
      "source": [
        "###**Training**"
      ]
    },
    {
      "cell_type": "markdown",
      "metadata": {
        "id": "0QbZjS3Ewzlc"
      },
      "source": [
        "Adding Bias"
      ]
    },
    {
      "cell_type": "code",
      "metadata": {
        "id": "_X_skVE6AmX8",
        "colab": {
          "base_uri": "https://localhost:8080/"
        },
        "outputId": "6b8b02c8-3770-4198-8127-9fcff501b384"
      },
      "source": [
        "ones=np.ones((train_data.shape[0],1))\n",
        "train_data=np.hstack((ones,train_data))\n",
        "print(train_data)"
      ],
      "execution_count": 7,
      "outputs": [
        {
          "output_type": "stream",
          "name": "stdout",
          "text": [
            "[[1.    0.346 0.78  0.   ]\n",
            " [1.    0.303 0.439 0.   ]\n",
            " [1.    0.358 0.729 0.   ]\n",
            " [1.    0.602 0.863 1.   ]\n",
            " [1.    0.79  0.753 1.   ]\n",
            " [1.    0.611 0.965 1.   ]]\n"
          ]
        }
      ]
    },
    {
      "cell_type": "markdown",
      "metadata": {
        "id": "MlH4obmbHxlo"
      },
      "source": [
        "Reshaping for dot product"
      ]
    },
    {
      "cell_type": "code",
      "metadata": {
        "id": "kBdv5OIpQfxz",
        "colab": {
          "base_uri": "https://localhost:8080/"
        },
        "outputId": "5c8c037b-5409-4442-cacd-46e0b8008548"
      },
      "source": [
        "theta,errlist=gradient_descent(train_data[:,:-1],train_data[:,-1].reshape((-1,1))) "
      ],
      "execution_count": 8,
      "outputs": [
        {
          "output_type": "stream",
          "name": "stdout",
          "text": [
            "Initial Theta:\n",
            " [[-1. ]\n",
            " [ 1.5]\n",
            " [ 0.5]]\n",
            "\n",
            "\n",
            "After 1st Iteration:\n",
            " [[-1.00316626]\n",
            " [ 1.50535086]\n",
            " [ 0.50196867]]\n"
          ]
        }
      ]
    },
    {
      "cell_type": "markdown",
      "metadata": {
        "id": "xb1Ai6LoHo4g"
      },
      "source": [
        "Error Plot"
      ]
    },
    {
      "cell_type": "code",
      "metadata": {
        "colab": {
          "base_uri": "https://localhost:8080/",
          "height": 279
        },
        "id": "E-dm2C2IQzHj",
        "outputId": "7f467537-ae0a-4c54-f913-6b3f2ea3663b"
      },
      "source": [
        "plt.plot(errlist) \n",
        "plt.xlabel('Iteration')\n",
        "plt.ylabel('Error')\n",
        "plt.show()"
      ],
      "execution_count": 9,
      "outputs": [
        {
          "output_type": "display_data",
          "data": {
            "image/png": "[encoded data removed]",
            "text/plain": [
              "<Figure size 432x288 with 1 Axes>"
            ]
          },
          "metadata": {
            "needs_background": "light"
          }
        }
      ]
    },
    {
      "cell_type": "code",
      "metadata": {
        "colab": {
          "base_uri": "https://localhost:8080/"
        },
        "id": "USfR6WVdRP4b",
        "outputId": "5470f33d-aeaf-4fa5-f1c7-e626d999c51e"
      },
      "source": [
        "print(\"Theta is:\\n\",theta)        # after 800 iterations"
      ],
      "execution_count": 10,
      "outputs": [
        {
          "output_type": "stream",
          "name": "stdout",
          "text": [
            "Theta is:\n",
            " [[-3.36112592]\n",
            " [ 4.74111282]\n",
            " [ 1.45603588]]\n"
          ]
        }
      ]
    },
    {
      "cell_type": "markdown",
      "metadata": {
        "id": "eaFxamLEx_tC"
      },
      "source": [
        "Train Data Plot - Line is separating the classes"
      ]
    },
    {
      "cell_type": "code",
      "metadata": {
        "colab": {
          "base_uri": "https://localhost:8080/",
          "height": 350
        },
        "id": "kMf-48W1RZ_s",
        "outputId": "2d3e5711-00bc-4fad-e0d3-816174ccca1c"
      },
      "source": [
        "t=pd.DataFrame(train_data,columns=['1','x1','x2','y'])\n",
        "x_1=np.linspace(0.2,0.9)\n",
        "x_2=-(theta[0]+theta[1]*x_1)/theta[2]\n",
        "plt.plot(x_1,x_2)\n",
        "sns.scatterplot(t.x1,t.x2,hue=t.y,data=train_data)"
      ],
      "execution_count": 11,
      "outputs": [
        {
          "output_type": "stream",
          "name": "stderr",
          "text": [
            "/usr/local/lib/python3.7/dist-packages/seaborn/_decorators.py:43: FutureWarning: Pass the following variables as keyword args: x, y. From version 0.12, the only valid positional argument will be `data`, and passing other arguments without an explicit keyword will result in an error or misinterpretation.\n",
            "  FutureWarning\n"
          ]
        },
        {
          "output_type": "execute_result",
          "data": {
            "text/plain": [
              "<matplotlib.axes._subplots.AxesSubplot at 0x7f0269d00ad0>"
            ]
          },
          "metadata": {},
          "execution_count": 11
        },
        {
          "output_type": "display_data",
          "data": {
            "image/png": "[encoded data removed]",
            "text/plain": [
              "<Figure size 432x288 with 1 Axes>"
            ]
          },
          "metadata": {
            "needs_background": "light"
          }
        }
      ]
    },
    {
      "cell_type": "markdown",
      "metadata": {
        "id": "URM3TqyzyJY8"
      },
      "source": [
        "Test Data Plot - There is misclassification"
      ]
    },
    {
      "cell_type": "code",
      "metadata": {
        "colab": {
          "base_uri": "https://localhost:8080/",
          "height": 296
        },
        "id": "oqLOUrMvUf24",
        "outputId": "3ef60485-d140-45c2-9f1d-ad318399416a"
      },
      "source": [
        "x_1=np.linspace(0.2,0.9)\n",
        "x_2=-(theta[0]+theta[1]*x_1)/theta[2]\n",
        "plt.plot(x_1,x_2)\n",
        "sns.scatterplot(x='x1',y='x2',hue='y',data=test_data)"
      ],
      "execution_count": 12,
      "outputs": [
        {
          "output_type": "execute_result",
          "data": {
            "text/plain": [
              "<matplotlib.axes._subplots.AxesSubplot at 0x7f02691dc910>"
            ]
          },
          "metadata": {},
          "execution_count": 12
        },
        {
          "output_type": "display_data",
          "data": {
            "image/png": "[encoded data removed]",
            "text/plain": [
              "<Figure size 432x288 with 1 Axes>"
            ]
          },
          "metadata": {
            "needs_background": "light"
          }
        }
      ]
    },
    {
      "cell_type": "markdown",
      "metadata": {
        "id": "rp0FLVHNzE21"
      },
      "source": [
        "###**Testing**"
      ]
    },
    {
      "cell_type": "code",
      "metadata": {
        "id": "LAHEweEQtbW3",
        "colab": {
          "base_uri": "https://localhost:8080/"
        },
        "outputId": "72f0e422-193a-450f-a9bb-645d340cda55"
      },
      "source": [
        "ones=np.ones((test_data.shape[0],1))\n",
        "test_data_1=np.hstack((ones,test_data))\n",
        "test_data_1"
      ],
      "execution_count": 13,
      "outputs": [
        {
          "output_type": "execute_result",
          "data": {
            "text/plain": [
              "array([[1.   , 0.959, 0.382, 0.   ],\n",
              "       [1.   , 0.75 , 0.306, 0.   ],\n",
              "       [1.   , 0.395, 0.76 , 0.   ],\n",
              "       [1.   , 0.823, 0.764, 1.   ],\n",
              "       [1.   , 0.761, 0.874, 1.   ],\n",
              "       [1.   , 0.844, 0.435, 1.   ]])"
            ]
          },
          "metadata": {},
          "execution_count": 13
        }
      ]
    },
    {
      "cell_type": "code",
      "metadata": {
        "id": "9FHRd_Wzsymu",
        "colab": {
          "base_uri": "https://localhost:8080/"
        },
        "outputId": "17f0e233-18ab-49e1-f457-28e943694a66"
      },
      "source": [
        "y_pred=[]\n",
        "for i in range(test_data.shape[0]):\n",
        "  y_=hypothesis(test_data_1[i,:-1],theta)\n",
        "  if(y_<=0.5):\n",
        "    y_pred.append(0)\n",
        "  else:\n",
        "    y_pred.append(1)\n",
        "\n",
        "\n",
        "k=test_data.y\n",
        "\n",
        "print(\"Predicted 'y' value for test data set: \",y_pred)\n",
        "print(\"Actual 'y' value of test data set: \", list(k.astype(int)))\n",
        "acc=accuracy_score(test_data.y,y_pred)\n",
        "print(\"\\nTest Accuracy: \",acc)"
      ],
      "execution_count": 14,
      "outputs": [
        {
          "output_type": "stream",
          "name": "stdout",
          "text": [
            "Predicted 'y' value for test data set:  [1, 1, 0, 1, 1, 1]\n",
            "Actual 'y' value of test data set:  [0, 0, 0, 1, 1, 1]\n",
            "\n",
            "Test Accuracy:  0.6666666666666666\n"
          ]
        }
      ]
    },
    {
      "cell_type": "markdown",
      "metadata": {
        "id": "HLlrXpgbb6-2"
      },
      "source": [
        "**Accuracy, Precision, Recall**"
      ]
    },
    {
      "cell_type": "code",
      "metadata": {
        "colab": {
          "base_uri": "https://localhost:8080/"
        },
        "id": "Ulg37NTXaqMW",
        "outputId": "0b4d24ff-89c4-4a92-bb7c-2f607d5f77de"
      },
      "source": [
        "print (classification_report(test_data.y, y_pred))"
      ],
      "execution_count": 15,
      "outputs": [
        {
          "output_type": "stream",
          "name": "stdout",
          "text": [
            "              precision    recall  f1-score   support\n",
            "\n",
            "         0.0       1.00      0.33      0.50         3\n",
            "         1.0       0.60      1.00      0.75         3\n",
            "\n",
            "    accuracy                           0.67         6\n",
            "   macro avg       0.80      0.67      0.62         6\n",
            "weighted avg       0.80      0.67      0.62         6\n",
            "\n"
          ]
        }
      ]
    }
  ]
}