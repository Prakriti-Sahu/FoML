{
  "nbformat": 4,
  "nbformat_minor": 0,
  "metadata": {
    "colab": {
      "name": "ML_Assignment-3_Q5_Gradient-boosting",
      "provenance": [],
      "authorship_tag": "ABX9TyO2aDaxizbv4mAWV9GgQPyg",
      "include_colab_link": true
    },
    "kernelspec": {
      "name": "python3",
      "display_name": "Python 3"
    },
    "language_info": {
      "name": "python"
    }
  },
  "cells": [
    {
      "cell_type": "markdown",
      "metadata": {
        "id": "view-in-github",
        "colab_type": "text"
      },
      "source": [
        "<a href=\"https://colab.research.google.com/github/Prakriti-Sahu/FoML/blob/main/ML_Assignment_3_Q5_Gradient_boosting.ipynb\" target=\"_parent\"><img src=\"https://colab.research.google.com/assets/colab-badge.svg\" alt=\"Open In Colab\"/></a>"
      ]
    },
    {
      "cell_type": "markdown",
      "metadata": {
        "id": "sSK4ZrwkMVYs"
      },
      "source": [
        "# **Programming Question - Gradient Boosting**"
      ]
    },
    {
      "cell_type": "markdown",
      "metadata": {
        "id": "EdWVsIfAMV38"
      },
      "source": [
        "**Importing data**"
      ]
    },
    {
      "cell_type": "code",
      "metadata": {
        "colab": {
          "base_uri": "https://localhost:8080/"
        },
        "id": "moXi6vp5LoeX",
        "outputId": "1a1d50b3-96cb-4a11-e0a9-747f8bb0c930"
      },
      "source": [
        "!wget https://raw.githubusercontent.com/Prakriti-Sahu/FoML/main/loan_train.csv\n",
        "!wget https://raw.githubusercontent.com/Prakriti-Sahu/FoML/main/loan_test.csv"
      ],
      "execution_count": 248,
      "outputs": [
        {
          "output_type": "stream",
          "name": "stdout",
          "text": [
            "--2021-10-30 15:08:19--  https://raw.githubusercontent.com/Prakriti-Sahu/FoML/main/loan_train.csv\n",
            "Resolving raw.githubusercontent.com (raw.githubusercontent.com)... 185.199.108.133, 185.199.109.133, 185.199.110.133, ...\n",
            "Connecting to raw.githubusercontent.com (raw.githubusercontent.com)|185.199.108.133|:443... connected.\n",
            "HTTP request sent, awaiting response... 200 OK\n",
            "Length: 20707883 (20M) [text/plain]\n",
            "Saving to: ‘loan_train.csv’\n",
            "\n",
            "loan_train.csv      100%[===================>]  19.75M  --.-KB/s    in 0.1s    \n",
            "\n",
            "2021-10-30 15:08:19 (153 MB/s) - ‘loan_train.csv’ saved [20707883/20707883]\n",
            "\n",
            "--2021-10-30 15:08:19--  https://raw.githubusercontent.com/Prakriti-Sahu/FoML/main/loan_test.csv\n",
            "Resolving raw.githubusercontent.com (raw.githubusercontent.com)... 185.199.108.133, 185.199.109.133, 185.199.110.133, ...\n",
            "Connecting to raw.githubusercontent.com (raw.githubusercontent.com)|185.199.108.133|:443... connected.\n",
            "HTTP request sent, awaiting response... 200 OK\n",
            "Length: 12136187 (12M) [text/plain]\n",
            "Saving to: ‘loan_test.csv’\n",
            "\n",
            "loan_test.csv       100%[===================>]  11.57M  --.-KB/s    in 0.1s    \n",
            "\n",
            "2021-10-30 15:08:20 (104 MB/s) - ‘loan_test.csv’ saved [12136187/12136187]\n",
            "\n"
          ]
        }
      ]
    },
    {
      "cell_type": "markdown",
      "metadata": {
        "id": "HdpFbbEkMS02"
      },
      "source": [
        "**Importing necessary libraries**"
      ]
    },
    {
      "cell_type": "code",
      "metadata": {
        "id": "3vBencoqM0k0"
      },
      "source": [
        "import numpy as np\n",
        "import pandas as pd\n",
        "import seaborn as sns\n",
        "import matplotlib.pyplot as plt\n",
        "import plotly.express as px\n",
        "import sklearn\n",
        "import sklearn.ensemble\n",
        "from sklearn.ensemble import GradientBoostingClassifier\n",
        "from sklearn.impute import SimpleImputer\n",
        "from sklearn.compose import ColumnTransformer\n",
        "from sklearn.preprocessing import OneHotEncoder\n",
        "from sklearn.preprocessing import LabelEncoder\n",
        "from sklearn.model_selection import train_test_split\n",
        "from sklearn.preprocessing import StandardScaler"
      ],
      "execution_count": 249,
      "outputs": []
    },
    {
      "cell_type": "markdown",
      "metadata": {
        "id": "ov7YVN-UM8hF"
      },
      "source": [
        "**Reading data**"
      ]
    },
    {
      "cell_type": "code",
      "metadata": {
        "id": "f82RPeIONC4w"
      },
      "source": [
        "train_data=pd.read_csv(\"loan_train.csv\")\n",
        "test_data=pd.read_csv(\"loan_test.csv\")"
      ],
      "execution_count": 250,
      "outputs": []
    },
    {
      "cell_type": "markdown",
      "metadata": {
        "id": "Km4VBVSANKvp"
      },
      "source": [
        "**Checking datatype of the features**"
      ]
    },
    {
      "cell_type": "code",
      "metadata": {
        "colab": {
          "base_uri": "https://localhost:8080/"
        },
        "id": "cHSrugXwNLIe",
        "outputId": "091de071-a1d9-425d-8587-1929f386bf17"
      },
      "source": [
        "n_object_features = (train_data.dtypes == \"object\").sum()\n",
        "n_float_features = (train_data.dtypes == \"float\").sum()\n",
        "n_int_features = (train_data.dtypes == \"int\").sum()\n",
        "print(f\"Number of samples: {train_data.shape[0]}\")\n",
        "print(f\"Number of features: {train_data.shape[1]}\")\n",
        "print(f\"Number of object features: {n_object_features}\")\n",
        "print(f\"Number of float features: {n_float_features}\")\n",
        "print(f\"Number of int features: {n_int_features}\")"
      ],
      "execution_count": 251,
      "outputs": [
        {
          "output_type": "stream",
          "name": "stdout",
          "text": [
            "Number of samples: 24999\n",
            "Number of features: 111\n",
            "Number of object features: 24\n",
            "Number of float features: 74\n",
            "Number of int features: 13\n"
          ]
        }
      ]
    },
    {
      "cell_type": "markdown",
      "metadata": {
        "id": "5msXHndxOiPB"
      },
      "source": [
        "**Data dimensions**"
      ]
    },
    {
      "cell_type": "code",
      "metadata": {
        "colab": {
          "base_uri": "https://localhost:8080/"
        },
        "id": "SiCzYn80Oinr",
        "outputId": "1cc1894d-0550-4505-d8bd-6f124f7ab1e4"
      },
      "source": [
        "print(\"train data shape: {}\".format(train_data.shape))\n",
        "print(\"test data shape: {}\".format(test_data.shape))"
      ],
      "execution_count": 252,
      "outputs": [
        {
          "output_type": "stream",
          "name": "stdout",
          "text": [
            "train data shape: (24999, 111)\n",
            "test data shape: (14718, 111)\n"
          ]
        }
      ]
    },
    {
      "cell_type": "markdown",
      "metadata": {
        "id": "ML4UsCsaNi0f"
      },
      "source": [
        "**Preprocessing data**"
      ]
    },
    {
      "cell_type": "code",
      "metadata": {
        "colab": {
          "base_uri": "https://localhost:8080/"
        },
        "id": "LFm0vHsUO_L_",
        "outputId": "e45170a2-2314-4e55-b51c-ef7a09f9819e"
      },
      "source": [
        "#train data\n",
        "train_data1=train_data[train_data['loan_status']=='Fully Paid']\n",
        "print(train_data1.shape)\n",
        "train_data2=train_data[train_data['loan_status']=='Charged Off']\n",
        "print(train_data2.shape)\n",
        "train_data=train_data1.append(train_data2)\n",
        "print(\"Train data dimensions:\",train_data.shape)\n",
        "\n",
        "#test data\n",
        "test_data1=test_data[test_data['loan_status']=='Fully Paid']\n",
        "print(test_data1.shape)\n",
        "test_data2=test_data[test_data['loan_status']=='Charged Off']\n",
        "print(test_data2.shape)\n",
        "test_data=test_data1.append(test_data2)\n",
        "print(\"Test Data Dimensions:\",test_data.shape)"
      ],
      "execution_count": 253,
      "outputs": [
        {
          "output_type": "stream",
          "name": "stdout",
          "text": [
            "(20827, 111)\n",
            "(3474, 111)\n",
            "Train data dimensions: (24301, 111)\n",
            "(12123, 111)\n",
            "(2153, 111)\n",
            "Test Data Dimensions: (14276, 111)\n"
          ]
        }
      ]
    },
    {
      "cell_type": "markdown",
      "metadata": {
        "id": "SxSLMS5DQXnG"
      },
      "source": [
        "Getting rid of NaN values"
      ]
    },
    {
      "cell_type": "code",
      "metadata": {
        "colab": {
          "base_uri": "https://localhost:8080/"
        },
        "id": "FLF_rK7LQYC5",
        "outputId": "2cc1b4ba-a58d-4e11-fd92-9130e37b9d57"
      },
      "source": [
        "def NaNcheck(data):\n",
        "  columns=data.columns \n",
        "  nan_count=[]\n",
        "  for i in columns:\n",
        "    nan_count.append(data[i].isnull().sum())\n",
        "  arr=np.array(nan_count)\n",
        "  \n",
        "  # values for columns with high NaN values\n",
        "  index_values=np.where(arr>=400)\n",
        "  print(index_values,np.count_nonzero(index_values))\n",
        "\n",
        "  return index_values,arr\n",
        "\n",
        "index_values,arr=NaNcheck(train_data)\n",
        "\n",
        "columns=train_data.columns\n",
        "columns_delete=columns[index_values]\n",
        "\n",
        "# deleting columns with NaN columns\n",
        "train_data=train_data.drop(columns_delete,axis=1)\n",
        "print(f\"Final train data: {train_data.shape}\")"
      ],
      "execution_count": 254,
      "outputs": [
        {
          "output_type": "stream",
          "name": "stdout",
          "text": [
            "(array([ 19,  28,  29,  47,  50,  53,  54,  55,  57,  58,  59,  60,  61,\n",
            "        62,  63,  64,  65,  66,  67,  68,  69,  70,  71,  72,  73,  74,\n",
            "        75,  76,  77,  80,  81,  82,  83,  84,  85,  86,  87,  88,  89,\n",
            "        90,  91,  92,  93,  94,  95,  96,  97,  98,  99, 100, 101, 102,\n",
            "       103, 104, 105, 107, 108, 109, 110]),) 59\n",
            "Final train data: (24301, 52)\n"
          ]
        }
      ]
    },
    {
      "cell_type": "code",
      "metadata": {
        "colab": {
          "base_uri": "https://localhost:8080/"
        },
        "id": "TDX8A6UzVJEl",
        "outputId": "27dd0b35-48e9-474b-ba75-2f5288b8bd39"
      },
      "source": [
        "train_data.columns"
      ],
      "execution_count": 255,
      "outputs": [
        {
          "output_type": "execute_result",
          "data": {
            "text/plain": [
              "Index(['id', 'member_id', 'loan_amnt', 'funded_amnt', 'funded_amnt_inv',\n",
              "       'term', 'int_rate', 'installment', 'grade', 'sub_grade', 'emp_title',\n",
              "       'emp_length', 'home_ownership', 'annual_inc', 'verification_status',\n",
              "       'issue_d', 'loan_status', 'pymnt_plan', 'url', 'purpose', 'title',\n",
              "       'zip_code', 'addr_state', 'dti', 'delinq_2yrs', 'earliest_cr_line',\n",
              "       'inq_last_6mths', 'open_acc', 'pub_rec', 'revol_bal', 'revol_util',\n",
              "       'total_acc', 'initial_list_status', 'out_prncp', 'out_prncp_inv',\n",
              "       'total_pymnt', 'total_pymnt_inv', 'total_rec_prncp', 'total_rec_int',\n",
              "       'total_rec_late_fee', 'recoveries', 'collection_recovery_fee',\n",
              "       'last_pymnt_d', 'last_pymnt_amnt', 'last_credit_pull_d',\n",
              "       'collections_12_mths_ex_med', 'policy_code', 'application_type',\n",
              "       'acc_now_delinq', 'chargeoff_within_12_mths', 'delinq_amnt',\n",
              "       'tax_liens'],\n",
              "      dtype='object')"
            ]
          },
          "metadata": {},
          "execution_count": 255
        }
      ]
    },
    {
      "cell_type": "code",
      "metadata": {
        "colab": {
          "base_uri": "https://localhost:8080/",
          "height": 483
        },
        "id": "StCODCtUVjWL",
        "outputId": "b5b5b87f-4550-4c9d-c382-ccca3bd3615b"
      },
      "source": [
        "train_data.head(8)"
      ],
      "execution_count": 256,
      "outputs": [
        {
          "output_type": "execute_result",
          "data": {
            "text/html": [
              "<div>\n",
              "<style scoped>\n",
              "    .dataframe tbody tr th:only-of-type {\n",
              "        vertical-align: middle;\n",
              "    }\n",
              "\n",
              "    .dataframe tbody tr th {\n",
              "        vertical-align: top;\n",
              "    }\n",
              "\n",
              "    .dataframe thead th {\n",
              "        text-align: right;\n",
              "    }\n",
              "</style>\n",
              "<table border=\"1\" class=\"dataframe\">\n",
              "  <thead>\n",
              "    <tr style=\"text-align: right;\">\n",
              "      <th></th>\n",
              "      <th>id</th>\n",
              "      <th>member_id</th>\n",
              "      <th>loan_amnt</th>\n",
              "      <th>funded_amnt</th>\n",
              "      <th>funded_amnt_inv</th>\n",
              "      <th>term</th>\n",
              "      <th>int_rate</th>\n",
              "      <th>installment</th>\n",
              "      <th>grade</th>\n",
              "      <th>sub_grade</th>\n",
              "      <th>emp_title</th>\n",
              "      <th>emp_length</th>\n",
              "      <th>home_ownership</th>\n",
              "      <th>annual_inc</th>\n",
              "      <th>verification_status</th>\n",
              "      <th>issue_d</th>\n",
              "      <th>loan_status</th>\n",
              "      <th>pymnt_plan</th>\n",
              "      <th>url</th>\n",
              "      <th>purpose</th>\n",
              "      <th>title</th>\n",
              "      <th>zip_code</th>\n",
              "      <th>addr_state</th>\n",
              "      <th>dti</th>\n",
              "      <th>delinq_2yrs</th>\n",
              "      <th>earliest_cr_line</th>\n",
              "      <th>inq_last_6mths</th>\n",
              "      <th>open_acc</th>\n",
              "      <th>pub_rec</th>\n",
              "      <th>revol_bal</th>\n",
              "      <th>revol_util</th>\n",
              "      <th>total_acc</th>\n",
              "      <th>initial_list_status</th>\n",
              "      <th>out_prncp</th>\n",
              "      <th>out_prncp_inv</th>\n",
              "      <th>total_pymnt</th>\n",
              "      <th>total_pymnt_inv</th>\n",
              "      <th>total_rec_prncp</th>\n",
              "      <th>total_rec_int</th>\n",
              "      <th>total_rec_late_fee</th>\n",
              "      <th>recoveries</th>\n",
              "      <th>collection_recovery_fee</th>\n",
              "      <th>last_pymnt_d</th>\n",
              "      <th>last_pymnt_amnt</th>\n",
              "      <th>last_credit_pull_d</th>\n",
              "      <th>collections_12_mths_ex_med</th>\n",
              "      <th>policy_code</th>\n",
              "      <th>application_type</th>\n",
              "      <th>acc_now_delinq</th>\n",
              "      <th>chargeoff_within_12_mths</th>\n",
              "      <th>delinq_amnt</th>\n",
              "      <th>tax_liens</th>\n",
              "    </tr>\n",
              "  </thead>\n",
              "  <tbody>\n",
              "    <tr>\n",
              "      <th>1</th>\n",
              "      <td>476321</td>\n",
              "      <td>603324</td>\n",
              "      <td>15000</td>\n",
              "      <td>15000</td>\n",
              "      <td>14800.000000</td>\n",
              "      <td>36 months</td>\n",
              "      <td>8.94%</td>\n",
              "      <td>476.58</td>\n",
              "      <td>A</td>\n",
              "      <td>A5</td>\n",
              "      <td>1400</td>\n",
              "      <td>1 year</td>\n",
              "      <td>RENT</td>\n",
              "      <td>147000.0</td>\n",
              "      <td>Not Verified</td>\n",
              "      <td>10-Jan</td>\n",
              "      <td>Fully Paid</td>\n",
              "      <td>n</td>\n",
              "      <td>https://lendingclub.com/browse/loanDetail.acti...</td>\n",
              "      <td>other</td>\n",
              "      <td>Green City</td>\n",
              "      <td>300xx</td>\n",
              "      <td>GA</td>\n",
              "      <td>3.47</td>\n",
              "      <td>0</td>\n",
              "      <td>Feb-97</td>\n",
              "      <td>0</td>\n",
              "      <td>6</td>\n",
              "      <td>0</td>\n",
              "      <td>4910</td>\n",
              "      <td>14%</td>\n",
              "      <td>17</td>\n",
              "      <td>f</td>\n",
              "      <td>0.0</td>\n",
              "      <td>0.0</td>\n",
              "      <td>15112.760000</td>\n",
              "      <td>14911.26</td>\n",
              "      <td>15000.0</td>\n",
              "      <td>112.76</td>\n",
              "      <td>0.0</td>\n",
              "      <td>0.0</td>\n",
              "      <td>0.0</td>\n",
              "      <td>10-Mar</td>\n",
              "      <td>15114.03</td>\n",
              "      <td>10-Feb</td>\n",
              "      <td>0.0</td>\n",
              "      <td>1</td>\n",
              "      <td>INDIVIDUAL</td>\n",
              "      <td>0</td>\n",
              "      <td>0.0</td>\n",
              "      <td>0</td>\n",
              "      <td>0.0</td>\n",
              "    </tr>\n",
              "    <tr>\n",
              "      <th>2</th>\n",
              "      <td>451484</td>\n",
              "      <td>556265</td>\n",
              "      <td>2000</td>\n",
              "      <td>2000</td>\n",
              "      <td>2000.000000</td>\n",
              "      <td>36 months</td>\n",
              "      <td>13.57%</td>\n",
              "      <td>67.94</td>\n",
              "      <td>C</td>\n",
              "      <td>C3</td>\n",
              "      <td>36000</td>\n",
              "      <td>4 years</td>\n",
              "      <td>OWN</td>\n",
              "      <td>36000.0</td>\n",
              "      <td>Not Verified</td>\n",
              "      <td>9-Oct</td>\n",
              "      <td>Fully Paid</td>\n",
              "      <td>n</td>\n",
              "      <td>https://lendingclub.com/browse/loanDetail.acti...</td>\n",
              "      <td>major_purchase</td>\n",
              "      <td>payoff w/in 2 years</td>\n",
              "      <td>310xx</td>\n",
              "      <td>GA</td>\n",
              "      <td>7.83</td>\n",
              "      <td>0</td>\n",
              "      <td>Mar-00</td>\n",
              "      <td>0</td>\n",
              "      <td>8</td>\n",
              "      <td>0</td>\n",
              "      <td>1790</td>\n",
              "      <td>34.40%</td>\n",
              "      <td>10</td>\n",
              "      <td>f</td>\n",
              "      <td>0.0</td>\n",
              "      <td>0.0</td>\n",
              "      <td>2354.966827</td>\n",
              "      <td>2354.97</td>\n",
              "      <td>2000.0</td>\n",
              "      <td>354.97</td>\n",
              "      <td>0.0</td>\n",
              "      <td>0.0</td>\n",
              "      <td>0.0</td>\n",
              "      <td>11-Dec</td>\n",
              "      <td>101.78</td>\n",
              "      <td>11-Dec</td>\n",
              "      <td>0.0</td>\n",
              "      <td>1</td>\n",
              "      <td>INDIVIDUAL</td>\n",
              "      <td>0</td>\n",
              "      <td>0.0</td>\n",
              "      <td>0</td>\n",
              "      <td>0.0</td>\n",
              "    </tr>\n",
              "    <tr>\n",
              "      <th>4</th>\n",
              "      <td>800018</td>\n",
              "      <td>1005270</td>\n",
              "      <td>14000</td>\n",
              "      <td>14000</td>\n",
              "      <td>14000.000000</td>\n",
              "      <td>60 months</td>\n",
              "      <td>17.49%</td>\n",
              "      <td>351.64</td>\n",
              "      <td>D</td>\n",
              "      <td>D5</td>\n",
              "      <td>old palm inc</td>\n",
              "      <td>5 years</td>\n",
              "      <td>MORTGAGE</td>\n",
              "      <td>50000.0</td>\n",
              "      <td>Not Verified</td>\n",
              "      <td>11-Jul</td>\n",
              "      <td>Fully Paid</td>\n",
              "      <td>n</td>\n",
              "      <td>https://lendingclub.com/browse/loanDetail.acti...</td>\n",
              "      <td>debt_consolidation</td>\n",
              "      <td>save %</td>\n",
              "      <td>334xx</td>\n",
              "      <td>FL</td>\n",
              "      <td>21.24</td>\n",
              "      <td>1</td>\n",
              "      <td>4-Jun</td>\n",
              "      <td>1</td>\n",
              "      <td>9</td>\n",
              "      <td>1</td>\n",
              "      <td>553</td>\n",
              "      <td>9.40%</td>\n",
              "      <td>27</td>\n",
              "      <td>f</td>\n",
              "      <td>0.0</td>\n",
              "      <td>0.0</td>\n",
              "      <td>20804.230020</td>\n",
              "      <td>20804.23</td>\n",
              "      <td>14000.0</td>\n",
              "      <td>6804.23</td>\n",
              "      <td>0.0</td>\n",
              "      <td>0.0</td>\n",
              "      <td>0.0</td>\n",
              "      <td>15-Sep</td>\n",
              "      <td>3943.27</td>\n",
              "      <td>16-May</td>\n",
              "      <td>0.0</td>\n",
              "      <td>1</td>\n",
              "      <td>INDIVIDUAL</td>\n",
              "      <td>0</td>\n",
              "      <td>0.0</td>\n",
              "      <td>0</td>\n",
              "      <td>0.0</td>\n",
              "    </tr>\n",
              "    <tr>\n",
              "      <th>5</th>\n",
              "      <td>471391</td>\n",
              "      <td>595223</td>\n",
              "      <td>12000</td>\n",
              "      <td>12000</td>\n",
              "      <td>11900.000000</td>\n",
              "      <td>36 months</td>\n",
              "      <td>8.94%</td>\n",
              "      <td>381.26</td>\n",
              "      <td>A</td>\n",
              "      <td>A5</td>\n",
              "      <td>Brocade Communications</td>\n",
              "      <td>7 years</td>\n",
              "      <td>MORTGAGE</td>\n",
              "      <td>294000.0</td>\n",
              "      <td>Not Verified</td>\n",
              "      <td>9-Dec</td>\n",
              "      <td>Fully Paid</td>\n",
              "      <td>n</td>\n",
              "      <td>https://lendingclub.com/browse/loanDetail.acti...</td>\n",
              "      <td>other</td>\n",
              "      <td>Invest in Lending Club Notes</td>\n",
              "      <td>939xx</td>\n",
              "      <td>CA</td>\n",
              "      <td>0.50</td>\n",
              "      <td>0</td>\n",
              "      <td>Aug-93</td>\n",
              "      <td>0</td>\n",
              "      <td>11</td>\n",
              "      <td>0</td>\n",
              "      <td>5306</td>\n",
              "      <td>2.80%</td>\n",
              "      <td>21</td>\n",
              "      <td>f</td>\n",
              "      <td>0.0</td>\n",
              "      <td>0.0</td>\n",
              "      <td>12344.811770</td>\n",
              "      <td>12241.94</td>\n",
              "      <td>12000.0</td>\n",
              "      <td>344.81</td>\n",
              "      <td>0.0</td>\n",
              "      <td>0.0</td>\n",
              "      <td>0.0</td>\n",
              "      <td>10-May</td>\n",
              "      <td>11204.30</td>\n",
              "      <td>10-May</td>\n",
              "      <td>0.0</td>\n",
              "      <td>1</td>\n",
              "      <td>INDIVIDUAL</td>\n",
              "      <td>0</td>\n",
              "      <td>0.0</td>\n",
              "      <td>0</td>\n",
              "      <td>0.0</td>\n",
              "    </tr>\n",
              "    <tr>\n",
              "      <th>6</th>\n",
              "      <td>521762</td>\n",
              "      <td>674784</td>\n",
              "      <td>10000</td>\n",
              "      <td>6525</td>\n",
              "      <td>6480.473624</td>\n",
              "      <td>60 months</td>\n",
              "      <td>7.88%</td>\n",
              "      <td>131.93</td>\n",
              "      <td>A</td>\n",
              "      <td>A5</td>\n",
              "      <td>CenturyLink</td>\n",
              "      <td>4 years</td>\n",
              "      <td>MORTGAGE</td>\n",
              "      <td>65000.0</td>\n",
              "      <td>Not Verified</td>\n",
              "      <td>10-Jun</td>\n",
              "      <td>Fully Paid</td>\n",
              "      <td>n</td>\n",
              "      <td>https://lendingclub.com/browse/loanDetail.acti...</td>\n",
              "      <td>credit_card</td>\n",
              "      <td>Discover</td>\n",
              "      <td>640xx</td>\n",
              "      <td>MO</td>\n",
              "      <td>7.62</td>\n",
              "      <td>1</td>\n",
              "      <td>Feb-96</td>\n",
              "      <td>1</td>\n",
              "      <td>13</td>\n",
              "      <td>0</td>\n",
              "      <td>5629</td>\n",
              "      <td>19.10%</td>\n",
              "      <td>23</td>\n",
              "      <td>f</td>\n",
              "      <td>0.0</td>\n",
              "      <td>0.0</td>\n",
              "      <td>7908.889997</td>\n",
              "      <td>7846.07</td>\n",
              "      <td>6525.0</td>\n",
              "      <td>1383.89</td>\n",
              "      <td>0.0</td>\n",
              "      <td>0.0</td>\n",
              "      <td>0.0</td>\n",
              "      <td>15-Feb</td>\n",
              "      <td>668.53</td>\n",
              "      <td>15-Sep</td>\n",
              "      <td>0.0</td>\n",
              "      <td>1</td>\n",
              "      <td>INDIVIDUAL</td>\n",
              "      <td>0</td>\n",
              "      <td>0.0</td>\n",
              "      <td>0</td>\n",
              "      <td>0.0</td>\n",
              "    </tr>\n",
              "    <tr>\n",
              "      <th>7</th>\n",
              "      <td>664532</td>\n",
              "      <td>849696</td>\n",
              "      <td>7800</td>\n",
              "      <td>7800</td>\n",
              "      <td>7800.000000</td>\n",
              "      <td>60 months</td>\n",
              "      <td>14.91%</td>\n",
              "      <td>185.20</td>\n",
              "      <td>D</td>\n",
              "      <td>D2</td>\n",
              "      <td>Department of Homeland Security</td>\n",
              "      <td>4 years</td>\n",
              "      <td>MORTGAGE</td>\n",
              "      <td>94000.0</td>\n",
              "      <td>Verified</td>\n",
              "      <td>11-Feb</td>\n",
              "      <td>Fully Paid</td>\n",
              "      <td>n</td>\n",
              "      <td>https://lendingclub.com/browse/loanDetail.acti...</td>\n",
              "      <td>other</td>\n",
              "      <td>Help With Divorce Expenses</td>\n",
              "      <td>480xx</td>\n",
              "      <td>MI</td>\n",
              "      <td>12.96</td>\n",
              "      <td>0</td>\n",
              "      <td>Feb-00</td>\n",
              "      <td>1</td>\n",
              "      <td>11</td>\n",
              "      <td>0</td>\n",
              "      <td>2317</td>\n",
              "      <td>37.40%</td>\n",
              "      <td>37</td>\n",
              "      <td>f</td>\n",
              "      <td>0.0</td>\n",
              "      <td>0.0</td>\n",
              "      <td>9864.289537</td>\n",
              "      <td>9864.29</td>\n",
              "      <td>7800.0</td>\n",
              "      <td>2064.29</td>\n",
              "      <td>0.0</td>\n",
              "      <td>0.0</td>\n",
              "      <td>0.0</td>\n",
              "      <td>13-May</td>\n",
              "      <td>58.59</td>\n",
              "      <td>16-May</td>\n",
              "      <td>0.0</td>\n",
              "      <td>1</td>\n",
              "      <td>INDIVIDUAL</td>\n",
              "      <td>0</td>\n",
              "      <td>0.0</td>\n",
              "      <td>0</td>\n",
              "      <td>0.0</td>\n",
              "    </tr>\n",
              "    <tr>\n",
              "      <th>8</th>\n",
              "      <td>973622</td>\n",
              "      <td>1195649</td>\n",
              "      <td>18825</td>\n",
              "      <td>18825</td>\n",
              "      <td>18825.000000</td>\n",
              "      <td>36 months</td>\n",
              "      <td>7.90%</td>\n",
              "      <td>589.04</td>\n",
              "      <td>A</td>\n",
              "      <td>A4</td>\n",
              "      <td>Down To Earth Distributors, Inc.</td>\n",
              "      <td>5 years</td>\n",
              "      <td>RENT</td>\n",
              "      <td>42000.0</td>\n",
              "      <td>Not Verified</td>\n",
              "      <td>11-Oct</td>\n",
              "      <td>Fully Paid</td>\n",
              "      <td>n</td>\n",
              "      <td>https://lendingclub.com/browse/loanDetail.acti...</td>\n",
              "      <td>debt_consolidation</td>\n",
              "      <td>Consolidation Loan</td>\n",
              "      <td>974xx</td>\n",
              "      <td>OR</td>\n",
              "      <td>22.74</td>\n",
              "      <td>0</td>\n",
              "      <td>Aug-98</td>\n",
              "      <td>0</td>\n",
              "      <td>7</td>\n",
              "      <td>0</td>\n",
              "      <td>22121</td>\n",
              "      <td>55.40%</td>\n",
              "      <td>22</td>\n",
              "      <td>f</td>\n",
              "      <td>0.0</td>\n",
              "      <td>0.0</td>\n",
              "      <td>20958.528940</td>\n",
              "      <td>20958.53</td>\n",
              "      <td>18825.0</td>\n",
              "      <td>2133.53</td>\n",
              "      <td>0.0</td>\n",
              "      <td>0.0</td>\n",
              "      <td>0.0</td>\n",
              "      <td>13-Dec</td>\n",
              "      <td>239.16</td>\n",
              "      <td>13-Dec</td>\n",
              "      <td>0.0</td>\n",
              "      <td>1</td>\n",
              "      <td>INDIVIDUAL</td>\n",
              "      <td>0</td>\n",
              "      <td>0.0</td>\n",
              "      <td>0</td>\n",
              "      <td>0.0</td>\n",
              "    </tr>\n",
              "    <tr>\n",
              "      <th>10</th>\n",
              "      <td>453308</td>\n",
              "      <td>560296</td>\n",
              "      <td>2600</td>\n",
              "      <td>2600</td>\n",
              "      <td>2600.000000</td>\n",
              "      <td>36 months</td>\n",
              "      <td>12.53%</td>\n",
              "      <td>87.02</td>\n",
              "      <td>B</td>\n",
              "      <td>B5</td>\n",
              "      <td>Plaid, Inc.</td>\n",
              "      <td>2 years</td>\n",
              "      <td>RENT</td>\n",
              "      <td>40792.0</td>\n",
              "      <td>Not Verified</td>\n",
              "      <td>9-Oct</td>\n",
              "      <td>Fully Paid</td>\n",
              "      <td>n</td>\n",
              "      <td>https://lendingclub.com/browse/loanDetail.acti...</td>\n",
              "      <td>major_purchase</td>\n",
              "      <td>New iMac for Work</td>\n",
              "      <td>068xx</td>\n",
              "      <td>CT</td>\n",
              "      <td>13.54</td>\n",
              "      <td>0</td>\n",
              "      <td>3-Nov</td>\n",
              "      <td>1</td>\n",
              "      <td>12</td>\n",
              "      <td>0</td>\n",
              "      <td>9847</td>\n",
              "      <td>24.10%</td>\n",
              "      <td>14</td>\n",
              "      <td>f</td>\n",
              "      <td>0.0</td>\n",
              "      <td>0.0</td>\n",
              "      <td>3132.393851</td>\n",
              "      <td>3132.39</td>\n",
              "      <td>2600.0</td>\n",
              "      <td>532.39</td>\n",
              "      <td>0.0</td>\n",
              "      <td>0.0</td>\n",
              "      <td>0.0</td>\n",
              "      <td>12-Nov</td>\n",
              "      <td>94.26</td>\n",
              "      <td>16-May</td>\n",
              "      <td>0.0</td>\n",
              "      <td>1</td>\n",
              "      <td>INDIVIDUAL</td>\n",
              "      <td>0</td>\n",
              "      <td>0.0</td>\n",
              "      <td>0</td>\n",
              "      <td>0.0</td>\n",
              "    </tr>\n",
              "  </tbody>\n",
              "</table>\n",
              "</div>"
            ],
            "text/plain": [
              "        id  member_id  ...  delinq_amnt  tax_liens\n",
              "1   476321     603324  ...            0        0.0\n",
              "2   451484     556265  ...            0        0.0\n",
              "4   800018    1005270  ...            0        0.0\n",
              "5   471391     595223  ...            0        0.0\n",
              "6   521762     674784  ...            0        0.0\n",
              "7   664532     849696  ...            0        0.0\n",
              "8   973622    1195649  ...            0        0.0\n",
              "10  453308     560296  ...            0        0.0\n",
              "\n",
              "[8 rows x 52 columns]"
            ]
          },
          "metadata": {},
          "execution_count": 256
        }
      ]
    },
    {
      "cell_type": "markdown",
      "metadata": {
        "id": "RgJEBjdTUFfr"
      },
      "source": [
        "Getting rid of unnecessary features"
      ]
    },
    {
      "cell_type": "code",
      "metadata": {
        "colab": {
          "base_uri": "https://localhost:8080/"
        },
        "id": "wWm_5plZYQG_",
        "outputId": "d3e58333-306a-416c-cac4-7b164aab92de"
      },
      "source": [
        "print(\"'chargeoff_within_12_mths'' has same value in all rows, i.e., \",train_data.chargeoff_within_12_mths.unique())\n",
        "print(\"'collections_12_mths_ex_med' has same value in all rows, i.e., \",train_data.collections_12_mths_ex_med.unique())\n",
        "print(\"'tax_liens' has same value in all rows, i.e., \",train_data.tax_liens.unique())\n",
        "print(\"'pymnt_plan' has same value in all rows, i.e., \",train_data.pymnt_plan.unique())\n",
        "print(\"Values in 'title' col seem unimportant\")\n",
        "print(\"'initial_list_status' has same value in all rows, i.e., \", train_data.initial_list_status.unique())\n",
        "print(\"'out_prncp' has same value in all rows, i.e., \",train_data.out_prncp.unique())"
      ],
      "execution_count": 257,
      "outputs": [
        {
          "output_type": "stream",
          "name": "stdout",
          "text": [
            "'chargeoff_within_12_mths'' has same value in all rows, i.e.,  [ 0. nan]\n",
            "'collections_12_mths_ex_med' has same value in all rows, i.e.,  [ 0. nan]\n",
            "'tax_liens' has same value in all rows, i.e.,  [ 0. nan]\n",
            "'pymnt_plan' has same value in all rows, i.e.,  ['n']\n",
            "Values in 'title' col seem unimportant\n",
            "'initial_list_status' has same value in all rows, i.e.,  ['f']\n",
            "'out_prncp' has same value in all rows, i.e.,  [0.]\n"
          ]
        }
      ]
    },
    {
      "cell_type": "code",
      "metadata": {
        "colab": {
          "base_uri": "https://localhost:8080/",
          "height": 295
        },
        "id": "oblnVrIOdgWg",
        "outputId": "5d23719d-4325-4c80-965d-9adfd0edca46"
      },
      "source": [
        "train_data[['collection_recovery_fee','total_rec_late_fee','recoveries','policy_code','acc_now_delinq','delinq_amnt','application_type','out_prncp_inv']].describe()"
      ],
      "execution_count": 258,
      "outputs": [
        {
          "output_type": "execute_result",
          "data": {
            "text/html": [
              "<div>\n",
              "<style scoped>\n",
              "    .dataframe tbody tr th:only-of-type {\n",
              "        vertical-align: middle;\n",
              "    }\n",
              "\n",
              "    .dataframe tbody tr th {\n",
              "        vertical-align: top;\n",
              "    }\n",
              "\n",
              "    .dataframe thead th {\n",
              "        text-align: right;\n",
              "    }\n",
              "</style>\n",
              "<table border=\"1\" class=\"dataframe\">\n",
              "  <thead>\n",
              "    <tr style=\"text-align: right;\">\n",
              "      <th></th>\n",
              "      <th>collection_recovery_fee</th>\n",
              "      <th>total_rec_late_fee</th>\n",
              "      <th>recoveries</th>\n",
              "      <th>policy_code</th>\n",
              "      <th>acc_now_delinq</th>\n",
              "      <th>delinq_amnt</th>\n",
              "      <th>out_prncp_inv</th>\n",
              "    </tr>\n",
              "  </thead>\n",
              "  <tbody>\n",
              "    <tr>\n",
              "      <th>count</th>\n",
              "      <td>24301.000000</td>\n",
              "      <td>24301.000000</td>\n",
              "      <td>24301.000000</td>\n",
              "      <td>24301.0</td>\n",
              "      <td>24301.0</td>\n",
              "      <td>24301.0</td>\n",
              "      <td>24301.0</td>\n",
              "    </tr>\n",
              "    <tr>\n",
              "      <th>mean</th>\n",
              "      <td>12.354023</td>\n",
              "      <td>1.358008</td>\n",
              "      <td>100.174160</td>\n",
              "      <td>1.0</td>\n",
              "      <td>0.0</td>\n",
              "      <td>0.0</td>\n",
              "      <td>0.0</td>\n",
              "    </tr>\n",
              "    <tr>\n",
              "      <th>std</th>\n",
              "      <td>139.801427</td>\n",
              "      <td>7.397470</td>\n",
              "      <td>719.351788</td>\n",
              "      <td>0.0</td>\n",
              "      <td>0.0</td>\n",
              "      <td>0.0</td>\n",
              "      <td>0.0</td>\n",
              "    </tr>\n",
              "    <tr>\n",
              "      <th>min</th>\n",
              "      <td>0.000000</td>\n",
              "      <td>0.000000</td>\n",
              "      <td>0.000000</td>\n",
              "      <td>1.0</td>\n",
              "      <td>0.0</td>\n",
              "      <td>0.0</td>\n",
              "      <td>0.0</td>\n",
              "    </tr>\n",
              "    <tr>\n",
              "      <th>25%</th>\n",
              "      <td>0.000000</td>\n",
              "      <td>0.000000</td>\n",
              "      <td>0.000000</td>\n",
              "      <td>1.0</td>\n",
              "      <td>0.0</td>\n",
              "      <td>0.0</td>\n",
              "      <td>0.0</td>\n",
              "    </tr>\n",
              "    <tr>\n",
              "      <th>50%</th>\n",
              "      <td>0.000000</td>\n",
              "      <td>0.000000</td>\n",
              "      <td>0.000000</td>\n",
              "      <td>1.0</td>\n",
              "      <td>0.0</td>\n",
              "      <td>0.0</td>\n",
              "      <td>0.0</td>\n",
              "    </tr>\n",
              "    <tr>\n",
              "      <th>75%</th>\n",
              "      <td>0.000000</td>\n",
              "      <td>0.000000</td>\n",
              "      <td>0.000000</td>\n",
              "      <td>1.0</td>\n",
              "      <td>0.0</td>\n",
              "      <td>0.0</td>\n",
              "      <td>0.0</td>\n",
              "    </tr>\n",
              "    <tr>\n",
              "      <th>max</th>\n",
              "      <td>5602.720000</td>\n",
              "      <td>166.429711</td>\n",
              "      <td>29623.350000</td>\n",
              "      <td>1.0</td>\n",
              "      <td>0.0</td>\n",
              "      <td>0.0</td>\n",
              "      <td>0.0</td>\n",
              "    </tr>\n",
              "  </tbody>\n",
              "</table>\n",
              "</div>"
            ],
            "text/plain": [
              "       collection_recovery_fee  total_rec_late_fee  ...  delinq_amnt  out_prncp_inv\n",
              "count             24301.000000        24301.000000  ...      24301.0        24301.0\n",
              "mean                 12.354023            1.358008  ...          0.0            0.0\n",
              "std                 139.801427            7.397470  ...          0.0            0.0\n",
              "min                   0.000000            0.000000  ...          0.0            0.0\n",
              "25%                   0.000000            0.000000  ...          0.0            0.0\n",
              "50%                   0.000000            0.000000  ...          0.0            0.0\n",
              "75%                   0.000000            0.000000  ...          0.0            0.0\n",
              "max                5602.720000          166.429711  ...          0.0            0.0\n",
              "\n",
              "[8 rows x 7 columns]"
            ]
          },
          "metadata": {},
          "execution_count": 258
        }
      ]
    },
    {
      "cell_type": "code",
      "metadata": {
        "id": "4Z3pmoQrUF9J"
      },
      "source": [
        "# id, member_id, url, emp_title don't play a role in predicting loan status\n",
        "# total_rec_late_fee, recoveries, collection_recovery_fee have more than 75% data as '0'\n",
        "# all other columns have '0' values\n",
        "train_data=train_data.drop(['id','member_id','url', 'collections_12_mths_ex_med', 'chargeoff_within_12_mths', 'tax_liens','pymnt_plan','title', 'initial_list_status','out_prncp', 'total_rec_late_fee','recoveries','collection_recovery_fee', 'policy_code','acc_now_delinq','delinq_amnt','application_type','out_prncp_inv'],axis=1)\n"
      ],
      "execution_count": 259,
      "outputs": []
    },
    {
      "cell_type": "code",
      "metadata": {
        "colab": {
          "base_uri": "https://localhost:8080/"
        },
        "id": "GDmEIqWRfCbF",
        "outputId": "f0b2b473-99ab-46d9-bf84-cb25ab7238ba"
      },
      "source": [
        "print(\"Dimensions of train data:\",train_data.shape)\n",
        "print(\"Total null values:\",train_data.isnull().sum().sum())"
      ],
      "execution_count": 260,
      "outputs": [
        {
          "output_type": "stream",
          "name": "stdout",
          "text": [
            "Dimensions of train data: (24301, 34)\n",
            "Total null values: 120\n"
          ]
        }
      ]
    },
    {
      "cell_type": "code",
      "metadata": {
        "colab": {
          "base_uri": "https://localhost:8080/"
        },
        "id": "QyGEisjjfotv",
        "outputId": "4875a527-2d37-4ad4-816c-966fbc638859"
      },
      "source": [
        "train_data=train_data.fillna(method='ffill')\n",
        "print(\"Total null values left:\",train_data.isnull().sum().sum())"
      ],
      "execution_count": 261,
      "outputs": [
        {
          "output_type": "stream",
          "name": "stdout",
          "text": [
            "Total null values left: 0\n"
          ]
        }
      ]
    },
    {
      "cell_type": "markdown",
      "metadata": {
        "id": "KMtRlusQfziI"
      },
      "source": [
        "Converting categorical data"
      ]
    },
    {
      "cell_type": "code",
      "metadata": {
        "colab": {
          "base_uri": "https://localhost:8080/"
        },
        "id": "Jo1qRJG9fz5r",
        "outputId": "55c383ab-3429-485f-8963-6ac472715c9c"
      },
      "source": [
        "n_object_features = (train_data.dtypes == \"object\").sum()\n",
        "n_float_features = (train_data.dtypes == \"float\").sum()\n",
        "n_int_features = (train_data.dtypes == \"int\").sum()\n",
        "print(f\"Number of samples: {train_data.shape[0]}\")\n",
        "print(f\"Number of features: {train_data.shape[1]}\")\n",
        "print(f\"Number of object features: {n_object_features}\")\n",
        "print(f\"Number of float features: {n_float_features}\")\n",
        "print(f\"Number of int features: {n_int_features}\")"
      ],
      "execution_count": 262,
      "outputs": [
        {
          "output_type": "stream",
          "name": "stdout",
          "text": [
            "Number of samples: 24301\n",
            "Number of features: 34\n",
            "Number of object features: 17\n",
            "Number of float features: 9\n",
            "Number of int features: 8\n"
          ]
        }
      ]
    },
    {
      "cell_type": "code",
      "metadata": {
        "id": "qnjAug-fgjKw"
      },
      "source": [
        "dt=train_data\n",
        "dt['emp_length'] = dt['emp_length'].astype('|S')\n",
        "dt['revol_util'] = dt['revol_util'].astype('|S')\n",
        "dt['last_pymnt_d'] = dt['last_pymnt_d'].astype('|S')\n",
        "dt.drop(['emp_title'],axis=1,inplace=True)\n",
        "dt['emp_length'].describe()\n",
        "\n",
        "le = LabelEncoder()\n",
        "dt.term = le.fit_transform(dt.term)\n",
        "\n",
        "col=['int_rate','emp_length','grade','sub_grade','revol_util','last_pymnt_d','home_ownership','verification_status','issue_d','loan_status','purpose','zip_code','addr_state','earliest_cr_line','last_credit_pull_d']\n",
        "\n",
        "for i in col:\n",
        "  le=LabelEncoder()\n",
        "  dt[i]=le.fit_transform(dt[i])\n",
        "\n",
        "dt[col].head()\n",
        "\n",
        "dt.head()\n",
        "\n",
        "train_data=dt\n",
        "columns=train_data.columns"
      ],
      "execution_count": 263,
      "outputs": []
    },
    {
      "cell_type": "code",
      "metadata": {
        "colab": {
          "base_uri": "https://localhost:8080/",
          "height": 223
        },
        "id": "qi62vKVRkQtu",
        "outputId": "5b079bcd-1833-42c8-ce2d-74338c7fdd7e"
      },
      "source": [
        "train_data.head(5)"
      ],
      "execution_count": 264,
      "outputs": [
        {
          "output_type": "execute_result",
          "data": {
            "text/html": [
              "<div>\n",
              "<style scoped>\n",
              "    .dataframe tbody tr th:only-of-type {\n",
              "        vertical-align: middle;\n",
              "    }\n",
              "\n",
              "    .dataframe tbody tr th {\n",
              "        vertical-align: top;\n",
              "    }\n",
              "\n",
              "    .dataframe thead th {\n",
              "        text-align: right;\n",
              "    }\n",
              "</style>\n",
              "<table border=\"1\" class=\"dataframe\">\n",
              "  <thead>\n",
              "    <tr style=\"text-align: right;\">\n",
              "      <th></th>\n",
              "      <th>loan_amnt</th>\n",
              "      <th>funded_amnt</th>\n",
              "      <th>funded_amnt_inv</th>\n",
              "      <th>term</th>\n",
              "      <th>int_rate</th>\n",
              "      <th>installment</th>\n",
              "      <th>grade</th>\n",
              "      <th>sub_grade</th>\n",
              "      <th>emp_length</th>\n",
              "      <th>home_ownership</th>\n",
              "      <th>annual_inc</th>\n",
              "      <th>verification_status</th>\n",
              "      <th>issue_d</th>\n",
              "      <th>loan_status</th>\n",
              "      <th>purpose</th>\n",
              "      <th>zip_code</th>\n",
              "      <th>addr_state</th>\n",
              "      <th>dti</th>\n",
              "      <th>delinq_2yrs</th>\n",
              "      <th>earliest_cr_line</th>\n",
              "      <th>inq_last_6mths</th>\n",
              "      <th>open_acc</th>\n",
              "      <th>pub_rec</th>\n",
              "      <th>revol_bal</th>\n",
              "      <th>revol_util</th>\n",
              "      <th>total_acc</th>\n",
              "      <th>total_pymnt</th>\n",
              "      <th>total_pymnt_inv</th>\n",
              "      <th>total_rec_prncp</th>\n",
              "      <th>total_rec_int</th>\n",
              "      <th>last_pymnt_d</th>\n",
              "      <th>last_pymnt_amnt</th>\n",
              "      <th>last_credit_pull_d</th>\n",
              "    </tr>\n",
              "  </thead>\n",
              "  <tbody>\n",
              "    <tr>\n",
              "      <th>1</th>\n",
              "      <td>15000</td>\n",
              "      <td>15000</td>\n",
              "      <td>14800.000000</td>\n",
              "      <td>0</td>\n",
              "      <td>340</td>\n",
              "      <td>476.58</td>\n",
              "      <td>0</td>\n",
              "      <td>4</td>\n",
              "      <td>0</td>\n",
              "      <td>3</td>\n",
              "      <td>147000.0</td>\n",
              "      <td>0</td>\n",
              "      <td>4</td>\n",
              "      <td>1</td>\n",
              "      <td>9</td>\n",
              "      <td>257</td>\n",
              "      <td>10</td>\n",
              "      <td>3.47</td>\n",
              "      <td>0</td>\n",
              "      <td>224</td>\n",
              "      <td>0</td>\n",
              "      <td>6</td>\n",
              "      <td>0</td>\n",
              "      <td>4910</td>\n",
              "      <td>71</td>\n",
              "      <td>17</td>\n",
              "      <td>15112.760000</td>\n",
              "      <td>14911.26</td>\n",
              "      <td>15000.0</td>\n",
              "      <td>112.76</td>\n",
              "      <td>7</td>\n",
              "      <td>15114.03</td>\n",
              "      <td>3</td>\n",
              "    </tr>\n",
              "    <tr>\n",
              "      <th>2</th>\n",
              "      <td>2000</td>\n",
              "      <td>2000</td>\n",
              "      <td>2000.000000</td>\n",
              "      <td>0</td>\n",
              "      <td>101</td>\n",
              "      <td>67.94</td>\n",
              "      <td>2</td>\n",
              "      <td>12</td>\n",
              "      <td>4</td>\n",
              "      <td>2</td>\n",
              "      <td>36000.0</td>\n",
              "      <td>0</td>\n",
              "      <td>53</td>\n",
              "      <td>1</td>\n",
              "      <td>6</td>\n",
              "      <td>267</td>\n",
              "      <td>10</td>\n",
              "      <td>7.83</td>\n",
              "      <td>0</td>\n",
              "      <td>322</td>\n",
              "      <td>0</td>\n",
              "      <td>8</td>\n",
              "      <td>0</td>\n",
              "      <td>1790</td>\n",
              "      <td>312</td>\n",
              "      <td>10</td>\n",
              "      <td>2354.966827</td>\n",
              "      <td>2354.97</td>\n",
              "      <td>2000.0</td>\n",
              "      <td>354.97</td>\n",
              "      <td>14</td>\n",
              "      <td>101.78</td>\n",
              "      <td>14</td>\n",
              "    </tr>\n",
              "    <tr>\n",
              "      <th>4</th>\n",
              "      <td>14000</td>\n",
              "      <td>14000</td>\n",
              "      <td>14000.000000</td>\n",
              "      <td>1</td>\n",
              "      <td>210</td>\n",
              "      <td>351.64</td>\n",
              "      <td>3</td>\n",
              "      <td>19</td>\n",
              "      <td>5</td>\n",
              "      <td>0</td>\n",
              "      <td>50000.0</td>\n",
              "      <td>0</td>\n",
              "      <td>17</td>\n",
              "      <td>1</td>\n",
              "      <td>2</td>\n",
              "      <td>289</td>\n",
              "      <td>9</td>\n",
              "      <td>21.24</td>\n",
              "      <td>1</td>\n",
              "      <td>42</td>\n",
              "      <td>1</td>\n",
              "      <td>9</td>\n",
              "      <td>1</td>\n",
              "      <td>553</td>\n",
              "      <td>952</td>\n",
              "      <td>27</td>\n",
              "      <td>20804.230020</td>\n",
              "      <td>20804.23</td>\n",
              "      <td>14000.0</td>\n",
              "      <td>6804.23</td>\n",
              "      <td>71</td>\n",
              "      <td>3943.27</td>\n",
              "      <td>76</td>\n",
              "    </tr>\n",
              "    <tr>\n",
              "      <th>5</th>\n",
              "      <td>12000</td>\n",
              "      <td>12000</td>\n",
              "      <td>11900.000000</td>\n",
              "      <td>0</td>\n",
              "      <td>340</td>\n",
              "      <td>381.26</td>\n",
              "      <td>0</td>\n",
              "      <td>4</td>\n",
              "      <td>7</td>\n",
              "      <td>0</td>\n",
              "      <td>294000.0</td>\n",
              "      <td>0</td>\n",
              "      <td>45</td>\n",
              "      <td>1</td>\n",
              "      <td>9</td>\n",
              "      <td>731</td>\n",
              "      <td>4</td>\n",
              "      <td>0.50</td>\n",
              "      <td>0</td>\n",
              "      <td>151</td>\n",
              "      <td>0</td>\n",
              "      <td>11</td>\n",
              "      <td>0</td>\n",
              "      <td>5306</td>\n",
              "      <td>142</td>\n",
              "      <td>21</td>\n",
              "      <td>12344.811770</td>\n",
              "      <td>12241.94</td>\n",
              "      <td>12000.0</td>\n",
              "      <td>344.81</td>\n",
              "      <td>8</td>\n",
              "      <td>11204.30</td>\n",
              "      <td>8</td>\n",
              "    </tr>\n",
              "    <tr>\n",
              "      <th>6</th>\n",
              "      <td>10000</td>\n",
              "      <td>6525</td>\n",
              "      <td>6480.473624</td>\n",
              "      <td>1</td>\n",
              "      <td>327</td>\n",
              "      <td>131.93</td>\n",
              "      <td>0</td>\n",
              "      <td>4</td>\n",
              "      <td>4</td>\n",
              "      <td>0</td>\n",
              "      <td>65000.0</td>\n",
              "      <td>0</td>\n",
              "      <td>6</td>\n",
              "      <td>1</td>\n",
              "      <td>1</td>\n",
              "      <td>510</td>\n",
              "      <td>24</td>\n",
              "      <td>7.62</td>\n",
              "      <td>1</td>\n",
              "      <td>223</td>\n",
              "      <td>1</td>\n",
              "      <td>13</td>\n",
              "      <td>0</td>\n",
              "      <td>5629</td>\n",
              "      <td>124</td>\n",
              "      <td>23</td>\n",
              "      <td>7908.889997</td>\n",
              "      <td>7846.07</td>\n",
              "      <td>6525.0</td>\n",
              "      <td>1383.89</td>\n",
              "      <td>63</td>\n",
              "      <td>668.53</td>\n",
              "      <td>71</td>\n",
              "    </tr>\n",
              "  </tbody>\n",
              "</table>\n",
              "</div>"
            ],
            "text/plain": [
              "   loan_amnt  funded_amnt  ...  last_pymnt_amnt  last_credit_pull_d\n",
              "1      15000        15000  ...         15114.03                   3\n",
              "2       2000         2000  ...           101.78                  14\n",
              "4      14000        14000  ...          3943.27                  76\n",
              "5      12000        12000  ...         11204.30                   8\n",
              "6      10000         6525  ...           668.53                  71\n",
              "\n",
              "[5 rows x 33 columns]"
            ]
          },
          "metadata": {},
          "execution_count": 264
        }
      ]
    },
    {
      "cell_type": "code",
      "metadata": {
        "colab": {
          "base_uri": "https://localhost:8080/",
          "height": 1000
        },
        "id": "rKTedE5CiQf2",
        "outputId": "29d7453a-529e-42c2-a2c2-33d4c87f802d"
      },
      "source": [
        "test_data=test_data[columns]\n",
        "test_data.head()\n",
        "\n",
        "dt=test_data\n",
        "dt['emp_length'] = dt['emp_length'].astype('|S')\n",
        "dt['revol_util'] = dt['revol_util'].astype('|S')\n",
        "dt['last_pymnt_d'] = dt['last_pymnt_d'].astype('|S')\n",
        "dt['last_credit_pull_d'] = dt['last_credit_pull_d'].astype('|S')\n",
        "dt['emp_length'].describe()\n",
        "\n",
        "le = LabelEncoder()\n",
        "dt.term = le.fit_transform(dt.term)\n",
        "\n",
        "col=['int_rate','emp_length','grade','sub_grade','revol_util','last_pymnt_d','home_ownership','verification_status','issue_d','loan_status','purpose','zip_code','addr_state','earliest_cr_line','last_credit_pull_d']\n",
        "\n",
        "for i in col:\n",
        "  le=LabelEncoder()\n",
        "  dt[i]=le.fit_transform(dt[i])\n",
        "\n",
        "dt[col].head()\n",
        "test_data=dt\n",
        "dt.head()"
      ],
      "execution_count": 265,
      "outputs": [
        {
          "output_type": "stream",
          "name": "stderr",
          "text": [
            "/usr/local/lib/python3.7/dist-packages/ipykernel_launcher.py:5: SettingWithCopyWarning:\n",
            "\n",
            "\n",
            "A value is trying to be set on a copy of a slice from a DataFrame.\n",
            "Try using .loc[row_indexer,col_indexer] = value instead\n",
            "\n",
            "See the caveats in the documentation: https://pandas.pydata.org/pandas-docs/stable/user_guide/indexing.html#returning-a-view-versus-a-copy\n",
            "\n",
            "/usr/local/lib/python3.7/dist-packages/ipykernel_launcher.py:6: SettingWithCopyWarning:\n",
            "\n",
            "\n",
            "A value is trying to be set on a copy of a slice from a DataFrame.\n",
            "Try using .loc[row_indexer,col_indexer] = value instead\n",
            "\n",
            "See the caveats in the documentation: https://pandas.pydata.org/pandas-docs/stable/user_guide/indexing.html#returning-a-view-versus-a-copy\n",
            "\n",
            "/usr/local/lib/python3.7/dist-packages/ipykernel_launcher.py:7: SettingWithCopyWarning:\n",
            "\n",
            "\n",
            "A value is trying to be set on a copy of a slice from a DataFrame.\n",
            "Try using .loc[row_indexer,col_indexer] = value instead\n",
            "\n",
            "See the caveats in the documentation: https://pandas.pydata.org/pandas-docs/stable/user_guide/indexing.html#returning-a-view-versus-a-copy\n",
            "\n",
            "/usr/local/lib/python3.7/dist-packages/ipykernel_launcher.py:8: SettingWithCopyWarning:\n",
            "\n",
            "\n",
            "A value is trying to be set on a copy of a slice from a DataFrame.\n",
            "Try using .loc[row_indexer,col_indexer] = value instead\n",
            "\n",
            "See the caveats in the documentation: https://pandas.pydata.org/pandas-docs/stable/user_guide/indexing.html#returning-a-view-versus-a-copy\n",
            "\n",
            "/usr/local/lib/python3.7/dist-packages/pandas/core/generic.py:5170: SettingWithCopyWarning:\n",
            "\n",
            "\n",
            "A value is trying to be set on a copy of a slice from a DataFrame.\n",
            "Try using .loc[row_indexer,col_indexer] = value instead\n",
            "\n",
            "See the caveats in the documentation: https://pandas.pydata.org/pandas-docs/stable/user_guide/indexing.html#returning-a-view-versus-a-copy\n",
            "\n",
            "/usr/local/lib/python3.7/dist-packages/ipykernel_launcher.py:18: SettingWithCopyWarning:\n",
            "\n",
            "\n",
            "A value is trying to be set on a copy of a slice from a DataFrame.\n",
            "Try using .loc[row_indexer,col_indexer] = value instead\n",
            "\n",
            "See the caveats in the documentation: https://pandas.pydata.org/pandas-docs/stable/user_guide/indexing.html#returning-a-view-versus-a-copy\n",
            "\n"
          ]
        },
        {
          "output_type": "execute_result",
          "data": {
            "text/html": [
              "<div>\n",
              "<style scoped>\n",
              "    .dataframe tbody tr th:only-of-type {\n",
              "        vertical-align: middle;\n",
              "    }\n",
              "\n",
              "    .dataframe tbody tr th {\n",
              "        vertical-align: top;\n",
              "    }\n",
              "\n",
              "    .dataframe thead th {\n",
              "        text-align: right;\n",
              "    }\n",
              "</style>\n",
              "<table border=\"1\" class=\"dataframe\">\n",
              "  <thead>\n",
              "    <tr style=\"text-align: right;\">\n",
              "      <th></th>\n",
              "      <th>loan_amnt</th>\n",
              "      <th>funded_amnt</th>\n",
              "      <th>funded_amnt_inv</th>\n",
              "      <th>term</th>\n",
              "      <th>int_rate</th>\n",
              "      <th>installment</th>\n",
              "      <th>grade</th>\n",
              "      <th>sub_grade</th>\n",
              "      <th>emp_length</th>\n",
              "      <th>home_ownership</th>\n",
              "      <th>annual_inc</th>\n",
              "      <th>verification_status</th>\n",
              "      <th>issue_d</th>\n",
              "      <th>loan_status</th>\n",
              "      <th>purpose</th>\n",
              "      <th>zip_code</th>\n",
              "      <th>addr_state</th>\n",
              "      <th>dti</th>\n",
              "      <th>delinq_2yrs</th>\n",
              "      <th>earliest_cr_line</th>\n",
              "      <th>inq_last_6mths</th>\n",
              "      <th>open_acc</th>\n",
              "      <th>pub_rec</th>\n",
              "      <th>revol_bal</th>\n",
              "      <th>revol_util</th>\n",
              "      <th>total_acc</th>\n",
              "      <th>total_pymnt</th>\n",
              "      <th>total_pymnt_inv</th>\n",
              "      <th>total_rec_prncp</th>\n",
              "      <th>total_rec_int</th>\n",
              "      <th>last_pymnt_d</th>\n",
              "      <th>last_pymnt_amnt</th>\n",
              "      <th>last_credit_pull_d</th>\n",
              "    </tr>\n",
              "  </thead>\n",
              "  <tbody>\n",
              "    <tr>\n",
              "      <th>0</th>\n",
              "      <td>4200</td>\n",
              "      <td>4200</td>\n",
              "      <td>4200.0</td>\n",
              "      <td>0</td>\n",
              "      <td>293</td>\n",
              "      <td>128.96</td>\n",
              "      <td>0</td>\n",
              "      <td>1</td>\n",
              "      <td>6</td>\n",
              "      <td>4</td>\n",
              "      <td>69000.0</td>\n",
              "      <td>0</td>\n",
              "      <td>21</td>\n",
              "      <td>1</td>\n",
              "      <td>0</td>\n",
              "      <td>122</td>\n",
              "      <td>36</td>\n",
              "      <td>11.08</td>\n",
              "      <td>0</td>\n",
              "      <td>10</td>\n",
              "      <td>0</td>\n",
              "      <td>10</td>\n",
              "      <td>0</td>\n",
              "      <td>4544</td>\n",
              "      <td>41</td>\n",
              "      <td>15</td>\n",
              "      <td>4642.374867</td>\n",
              "      <td>4642.37</td>\n",
              "      <td>4200.0</td>\n",
              "      <td>442.37</td>\n",
              "      <td>57</td>\n",
              "      <td>132.82</td>\n",
              "      <td>76</td>\n",
              "    </tr>\n",
              "    <tr>\n",
              "      <th>2</th>\n",
              "      <td>10000</td>\n",
              "      <td>10000</td>\n",
              "      <td>9975.0</td>\n",
              "      <td>0</td>\n",
              "      <td>325</td>\n",
              "      <td>317.72</td>\n",
              "      <td>0</td>\n",
              "      <td>4</td>\n",
              "      <td>4</td>\n",
              "      <td>0</td>\n",
              "      <td>75000.0</td>\n",
              "      <td>0</td>\n",
              "      <td>53</td>\n",
              "      <td>1</td>\n",
              "      <td>2</td>\n",
              "      <td>150</td>\n",
              "      <td>36</td>\n",
              "      <td>12.64</td>\n",
              "      <td>0</td>\n",
              "      <td>123</td>\n",
              "      <td>1</td>\n",
              "      <td>10</td>\n",
              "      <td>0</td>\n",
              "      <td>36161</td>\n",
              "      <td>436</td>\n",
              "      <td>45</td>\n",
              "      <td>10287.347790</td>\n",
              "      <td>10261.63</td>\n",
              "      <td>10000.0</td>\n",
              "      <td>287.35</td>\n",
              "      <td>3</td>\n",
              "      <td>9337.10</td>\n",
              "      <td>76</td>\n",
              "    </tr>\n",
              "    <tr>\n",
              "      <th>3</th>\n",
              "      <td>6000</td>\n",
              "      <td>6000</td>\n",
              "      <td>6000.0</td>\n",
              "      <td>1</td>\n",
              "      <td>182</td>\n",
              "      <td>147.48</td>\n",
              "      <td>3</td>\n",
              "      <td>17</td>\n",
              "      <td>1</td>\n",
              "      <td>4</td>\n",
              "      <td>60000.0</td>\n",
              "      <td>1</td>\n",
              "      <td>20</td>\n",
              "      <td>1</td>\n",
              "      <td>2</td>\n",
              "      <td>156</td>\n",
              "      <td>36</td>\n",
              "      <td>13.06</td>\n",
              "      <td>0</td>\n",
              "      <td>7</td>\n",
              "      <td>0</td>\n",
              "      <td>20</td>\n",
              "      <td>0</td>\n",
              "      <td>13961</td>\n",
              "      <td>599</td>\n",
              "      <td>24</td>\n",
              "      <td>8848.343924</td>\n",
              "      <td>8848.34</td>\n",
              "      <td>6000.0</td>\n",
              "      <td>2848.34</td>\n",
              "      <td>76</td>\n",
              "      <td>147.02</td>\n",
              "      <td>76</td>\n",
              "    </tr>\n",
              "    <tr>\n",
              "      <th>4</th>\n",
              "      <td>25000</td>\n",
              "      <td>25000</td>\n",
              "      <td>25000.0</td>\n",
              "      <td>0</td>\n",
              "      <td>151</td>\n",
              "      <td>869.21</td>\n",
              "      <td>3</td>\n",
              "      <td>16</td>\n",
              "      <td>4</td>\n",
              "      <td>4</td>\n",
              "      <td>135000.0</td>\n",
              "      <td>1</td>\n",
              "      <td>11</td>\n",
              "      <td>1</td>\n",
              "      <td>2</td>\n",
              "      <td>718</td>\n",
              "      <td>4</td>\n",
              "      <td>15.49</td>\n",
              "      <td>0</td>\n",
              "      <td>290</td>\n",
              "      <td>2</td>\n",
              "      <td>20</td>\n",
              "      <td>0</td>\n",
              "      <td>21090</td>\n",
              "      <td>541</td>\n",
              "      <td>44</td>\n",
              "      <td>31293.587380</td>\n",
              "      <td>31293.59</td>\n",
              "      <td>25000.0</td>\n",
              "      <td>6293.59</td>\n",
              "      <td>47</td>\n",
              "      <td>960.31</td>\n",
              "      <td>76</td>\n",
              "    </tr>\n",
              "    <tr>\n",
              "      <th>5</th>\n",
              "      <td>7100</td>\n",
              "      <td>7100</td>\n",
              "      <td>7100.0</td>\n",
              "      <td>0</td>\n",
              "      <td>154</td>\n",
              "      <td>247.07</td>\n",
              "      <td>2</td>\n",
              "      <td>13</td>\n",
              "      <td>1</td>\n",
              "      <td>0</td>\n",
              "      <td>40000.0</td>\n",
              "      <td>0</td>\n",
              "      <td>21</td>\n",
              "      <td>1</td>\n",
              "      <td>4</td>\n",
              "      <td>57</td>\n",
              "      <td>29</td>\n",
              "      <td>16.08</td>\n",
              "      <td>0</td>\n",
              "      <td>260</td>\n",
              "      <td>1</td>\n",
              "      <td>6</td>\n",
              "      <td>0</td>\n",
              "      <td>5367</td>\n",
              "      <td>621</td>\n",
              "      <td>11</td>\n",
              "      <td>8624.213305</td>\n",
              "      <td>8624.21</td>\n",
              "      <td>7100.0</td>\n",
              "      <td>1524.21</td>\n",
              "      <td>38</td>\n",
              "      <td>1745.70</td>\n",
              "      <td>76</td>\n",
              "    </tr>\n",
              "  </tbody>\n",
              "</table>\n",
              "</div>"
            ],
            "text/plain": [
              "   loan_amnt  funded_amnt  ...  last_pymnt_amnt  last_credit_pull_d\n",
              "0       4200         4200  ...           132.82                  76\n",
              "2      10000        10000  ...          9337.10                  76\n",
              "3       6000         6000  ...           147.02                  76\n",
              "4      25000        25000  ...           960.31                  76\n",
              "5       7100         7100  ...          1745.70                  76\n",
              "\n",
              "[5 rows x 33 columns]"
            ]
          },
          "metadata": {},
          "execution_count": 265
        }
      ]
    },
    {
      "cell_type": "markdown",
      "metadata": {
        "id": "AjyRil5xjBFI"
      },
      "source": [
        "Scaling featues"
      ]
    },
    {
      "cell_type": "code",
      "metadata": {
        "id": "vVuTTNeqjXKc"
      },
      "source": [
        "col=['loan_amnt', 'funded_amnt', 'funded_amnt_inv', 'term', 'int_rate',\n",
        "       'installment', 'grade', 'sub_grade', 'emp_length', 'home_ownership',\n",
        "       'annual_inc', 'verification_status', 'issue_d',\n",
        "       'purpose', 'zip_code', 'addr_state', 'dti', 'delinq_2yrs',\n",
        "       'earliest_cr_line', 'inq_last_6mths', 'open_acc', 'pub_rec',\n",
        "       'revol_bal', 'revol_util', 'total_acc', 'total_pymnt',\n",
        "       'total_pymnt_inv', 'total_rec_prncp', 'total_rec_int', 'last_pymnt_d',\n",
        "       'last_pymnt_amnt', 'last_credit_pull_d']\n",
        "scaler=StandardScaler().fit(train_data[col])\n",
        "scaler_2=StandardScaler().fit(test_data[col])\n",
        "\n",
        "train_scaled_data=scaler.transform(train_data[col])\n",
        "test_scaled_data=scaler_2.transform(test_data[col])"
      ],
      "execution_count": 266,
      "outputs": []
    },
    {
      "cell_type": "code",
      "metadata": {
        "id": "-s1YYJ_9kqoa"
      },
      "source": [
        "df=pd.DataFrame(train_scaled_data,columns=col)\n",
        "df_2=pd.DataFrame(test_scaled_data,columns=col)\n",
        "df['loan_status']=train_data['loan_status']\n",
        "df_2['loan_status']=test_data['loan_status']\n",
        "df.head()\n",
        "train_data=df\n",
        "test_data=df_2\n"
      ],
      "execution_count": 267,
      "outputs": []
    },
    {
      "cell_type": "code",
      "metadata": {
        "colab": {
          "base_uri": "https://localhost:8080/",
          "height": 223
        },
        "id": "_wooqs-vlF9g",
        "outputId": "2364613b-2a58-4719-e3ba-19aa696bc7a6"
      },
      "source": [
        "train_data.head(5)"
      ],
      "execution_count": 268,
      "outputs": [
        {
          "output_type": "execute_result",
          "data": {
            "text/html": [
              "<div>\n",
              "<style scoped>\n",
              "    .dataframe tbody tr th:only-of-type {\n",
              "        vertical-align: middle;\n",
              "    }\n",
              "\n",
              "    .dataframe tbody tr th {\n",
              "        vertical-align: top;\n",
              "    }\n",
              "\n",
              "    .dataframe thead th {\n",
              "        text-align: right;\n",
              "    }\n",
              "</style>\n",
              "<table border=\"1\" class=\"dataframe\">\n",
              "  <thead>\n",
              "    <tr style=\"text-align: right;\">\n",
              "      <th></th>\n",
              "      <th>loan_amnt</th>\n",
              "      <th>funded_amnt</th>\n",
              "      <th>funded_amnt_inv</th>\n",
              "      <th>term</th>\n",
              "      <th>int_rate</th>\n",
              "      <th>installment</th>\n",
              "      <th>grade</th>\n",
              "      <th>sub_grade</th>\n",
              "      <th>emp_length</th>\n",
              "      <th>home_ownership</th>\n",
              "      <th>annual_inc</th>\n",
              "      <th>verification_status</th>\n",
              "      <th>issue_d</th>\n",
              "      <th>purpose</th>\n",
              "      <th>zip_code</th>\n",
              "      <th>addr_state</th>\n",
              "      <th>dti</th>\n",
              "      <th>delinq_2yrs</th>\n",
              "      <th>earliest_cr_line</th>\n",
              "      <th>inq_last_6mths</th>\n",
              "      <th>open_acc</th>\n",
              "      <th>pub_rec</th>\n",
              "      <th>revol_bal</th>\n",
              "      <th>revol_util</th>\n",
              "      <th>total_acc</th>\n",
              "      <th>total_pymnt</th>\n",
              "      <th>total_pymnt_inv</th>\n",
              "      <th>total_rec_prncp</th>\n",
              "      <th>total_rec_int</th>\n",
              "      <th>last_pymnt_d</th>\n",
              "      <th>last_pymnt_amnt</th>\n",
              "      <th>last_credit_pull_d</th>\n",
              "      <th>loan_status</th>\n",
              "    </tr>\n",
              "  </thead>\n",
              "  <tbody>\n",
              "    <tr>\n",
              "      <th>0</th>\n",
              "      <td>0.533425</td>\n",
              "      <td>0.592017</td>\n",
              "      <td>0.649534</td>\n",
              "      <td>-0.578792</td>\n",
              "      <td>1.395870</td>\n",
              "      <td>0.739463</td>\n",
              "      <td>-1.131416</td>\n",
              "      <td>-0.870383</td>\n",
              "      <td>-1.252149</td>\n",
              "      <td>0.968373</td>\n",
              "      <td>1.102861</td>\n",
              "      <td>-1.021445</td>\n",
              "      <td>-1.068965</td>\n",
              "      <td>1.546330</td>\n",
              "      <td>-0.528639</td>\n",
              "      <td>-0.807495</td>\n",
              "      <td>-1.478135</td>\n",
              "      <td>-0.293896</td>\n",
              "      <td>0.015260</td>\n",
              "      <td>-0.812518</td>\n",
              "      <td>-0.760985</td>\n",
              "      <td>-0.227236</td>\n",
              "      <td>-0.539037</td>\n",
              "      <td>-1.515797</td>\n",
              "      <td>-0.452426</td>\n",
              "      <td>0.358495</td>\n",
              "      <td>0.409539</td>\n",
              "      <td>0.756939</td>\n",
              "      <td>-0.850271</td>\n",
              "      <td>-1.850656</td>\n",
              "      <td>2.739168</td>\n",
              "      <td>-2.654786</td>\n",
              "      <td>0.0</td>\n",
              "    </tr>\n",
              "    <tr>\n",
              "      <th>1</th>\n",
              "      <td>-1.248489</td>\n",
              "      <td>-1.256565</td>\n",
              "      <td>-1.188177</td>\n",
              "      <td>-0.578792</td>\n",
              "      <td>-0.630814</td>\n",
              "      <td>-1.237268</td>\n",
              "      <td>0.310996</td>\n",
              "      <td>0.308383</td>\n",
              "      <td>-0.005259</td>\n",
              "      <td>0.277015</td>\n",
              "      <td>-0.482905</td>\n",
              "      <td>-1.021445</td>\n",
              "      <td>2.498572</td>\n",
              "      <td>0.655364</td>\n",
              "      <td>-0.489633</td>\n",
              "      <td>-0.807495</td>\n",
              "      <td>-0.822116</td>\n",
              "      <td>-0.293896</td>\n",
              "      <td>0.641114</td>\n",
              "      <td>-0.812518</td>\n",
              "      <td>-0.306323</td>\n",
              "      <td>-0.227236</td>\n",
              "      <td>-0.736488</td>\n",
              "      <td>-0.711125</td>\n",
              "      <td>-1.068404</td>\n",
              "      <td>-1.096101</td>\n",
              "      <td>-1.041708</td>\n",
              "      <td>-1.107801</td>\n",
              "      <td>-0.748881</td>\n",
              "      <td>-1.458127</td>\n",
              "      <td>-0.592609</td>\n",
              "      <td>-2.108413</td>\n",
              "      <td>1.0</td>\n",
              "    </tr>\n",
              "    <tr>\n",
              "      <th>2</th>\n",
              "      <td>0.396355</td>\n",
              "      <td>0.449818</td>\n",
              "      <td>0.534677</td>\n",
              "      <td>1.727738</td>\n",
              "      <td>0.293490</td>\n",
              "      <td>0.135086</td>\n",
              "      <td>1.032202</td>\n",
              "      <td>1.339803</td>\n",
              "      <td>0.306463</td>\n",
              "      <td>-1.105700</td>\n",
              "      <td>-0.282899</td>\n",
              "      <td>-1.021445</td>\n",
              "      <td>-0.122475</td>\n",
              "      <td>-0.532590</td>\n",
              "      <td>-0.403821</td>\n",
              "      <td>-0.875720</td>\n",
              "      <td>1.195592</td>\n",
              "      <td>1.727034</td>\n",
              "      <td>-1.147040</td>\n",
              "      <td>0.121052</td>\n",
              "      <td>-0.078992</td>\n",
              "      <td>4.027058</td>\n",
              "      <td>-0.814772</td>\n",
              "      <td>1.425761</td>\n",
              "      <td>0.427542</td>\n",
              "      <td>1.007415</td>\n",
              "      <td>1.090644</td>\n",
              "      <td>0.613497</td>\n",
              "      <td>1.950801</td>\n",
              "      <td>1.738177</td>\n",
              "      <td>0.259961</td>\n",
              "      <td>0.971142</td>\n",
              "      <td>1.0</td>\n",
              "    </tr>\n",
              "    <tr>\n",
              "      <th>3</th>\n",
              "      <td>0.122214</td>\n",
              "      <td>0.165421</td>\n",
              "      <td>0.233178</td>\n",
              "      <td>-0.578792</td>\n",
              "      <td>1.395870</td>\n",
              "      <td>0.278368</td>\n",
              "      <td>-1.131416</td>\n",
              "      <td>-0.870383</td>\n",
              "      <td>0.929908</td>\n",
              "      <td>-1.105700</td>\n",
              "      <td>3.202930</td>\n",
              "      <td>-1.021445</td>\n",
              "      <td>1.916117</td>\n",
              "      <td>1.546330</td>\n",
              "      <td>1.320237</td>\n",
              "      <td>-1.216846</td>\n",
              "      <td>-1.925010</td>\n",
              "      <td>-0.293896</td>\n",
              "      <td>-0.450937</td>\n",
              "      <td>-0.812518</td>\n",
              "      <td>0.375670</td>\n",
              "      <td>-0.227236</td>\n",
              "      <td>-0.513976</td>\n",
              "      <td>-1.278736</td>\n",
              "      <td>-0.100439</td>\n",
              "      <td>0.042904</td>\n",
              "      <td>0.101021</td>\n",
              "      <td>0.326614</td>\n",
              "      <td>-0.753134</td>\n",
              "      <td>-1.794580</td>\n",
              "      <td>1.871453</td>\n",
              "      <td>-2.406435</td>\n",
              "      <td>NaN</td>\n",
              "    </tr>\n",
              "    <tr>\n",
              "      <th>4</th>\n",
              "      <td>-0.151927</td>\n",
              "      <td>-0.613116</td>\n",
              "      <td>-0.544910</td>\n",
              "      <td>1.727738</td>\n",
              "      <td>1.285632</td>\n",
              "      <td>-0.927726</td>\n",
              "      <td>-1.131416</td>\n",
              "      <td>-0.870383</td>\n",
              "      <td>-0.005259</td>\n",
              "      <td>-1.105700</td>\n",
              "      <td>-0.068606</td>\n",
              "      <td>-1.021445</td>\n",
              "      <td>-0.923351</td>\n",
              "      <td>-0.829578</td>\n",
              "      <td>0.458208</td>\n",
              "      <td>0.147655</td>\n",
              "      <td>-0.853714</td>\n",
              "      <td>1.727034</td>\n",
              "      <td>0.008874</td>\n",
              "      <td>0.121052</td>\n",
              "      <td>0.830332</td>\n",
              "      <td>-0.227236</td>\n",
              "      <td>-0.493535</td>\n",
              "      <td>-1.338836</td>\n",
              "      <td>0.075555</td>\n",
              "      <td>-0.462863</td>\n",
              "      <td>-0.407050</td>\n",
              "      <td>-0.458728</td>\n",
              "      <td>-0.318172</td>\n",
              "      <td>1.289573</td>\n",
              "      <td>-0.466826</td>\n",
              "      <td>0.722791</td>\n",
              "      <td>1.0</td>\n",
              "    </tr>\n",
              "  </tbody>\n",
              "</table>\n",
              "</div>"
            ],
            "text/plain": [
              "   loan_amnt  funded_amnt  ...  last_credit_pull_d  loan_status\n",
              "0   0.533425     0.592017  ...           -2.654786          0.0\n",
              "1  -1.248489    -1.256565  ...           -2.108413          1.0\n",
              "2   0.396355     0.449818  ...            0.971142          1.0\n",
              "3   0.122214     0.165421  ...           -2.406435          NaN\n",
              "4  -0.151927    -0.613116  ...            0.722791          1.0\n",
              "\n",
              "[5 rows x 33 columns]"
            ]
          },
          "metadata": {},
          "execution_count": 268
        }
      ]
    },
    {
      "cell_type": "code",
      "metadata": {
        "colab": {
          "base_uri": "https://localhost:8080/",
          "height": 223
        },
        "id": "VY7GjRC4lLXI",
        "outputId": "2ce7f638-9980-4364-9e98-6eb58d48c089"
      },
      "source": [
        "test_data.head(5)"
      ],
      "execution_count": 269,
      "outputs": [
        {
          "output_type": "execute_result",
          "data": {
            "text/html": [
              "<div>\n",
              "<style scoped>\n",
              "    .dataframe tbody tr th:only-of-type {\n",
              "        vertical-align: middle;\n",
              "    }\n",
              "\n",
              "    .dataframe tbody tr th {\n",
              "        vertical-align: top;\n",
              "    }\n",
              "\n",
              "    .dataframe thead th {\n",
              "        text-align: right;\n",
              "    }\n",
              "</style>\n",
              "<table border=\"1\" class=\"dataframe\">\n",
              "  <thead>\n",
              "    <tr style=\"text-align: right;\">\n",
              "      <th></th>\n",
              "      <th>loan_amnt</th>\n",
              "      <th>funded_amnt</th>\n",
              "      <th>funded_amnt_inv</th>\n",
              "      <th>term</th>\n",
              "      <th>int_rate</th>\n",
              "      <th>installment</th>\n",
              "      <th>grade</th>\n",
              "      <th>sub_grade</th>\n",
              "      <th>emp_length</th>\n",
              "      <th>home_ownership</th>\n",
              "      <th>annual_inc</th>\n",
              "      <th>verification_status</th>\n",
              "      <th>issue_d</th>\n",
              "      <th>purpose</th>\n",
              "      <th>zip_code</th>\n",
              "      <th>addr_state</th>\n",
              "      <th>dti</th>\n",
              "      <th>delinq_2yrs</th>\n",
              "      <th>earliest_cr_line</th>\n",
              "      <th>inq_last_6mths</th>\n",
              "      <th>open_acc</th>\n",
              "      <th>pub_rec</th>\n",
              "      <th>revol_bal</th>\n",
              "      <th>revol_util</th>\n",
              "      <th>total_acc</th>\n",
              "      <th>total_pymnt</th>\n",
              "      <th>total_pymnt_inv</th>\n",
              "      <th>total_rec_prncp</th>\n",
              "      <th>total_rec_int</th>\n",
              "      <th>last_pymnt_d</th>\n",
              "      <th>last_pymnt_amnt</th>\n",
              "      <th>last_credit_pull_d</th>\n",
              "      <th>loan_status</th>\n",
              "    </tr>\n",
              "  </thead>\n",
              "  <tbody>\n",
              "    <tr>\n",
              "      <th>0</th>\n",
              "      <td>-0.906720</td>\n",
              "      <td>-0.903686</td>\n",
              "      <td>-0.833273</td>\n",
              "      <td>-0.557285</td>\n",
              "      <td>1.099635</td>\n",
              "      <td>-0.903454</td>\n",
              "      <td>-1.116055</td>\n",
              "      <td>-1.287793</td>\n",
              "      <td>0.409924</td>\n",
              "      <td>0.963950</td>\n",
              "      <td>0.037155</td>\n",
              "      <td>-1.045609</td>\n",
              "      <td>0.183995</td>\n",
              "      <td>-1.144670</td>\n",
              "      <td>-1.130942</td>\n",
              "      <td>1.015511</td>\n",
              "      <td>-0.321019</td>\n",
              "      <td>-0.304958</td>\n",
              "      <td>-1.381394</td>\n",
              "      <td>-0.815289</td>\n",
              "      <td>0.192405</td>\n",
              "      <td>-0.242776</td>\n",
              "      <td>-0.532792</td>\n",
              "      <td>-1.562176</td>\n",
              "      <td>-0.598662</td>\n",
              "      <td>-0.794727</td>\n",
              "      <td>-0.736201</td>\n",
              "      <td>-0.752496</td>\n",
              "      <td>-0.684052</td>\n",
              "      <td>0.945382</td>\n",
              "      <td>-0.574211</td>\n",
              "      <td>0.988847</td>\n",
              "      <td>1.0</td>\n",
              "    </tr>\n",
              "    <tr>\n",
              "      <th>1</th>\n",
              "      <td>-0.126755</td>\n",
              "      <td>-0.096633</td>\n",
              "      <td>-0.021998</td>\n",
              "      <td>-0.557285</td>\n",
              "      <td>1.383370</td>\n",
              "      <td>-0.012377</td>\n",
              "      <td>-1.116055</td>\n",
              "      <td>-0.842168</td>\n",
              "      <td>-0.143254</td>\n",
              "      <td>-1.113235</td>\n",
              "      <td>0.150573</td>\n",
              "      <td>-1.045609</td>\n",
              "      <td>2.593754</td>\n",
              "      <td>-0.573076</td>\n",
              "      <td>-1.016276</td>\n",
              "      <td>1.015511</td>\n",
              "      <td>-0.088814</td>\n",
              "      <td>-0.304958</td>\n",
              "      <td>-0.662583</td>\n",
              "      <td>0.117403</td>\n",
              "      <td>0.192405</td>\n",
              "      <td>-0.242776</td>\n",
              "      <td>1.446565</td>\n",
              "      <td>-0.214974</td>\n",
              "      <td>2.003619</td>\n",
              "      <td>-0.158542</td>\n",
              "      <td>-0.096231</td>\n",
              "      <td>0.067713</td>\n",
              "      <td>-0.748918</td>\n",
              "      <td>-2.044047</td>\n",
              "      <td>1.482548</td>\n",
              "      <td>0.988847</td>\n",
              "      <td>0.0</td>\n",
              "    </tr>\n",
              "    <tr>\n",
              "      <th>2</th>\n",
              "      <td>-0.664662</td>\n",
              "      <td>-0.653222</td>\n",
              "      <td>-0.580408</td>\n",
              "      <td>1.794414</td>\n",
              "      <td>0.115429</td>\n",
              "      <td>-0.816027</td>\n",
              "      <td>1.076432</td>\n",
              "      <td>1.088870</td>\n",
              "      <td>-0.973022</td>\n",
              "      <td>0.963950</td>\n",
              "      <td>-0.132971</td>\n",
              "      <td>0.113598</td>\n",
              "      <td>0.108690</td>\n",
              "      <td>-0.573076</td>\n",
              "      <td>-0.991704</td>\n",
              "      <td>1.015511</td>\n",
              "      <td>-0.026297</td>\n",
              "      <td>-0.304958</td>\n",
              "      <td>-1.400477</td>\n",
              "      <td>-0.815289</td>\n",
              "      <td>2.463406</td>\n",
              "      <td>-0.242776</td>\n",
              "      <td>0.056752</td>\n",
              "      <td>0.340961</td>\n",
              "      <td>0.182022</td>\n",
              "      <td>-0.320716</td>\n",
              "      <td>-0.257189</td>\n",
              "      <td>-0.497948</td>\n",
              "      <td>0.322691</td>\n",
              "      <td>1.997218</td>\n",
              "      <td>-0.571038</td>\n",
              "      <td>0.988847</td>\n",
              "      <td>1.0</td>\n",
              "    </tr>\n",
              "    <tr>\n",
              "      <th>3</th>\n",
              "      <td>1.890397</td>\n",
              "      <td>1.990572</td>\n",
              "      <td>2.088720</td>\n",
              "      <td>-0.557285</td>\n",
              "      <td>-0.159439</td>\n",
              "      <td>2.591036</td>\n",
              "      <td>1.076432</td>\n",
              "      <td>0.940329</td>\n",
              "      <td>-0.143254</td>\n",
              "      <td>0.963950</td>\n",
              "      <td>1.284748</td>\n",
              "      <td>0.113598</td>\n",
              "      <td>-0.569055</td>\n",
              "      <td>-0.573076</td>\n",
              "      <td>1.309813</td>\n",
              "      <td>-1.173741</td>\n",
              "      <td>0.335408</td>\n",
              "      <td>-0.304958</td>\n",
              "      <td>0.399730</td>\n",
              "      <td>1.050095</td>\n",
              "      <td>2.463406</td>\n",
              "      <td>-0.242776</td>\n",
              "      <td>0.503057</td>\n",
              "      <td>0.143144</td>\n",
              "      <td>1.916876</td>\n",
              "      <td>2.208848</td>\n",
              "      <td>2.299074</td>\n",
              "      <td>2.188943</td>\n",
              "      <td>1.764306</td>\n",
              "      <td>0.391784</td>\n",
              "      <td>-0.389303</td>\n",
              "      <td>0.988847</td>\n",
              "      <td>1.0</td>\n",
              "    </tr>\n",
              "    <tr>\n",
              "      <th>4</th>\n",
              "      <td>-0.516738</td>\n",
              "      <td>-0.500160</td>\n",
              "      <td>-0.425880</td>\n",
              "      <td>-0.557285</td>\n",
              "      <td>-0.132839</td>\n",
              "      <td>-0.345894</td>\n",
              "      <td>0.345603</td>\n",
              "      <td>0.494705</td>\n",
              "      <td>-0.973022</td>\n",
              "      <td>-1.113235</td>\n",
              "      <td>-0.511030</td>\n",
              "      <td>-1.045609</td>\n",
              "      <td>0.183995</td>\n",
              "      <td>-0.001481</td>\n",
              "      <td>-1.397132</td>\n",
              "      <td>0.536612</td>\n",
              "      <td>0.423229</td>\n",
              "      <td>-0.304958</td>\n",
              "      <td>0.208896</td>\n",
              "      <td>0.117403</td>\n",
              "      <td>-0.715995</td>\n",
              "      <td>-0.242776</td>\n",
              "      <td>-0.481269</td>\n",
              "      <td>0.415995</td>\n",
              "      <td>-0.945633</td>\n",
              "      <td>-0.345976</td>\n",
              "      <td>-0.282715</td>\n",
              "      <td>-0.342391</td>\n",
              "      <td>-0.231372</td>\n",
              "      <td>-0.106454</td>\n",
              "      <td>-0.213802</td>\n",
              "      <td>0.988847</td>\n",
              "      <td>1.0</td>\n",
              "    </tr>\n",
              "  </tbody>\n",
              "</table>\n",
              "</div>"
            ],
            "text/plain": [
              "   loan_amnt  funded_amnt  ...  last_credit_pull_d  loan_status\n",
              "0  -0.906720    -0.903686  ...            0.988847          1.0\n",
              "1  -0.126755    -0.096633  ...            0.988847          0.0\n",
              "2  -0.664662    -0.653222  ...            0.988847          1.0\n",
              "3   1.890397     1.990572  ...            0.988847          1.0\n",
              "4  -0.516738    -0.500160  ...            0.988847          1.0\n",
              "\n",
              "[5 rows x 33 columns]"
            ]
          },
          "metadata": {},
          "execution_count": 269
        }
      ]
    },
    {
      "cell_type": "code",
      "metadata": {
        "colab": {
          "base_uri": "https://localhost:8080/"
        },
        "id": "7JSjT4DtlXiz",
        "outputId": "8c83ecfb-cde3-4014-db15-f7a53049a775"
      },
      "source": [
        "print(\"Total Null Values in train data:\",train_data.isnull().sum().sum())\n",
        "train_data['loan_status'].isnull().sum()\n",
        "print(train_data.shape)\n",
        "print(\"Total Null Values in test data :\",test_data.isnull().sum().sum())\n",
        "test_data['loan_status'].isnull().sum()\n",
        "print(test_data.shape)"
      ],
      "execution_count": 270,
      "outputs": [
        {
          "output_type": "stream",
          "name": "stdout",
          "text": [
            "Total Null Values in train data: 685\n",
            "(24301, 33)\n",
            "Total Null Values in test data : 442\n",
            "(14276, 33)\n"
          ]
        }
      ]
    },
    {
      "cell_type": "code",
      "metadata": {
        "colab": {
          "base_uri": "https://localhost:8080/"
        },
        "id": "RbT9UOQBl90h",
        "outputId": "d2ac64f1-2ba8-4889-d359-896e4ebaab76"
      },
      "source": [
        "train_data=train_data.fillna(method='ffill')\n",
        "print(\"Total Null Values in train data:\",train_data.isnull().sum().sum())"
      ],
      "execution_count": 271,
      "outputs": [
        {
          "output_type": "stream",
          "name": "stdout",
          "text": [
            "Total Null Values in train data: 0\n"
          ]
        }
      ]
    },
    {
      "cell_type": "code",
      "metadata": {
        "colab": {
          "base_uri": "https://localhost:8080/"
        },
        "id": "JQpYFNo2m3Pl",
        "outputId": "d853985f-9766-441d-9e14-cc6a0555e112"
      },
      "source": [
        "train_data.columns"
      ],
      "execution_count": 272,
      "outputs": [
        {
          "output_type": "execute_result",
          "data": {
            "text/plain": [
              "Index(['loan_amnt', 'funded_amnt', 'funded_amnt_inv', 'term', 'int_rate',\n",
              "       'installment', 'grade', 'sub_grade', 'emp_length', 'home_ownership',\n",
              "       'annual_inc', 'verification_status', 'issue_d', 'purpose', 'zip_code',\n",
              "       'addr_state', 'dti', 'delinq_2yrs', 'earliest_cr_line',\n",
              "       'inq_last_6mths', 'open_acc', 'pub_rec', 'revol_bal', 'revol_util',\n",
              "       'total_acc', 'total_pymnt', 'total_pymnt_inv', 'total_rec_prncp',\n",
              "       'total_rec_int', 'last_pymnt_d', 'last_pymnt_amnt',\n",
              "       'last_credit_pull_d', 'loan_status'],\n",
              "      dtype='object')"
            ]
          },
          "metadata": {},
          "execution_count": 272
        }
      ]
    },
    {
      "cell_type": "code",
      "metadata": {
        "colab": {
          "base_uri": "https://localhost:8080/"
        },
        "id": "qWoprtbsnpXV",
        "outputId": "43a6e1cb-a6d0-4228-9fce-f9cfb3fb9d00"
      },
      "source": [
        "f=['loan_amnt', 'funded_amnt', 'funded_amnt_inv', 'term', 'int_rate',\n",
        "       'installment', 'grade', 'sub_grade', 'emp_length', 'home_ownership',\n",
        "       'annual_inc', 'verification_status', 'issue_d', 'purpose', 'zip_code',\n",
        "       'addr_state', 'dti', 'delinq_2yrs', 'earliest_cr_line',\n",
        "       'inq_last_6mths', 'open_acc', 'pub_rec', 'revol_bal', 'revol_util',\n",
        "       'total_acc', 'total_pymnt', 'total_pymnt_inv', 'total_rec_prncp',\n",
        "       'total_rec_int', 'last_pymnt_d', 'last_pymnt_amnt',\n",
        "       'last_credit_pull_d']\n",
        "\n",
        "       \n",
        "model=GradientBoostingClassifier(max_depth=8)\n",
        "model.fit(train_data[f],train_data['loan_status'])\n",
        "print(model.score(train_data[f],train_data['loan_status']))"
      ],
      "execution_count": 273,
      "outputs": [
        {
          "output_type": "stream",
          "name": "stdout",
          "text": [
            "0.8929262170281058\n"
          ]
        }
      ]
    },
    {
      "cell_type": "code",
      "metadata": {
        "colab": {
          "base_uri": "https://localhost:8080/"
        },
        "id": "JC7LUi2lsNcy",
        "outputId": "499a4021-cb1f-4b1c-ba3a-bbd589fa7d45"
      },
      "source": [
        "test_data=test_data.fillna(method='ffill')\n",
        "print(\"Total Null Values in test data :\",test_data.isnull().sum().sum())"
      ],
      "execution_count": 274,
      "outputs": [
        {
          "output_type": "stream",
          "name": "stdout",
          "text": [
            "Total Null Values in test data : 0\n"
          ]
        }
      ]
    },
    {
      "cell_type": "code",
      "metadata": {
        "colab": {
          "base_uri": "https://localhost:8080/",
          "height": 282
        },
        "id": "fZgHS5Uvoqew",
        "outputId": "282e237a-8534-4080-8fec-5484f29fdb26"
      },
      "source": [
        "arr_1=[]\n",
        "arr_2=[]\n",
        "for i in range(5,10):\n",
        "  model=GradientBoostingClassifier(max_depth=i)\n",
        "  model.fit(train_data[col],train_data['loan_status'])\n",
        "  arr_1.append(model.score(train_data[col],train_data['loan_status']))\n",
        "  arr_2.append(model.score(test_data[col],test_data['loan_status']))\n",
        "\n",
        "arr_11=np.array(arr_1)\n",
        "arr_22=np.array(arr_2)\n",
        "\n",
        "plt.plot(arr_11)\n",
        "plt.plot(arr_22)"
      ],
      "execution_count": 275,
      "outputs": [
        {
          "output_type": "execute_result",
          "data": {
            "text/plain": [
              "[<matplotlib.lines.Line2D at 0x7efd78657a90>]"
            ]
          },
          "metadata": {},
          "execution_count": 275
        },
        {
          "output_type": "display_data",
          "data": {
            "image/png": "[encoded data removed]",
            "text/plain": [
              "<Figure size 432x288 with 1 Axes>"
            ]
          },
          "metadata": {
            "needs_background": "light"
          }
        }
      ]
    },
    {
      "cell_type": "code",
      "metadata": {
        "colab": {
          "base_uri": "https://localhost:8080/"
        },
        "id": "yRbOCSQrrMLp",
        "outputId": "d91db81c-a0a6-4e5a-a126-3a9f5d849986"
      },
      "source": [
        "model=GradientBoostingClassifier(max_depth=8,min_samples_split=4)\n",
        "model.fit(train_data[col],train_data['loan_status'])"
      ],
      "execution_count": 276,
      "outputs": [
        {
          "output_type": "execute_result",
          "data": {
            "text/plain": [
              "GradientBoostingClassifier(ccp_alpha=0.0, criterion='friedman_mse', init=None,\n",
              "                           learning_rate=0.1, loss='deviance', max_depth=8,\n",
              "                           max_features=None, max_leaf_nodes=None,\n",
              "                           min_impurity_decrease=0.0, min_impurity_split=None,\n",
              "                           min_samples_leaf=1, min_samples_split=4,\n",
              "                           min_weight_fraction_leaf=0.0, n_estimators=100,\n",
              "                           n_iter_no_change=None, presort='deprecated',\n",
              "                           random_state=None, subsample=1.0, tol=0.0001,\n",
              "                           validation_fraction=0.1, verbose=0,\n",
              "                           warm_start=False)"
            ]
          },
          "metadata": {},
          "execution_count": 276
        }
      ]
    },
    {
      "cell_type": "code",
      "metadata": {
        "colab": {
          "base_uri": "https://localhost:8080/"
        },
        "id": "uQe8HtI8rr25",
        "outputId": "01c55002-3f39-4fe0-b1d2-6b2a79f841c6"
      },
      "source": [
        "model.score(train_data[col],train_data['loan_status'])"
      ],
      "execution_count": 277,
      "outputs": [
        {
          "output_type": "execute_result",
          "data": {
            "text/plain": [
              "0.8933788732973952"
            ]
          },
          "metadata": {},
          "execution_count": 277
        }
      ]
    },
    {
      "cell_type": "code",
      "metadata": {
        "colab": {
          "base_uri": "https://localhost:8080/"
        },
        "id": "4-B8VdsJru4Y",
        "outputId": "97486156-a522-45e3-83e7-140716bdf041"
      },
      "source": [
        "model.score(test_data[col],test_data['loan_status'])"
      ],
      "execution_count": 278,
      "outputs": [
        {
          "output_type": "execute_result",
          "data": {
            "text/plain": [
              "0.8454048753152144"
            ]
          },
          "metadata": {},
          "execution_count": 278
        }
      ]
    },
    {
      "cell_type": "markdown",
      "metadata": {
        "id": "xOBMFJfjwo1s"
      },
      "source": [
        "**Selecting Features**"
      ]
    },
    {
      "cell_type": "code",
      "metadata": {
        "colab": {
          "base_uri": "https://localhost:8080/"
        },
        "id": "h5TPKizHwuX3",
        "outputId": "2381145c-0e52-4b69-efd1-908b1f821ba6"
      },
      "source": [
        "from sklearn.ensemble import RandomForestClassifier\n",
        "\n",
        "X=train_data.iloc[:,:-2]\n",
        "y=train_data.iloc[:,-1]\n",
        "\n",
        "model=RandomForestClassifier()\n",
        "model.fit(X,y)\n",
        "\n",
        "print(f\"Feature importance: {model.feature_importances_}\")\n",
        "\n",
        "df=pd.DataFrame(model.feature_importances_,index=X.columns,columns=['Importance'])\n",
        "df.head()\n",
        "\n",
        "df=df.sort_values(by='Importance',ascending=False)\n",
        "\n",
        "col=df.head(8).index.values"
      ],
      "execution_count": 280,
      "outputs": [
        {
          "output_type": "stream",
          "name": "stdout",
          "text": [
            "Feature importance: [0.02636653 0.02602531 0.035256   0.00350297 0.04109673 0.04242774\n",
            " 0.01077013 0.02884633 0.02547002 0.00891147 0.04854377 0.01097944\n",
            " 0.03751958 0.02233378 0.04763745 0.03206357 0.05270869 0.00682583\n",
            " 0.04995117 0.01618608 0.03106091 0.00428657 0.05024786 0.0495947\n",
            " 0.03936263 0.0414327  0.0419236  0.03069571 0.04650193 0.04114192\n",
            " 0.05032889]\n"
          ]
        }
      ]
    },
    {
      "cell_type": "code",
      "metadata": {
        "colab": {
          "base_uri": "https://localhost:8080/"
        },
        "id": "2BJevXQXxfAe",
        "outputId": "ea97b3e5-31b5-43a8-e6f0-b12c2f0d8df1"
      },
      "source": [
        "model=GradientBoostingClassifier(max_depth=6)\n",
        "model.fit(train_data[col],train_data['loan_status'])\n",
        "\n",
        "print(\"train data score:\")\n",
        "print(model.score(train_data[col],train_data['loan_status']))\n",
        "\n",
        "print(\"\\ntest data score:\")\n",
        "print(model.score(test_data[col],test_data['loan_status']))"
      ],
      "execution_count": 281,
      "outputs": [
        {
          "output_type": "stream",
          "name": "stdout",
          "text": [
            "train data score:\n",
            "0.8642442697831365\n",
            "\n",
            "test data score:\n",
            "0.8454048753152144\n"
          ]
        }
      ]
    },
    {
      "cell_type": "code",
      "metadata": {
        "colab": {
          "base_uri": "https://localhost:8080/"
        },
        "id": "Oj51ywViyBfC",
        "outputId": "7801c1eb-6e12-4c24-ab11-c072482f32d6"
      },
      "source": [
        "from sklearn.metrics import classification_report,confusion_matrix\n",
        "\n",
        "pred=model.predict(test_data[col])\n",
        "\n",
        "print(\"Confusion matrix:\")\n",
        "print(confusion_matrix(test_data['loan_status'],pred))\n",
        "\n",
        "\n",
        "print(\"Classification report:\")\n",
        "print(classification_report(test_data['loan_status'],pred))"
      ],
      "execution_count": 282,
      "outputs": [
        {
          "output_type": "stream",
          "name": "stdout",
          "text": [
            "Confusion matrix:\n",
            "[[   17  2130]\n",
            " [   77 12052]]\n",
            "Classification report:\n",
            "              precision    recall  f1-score   support\n",
            "\n",
            "         0.0       0.18      0.01      0.02      2147\n",
            "         1.0       0.85      0.99      0.92     12129\n",
            "\n",
            "    accuracy                           0.85     14276\n",
            "   macro avg       0.52      0.50      0.47     14276\n",
            "weighted avg       0.75      0.85      0.78     14276\n",
            "\n"
          ]
        }
      ]
    },
    {
      "cell_type": "code",
      "metadata": {
        "colab": {
          "base_uri": "https://localhost:8080/"
        },
        "id": "-R1GxyhlyWHS",
        "outputId": "48749663-be93-41fb-a7b1-8471467227f5"
      },
      "source": [
        "from sklearn import tree\n",
        "\n",
        "clf = tree.DecisionTreeClassifier()\n",
        "clf = clf.fit(train_data[col],train_data['loan_status'])\n",
        "\n",
        "print(\"Test data score:\")\n",
        "print(clf.score(test_data[col],test_data['loan_status']))\n",
        "\n",
        "print(\"Train data score:\")\n",
        "clf.score(train_data[col],train_data['loan_status'])"
      ],
      "execution_count": 283,
      "outputs": [
        {
          "output_type": "stream",
          "name": "stdout",
          "text": [
            "Test data score:\n",
            "0.7125945643037266\n",
            "Train data score:\n"
          ]
        },
        {
          "output_type": "execute_result",
          "data": {
            "text/plain": [
              "1.0"
            ]
          },
          "metadata": {},
          "execution_count": 283
        }
      ]
    }
  ]
}