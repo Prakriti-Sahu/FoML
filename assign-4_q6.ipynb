{
  "nbformat": 4,
  "nbformat_minor": 0,
  "metadata": {
    "colab": {
      "name": "assign-4_q6.ipynb",
      "provenance": [],
      "authorship_tag": "ABX9TyMJ/2cfX7c9gfXChi2hvwlQ",
      "include_colab_link": true
    },
    "kernelspec": {
      "name": "python3",
      "display_name": "Python 3"
    },
    "language_info": {
      "name": "python"
    }
  },
  "cells": [
    {
      "cell_type": "markdown",
      "metadata": {
        "id": "view-in-github",
        "colab_type": "text"
      },
      "source": [
        "<a href=\"https://colab.research.google.com/github/Prakriti-Sahu/FoML/blob/main/assign-4_q6.ipynb\" target=\"_parent\"><img src=\"https://colab.research.google.com/assets/colab-badge.svg\" alt=\"Open In Colab\"/></a>"
      ]
    },
    {
      "cell_type": "markdown",
      "metadata": {
        "id": "tyqCUmo5wIbV"
      },
      "source": [
        "# **Q6. New York Taxi-cab Fare-Prediction**"
      ]
    },
    {
      "cell_type": "markdown",
      "metadata": {
        "id": "9SjBercjty6o"
      },
      "source": [
        "**Installing Kaggle dependencies**"
      ]
    },
    {
      "cell_type": "code",
      "metadata": {
        "colab": {
          "base_uri": "https://localhost:8080/"
        },
        "id": "MX72FpB2EtFG",
        "outputId": "55da6282-7b7c-4b98-abac-9d6a28ed92d6"
      },
      "source": [
        "!pip install kaggle\n",
        "!mkdir .kaggle"
      ],
      "execution_count": 3,
      "outputs": [
        {
          "output_type": "stream",
          "name": "stdout",
          "text": [
            "Requirement already satisfied: kaggle in /usr/local/lib/python3.7/dist-packages (1.5.12)\n",
            "Requirement already satisfied: python-slugify in /usr/local/lib/python3.7/dist-packages (from kaggle) (5.0.2)\n",
            "Requirement already satisfied: urllib3 in /usr/local/lib/python3.7/dist-packages (from kaggle) (1.24.3)\n",
            "Requirement already satisfied: python-dateutil in /usr/local/lib/python3.7/dist-packages (from kaggle) (2.8.2)\n",
            "Requirement already satisfied: six>=1.10 in /usr/local/lib/python3.7/dist-packages (from kaggle) (1.15.0)\n",
            "Requirement already satisfied: requests in /usr/local/lib/python3.7/dist-packages (from kaggle) (2.23.0)\n",
            "Requirement already satisfied: tqdm in /usr/local/lib/python3.7/dist-packages (from kaggle) (4.62.3)\n",
            "Requirement already satisfied: certifi in /usr/local/lib/python3.7/dist-packages (from kaggle) (2021.10.8)\n",
            "Requirement already satisfied: text-unidecode>=1.3 in /usr/local/lib/python3.7/dist-packages (from python-slugify->kaggle) (1.3)\n",
            "Requirement already satisfied: chardet<4,>=3.0.2 in /usr/local/lib/python3.7/dist-packages (from requests->kaggle) (3.0.4)\n",
            "Requirement already satisfied: idna<3,>=2.5 in /usr/local/lib/python3.7/dist-packages (from requests->kaggle) (2.10)\n"
          ]
        }
      ]
    },
    {
      "cell_type": "markdown",
      "metadata": {
        "id": "84__vacLt84F"
      },
      "source": [
        "**Importing data**"
      ]
    },
    {
      "cell_type": "code",
      "metadata": {
        "colab": {
          "base_uri": "https://localhost:8080/"
        },
        "id": "gQ96TGVzn2uv",
        "outputId": "6bf92c6e-2ace-4959-8df3-40e951c484cb"
      },
      "source": [
        "import json\n",
        "token = {\"username\":\"prakritisahu\",\"key\":\"c8dce2c6b383533a84d1ddc341353420\"}\n",
        "with open('/content/.kaggle/kaggle.json', 'w') as file:\n",
        "    json.dump(token, file)\n",
        "\n",
        "!cp /content/.kaggle/kaggle.json ~/.kaggle/kaggle.json\n",
        "\n",
        "!kaggle config set -n path -v{/content}\n",
        "\n",
        "!chmod 600 /root/.kaggle/kaggle.json\n",
        "\n",
        "!kaggle competitions download -c new-york-city-taxi-fare-prediction\n",
        "\n",
        "!unzip /content/{/content}/competitions/new-york-city-taxi-fare-prediction/train.csv.zip && rm /content/{/content}/competitions/new-york-city-taxi-fare-prediction/train.csv.zip"
      ],
      "execution_count": 5,
      "outputs": [
        {
          "output_type": "stream",
          "name": "stdout",
          "text": [
            "Warning: Your Kaggle API key is readable by other users on this system! To fix this, you can run 'chmod 600 /root/.kaggle/kaggle.json'\n",
            "- path is now set to: {/content}\n",
            "Warning: Looks like you're using an outdated API Version, please consider updating (server 1.5.12 / client 1.5.4)\n",
            "Downloading sample_submission.csv to {/content}/competitions/new-york-city-taxi-fare-prediction\n",
            "  0% 0.00/335k [00:00<?, ?B/s]\n",
            "100% 335k/335k [00:00<00:00, 49.7MB/s]\n",
            "Downloading GCP-Coupons-Instructions.rtf to {/content}/competitions/new-york-city-taxi-fare-prediction\n",
            "  0% 0.00/486 [00:00<?, ?B/s]\n",
            "100% 486/486 [00:00<00:00, 485kB/s]\n",
            "Downloading test.csv to {/content}/competitions/new-york-city-taxi-fare-prediction\n",
            "  0% 0.00/960k [00:00<?, ?B/s]\n",
            "100% 960k/960k [00:00<00:00, 48.8MB/s]\n",
            "Downloading train.csv.zip to {/content}/competitions/new-york-city-taxi-fare-prediction\n",
            "100% 1.55G/1.56G [00:40<00:00, 50.5MB/s]\n",
            "100% 1.56G/1.56G [00:40<00:00, 41.4MB/s]\n",
            "Archive:  /content/{/content}/competitions/new-york-city-taxi-fare-prediction/train.csv.zip\n",
            "  inflating: train.csv               \n"
          ]
        }
      ]
    },
    {
      "cell_type": "markdown",
      "metadata": {
        "id": "4MlWJFh6uCcQ"
      },
      "source": [
        "**Importing necessary libraries**"
      ]
    },
    {
      "cell_type": "code",
      "metadata": {
        "id": "iOTHR-lHF2qC"
      },
      "source": [
        "import pandas as pd\n",
        "import sklearn\n",
        "from sklearn.preprocessing import LabelEncoder\n",
        "import numpy as np\n",
        "from sklearn.ensemble import GradientBoostingRegressor\n",
        "from sklearn.ensemble import RandomForestRegressor\n",
        "from sklearn.tree import DecisionTreeRegressor\n",
        "from sklearn.neural_network import MLPRegressor\n",
        "from sklearn.model_selection import cross_val_score\n",
        "from xgboost import XGBRegressor\n",
        "from sklearn.model_selection import train_test_split\n",
        "import math\n",
        "from sklearn import preprocessing\n",
        "from sklearn.metrics import mean_squared_error"
      ],
      "execution_count": 6,
      "outputs": []
    },
    {
      "cell_type": "markdown",
      "metadata": {
        "id": "8eb0JKvTuHHy"
      },
      "source": [
        "**Reading train and test data**"
      ]
    },
    {
      "cell_type": "code",
      "metadata": {
        "id": "xW_PgtP7GJks"
      },
      "source": [
        "train_data=pd.read_csv(\"train.csv\", nrows=1000000)\n",
        "test_data=pd.read_csv(\"/content/{/content}/competitions/new-york-city-taxi-fare-prediction/test.csv\")"
      ],
      "execution_count": 228,
      "outputs": []
    },
    {
      "cell_type": "markdown",
      "metadata": {
        "id": "JIhwSKlP4A20"
      },
      "source": [
        "## **Data Preprocessing and Feature Selection**"
      ]
    },
    {
      "cell_type": "code",
      "metadata": {
        "colab": {
          "base_uri": "https://localhost:8080/",
          "height": 295
        },
        "id": "q5ZnijohKEIo",
        "outputId": "00547dbb-5840-4591-d5d1-fddd81b8976d"
      },
      "source": [
        "train_data.describe()"
      ],
      "execution_count": 229,
      "outputs": [
        {
          "output_type": "execute_result",
          "data": {
            "text/html": [
              "<div>\n",
              "<style scoped>\n",
              "    .dataframe tbody tr th:only-of-type {\n",
              "        vertical-align: middle;\n",
              "    }\n",
              "\n",
              "    .dataframe tbody tr th {\n",
              "        vertical-align: top;\n",
              "    }\n",
              "\n",
              "    .dataframe thead th {\n",
              "        text-align: right;\n",
              "    }\n",
              "</style>\n",
              "<table border=\"1\" class=\"dataframe\">\n",
              "  <thead>\n",
              "    <tr style=\"text-align: right;\">\n",
              "      <th></th>\n",
              "      <th>fare_amount</th>\n",
              "      <th>pickup_longitude</th>\n",
              "      <th>pickup_latitude</th>\n",
              "      <th>dropoff_longitude</th>\n",
              "      <th>dropoff_latitude</th>\n",
              "      <th>passenger_count</th>\n",
              "    </tr>\n",
              "  </thead>\n",
              "  <tbody>\n",
              "    <tr>\n",
              "      <th>count</th>\n",
              "      <td>1000000.000000</td>\n",
              "      <td>1000000.000000</td>\n",
              "      <td>1000000.000000</td>\n",
              "      <td>999990.000000</td>\n",
              "      <td>999990.000000</td>\n",
              "      <td>1000000.000000</td>\n",
              "    </tr>\n",
              "    <tr>\n",
              "      <th>mean</th>\n",
              "      <td>11.348079</td>\n",
              "      <td>-72.526640</td>\n",
              "      <td>39.929008</td>\n",
              "      <td>-72.527860</td>\n",
              "      <td>39.919954</td>\n",
              "      <td>1.684924</td>\n",
              "    </tr>\n",
              "    <tr>\n",
              "      <th>std</th>\n",
              "      <td>9.822090</td>\n",
              "      <td>12.057937</td>\n",
              "      <td>7.626154</td>\n",
              "      <td>11.324494</td>\n",
              "      <td>8.201418</td>\n",
              "      <td>1.323911</td>\n",
              "    </tr>\n",
              "    <tr>\n",
              "      <th>min</th>\n",
              "      <td>-44.900000</td>\n",
              "      <td>-3377.680935</td>\n",
              "      <td>-3116.285383</td>\n",
              "      <td>-3383.296608</td>\n",
              "      <td>-3114.338567</td>\n",
              "      <td>0.000000</td>\n",
              "    </tr>\n",
              "    <tr>\n",
              "      <th>25%</th>\n",
              "      <td>6.000000</td>\n",
              "      <td>-73.992060</td>\n",
              "      <td>40.734965</td>\n",
              "      <td>-73.991385</td>\n",
              "      <td>40.734046</td>\n",
              "      <td>1.000000</td>\n",
              "    </tr>\n",
              "    <tr>\n",
              "      <th>50%</th>\n",
              "      <td>8.500000</td>\n",
              "      <td>-73.981792</td>\n",
              "      <td>40.752695</td>\n",
              "      <td>-73.980135</td>\n",
              "      <td>40.753166</td>\n",
              "      <td>1.000000</td>\n",
              "    </tr>\n",
              "    <tr>\n",
              "      <th>75%</th>\n",
              "      <td>12.500000</td>\n",
              "      <td>-73.967094</td>\n",
              "      <td>40.767154</td>\n",
              "      <td>-73.963654</td>\n",
              "      <td>40.768129</td>\n",
              "      <td>2.000000</td>\n",
              "    </tr>\n",
              "    <tr>\n",
              "      <th>max</th>\n",
              "      <td>500.000000</td>\n",
              "      <td>2522.271325</td>\n",
              "      <td>2621.628430</td>\n",
              "      <td>45.581619</td>\n",
              "      <td>1651.553433</td>\n",
              "      <td>208.000000</td>\n",
              "    </tr>\n",
              "  </tbody>\n",
              "</table>\n",
              "</div>"
            ],
            "text/plain": [
              "          fare_amount  pickup_longitude  ...  dropoff_latitude  passenger_count\n",
              "count  1000000.000000    1000000.000000  ...     999990.000000   1000000.000000\n",
              "mean        11.348079        -72.526640  ...         39.919954         1.684924\n",
              "std          9.822090         12.057937  ...          8.201418         1.323911\n",
              "min        -44.900000      -3377.680935  ...      -3114.338567         0.000000\n",
              "25%          6.000000        -73.992060  ...         40.734046         1.000000\n",
              "50%          8.500000        -73.981792  ...         40.753166         1.000000\n",
              "75%         12.500000        -73.967094  ...         40.768129         2.000000\n",
              "max        500.000000       2522.271325  ...       1651.553433       208.000000\n",
              "\n",
              "[8 rows x 6 columns]"
            ]
          },
          "metadata": {},
          "execution_count": 229
        }
      ]
    },
    {
      "cell_type": "markdown",
      "metadata": {
        "id": "Y37W1NJFuZ0Y"
      },
      "source": [
        "**Removing outliers**"
      ]
    },
    {
      "cell_type": "code",
      "metadata": {
        "id": "GPQamqfdJ0oV"
      },
      "source": [
        "def train_remove_outliers(df):\n",
        "    return df[(df['fare_amount'] >= 1) & \n",
        "              (df['fare_amount'] <= 500) &\n",
        "              (df['pickup_longitude'] >= -75) & \n",
        "              (df['pickup_longitude'] <= -72) & \n",
        "              (df['dropoff_longitude'] >= -75) & \n",
        "              (df['dropoff_longitude'] <= -72) & \n",
        "              (df['pickup_latitude'] >= 40) & \n",
        "              (df['pickup_latitude'] <= 42) & \n",
        "              (df['dropoff_latitude'] >=40) & \n",
        "              (df['dropoff_latitude'] <= 42) & \n",
        "              (df['passenger_count'] >= 1) & \n",
        "              (df['passenger_count'] <= 6)]\n",
        "\n",
        "\n",
        "def test_remove_outliers(df):\n",
        "    return df[(df['pickup_longitude'] >= -75) & \n",
        "              (df['pickup_longitude'] <= -72) & \n",
        "              (df['dropoff_longitude'] >= -75) & \n",
        "              (df['dropoff_longitude'] <= -72) & \n",
        "              (df['pickup_latitude'] >= 40) & \n",
        "              (df['pickup_latitude'] <= 42) & \n",
        "              (df['dropoff_latitude'] >=40) & \n",
        "              (df['dropoff_latitude'] <= 42) & \n",
        "              (df['passenger_count'] >= 1) & \n",
        "              (df['passenger_count'] <= 6)]"
      ],
      "execution_count": 230,
      "outputs": []
    },
    {
      "cell_type": "markdown",
      "metadata": {
        "id": "6kwo-z8aufJ-"
      },
      "source": [
        "**Splitting pickup_datetime**"
      ]
    },
    {
      "cell_type": "code",
      "metadata": {
        "id": "TfowLAz-R764"
      },
      "source": [
        "def date_split(data, c):\n",
        "  data[c]=pd.to_datetime(data[c])\n",
        "  data['year'] = data[c].dt.year\n",
        "  data['month'] = data[c].dt.month\n",
        "  data['day'] = data[c].dt.day\n",
        "  data['weekday'] = data[c].dt.weekday\n",
        "  data[c + '_hour'] = data[c].dt.hour"
      ],
      "execution_count": 231,
      "outputs": []
    },
    {
      "cell_type": "code",
      "metadata": {
        "id": "ZnuttcjTpNt5"
      },
      "source": [
        "def removal(data):\n",
        "\n",
        "  upper=np.percentile(data,[99.6])[0]\n",
        "  print(upper)\n",
        "  for i in range(data.shape[0]):\n",
        "    if(data.iloc[i]>upper):\n",
        "      data.iloc[i]=np.nan"
      ],
      "execution_count": 233,
      "outputs": []
    },
    {
      "cell_type": "markdown",
      "metadata": {
        "id": "o_dXW-ueuz7U"
      },
      "source": [
        "**Calculating Haversine distance for an estimate of distance travelled by a cab**"
      ]
    },
    {
      "cell_type": "code",
      "metadata": {
        "id": "WJyLJmQogVQJ"
      },
      "source": [
        "def distance(pickup_latitude, pickup_longitude, dropoff_latitude, dropoff_longitude):\n",
        "    radius = 6371\n",
        "    pickup_latitude, pickup_longitude, dropoff_latitude, dropoff_longitude = map(np.radians,[pickup_latitude, pickup_longitude, dropoff_latitude, dropoff_longitude])\n",
        "    distance_latitude = dropoff_latitude - pickup_latitude\n",
        "    distance_longitude = dropoff_longitude - pickup_longitude\n",
        "    calculation = np.sin(distance_latitude/2.0)**2 + np.cos(pickup_latitude) * np.cos(dropoff_latitude) * np.sin(distance_longitude/2.0)**2\n",
        "    \n",
        "    return 2 * radius * np.arcsin(np.sqrt(calculation))\n",
        "\n",
        "train_data['distance'] = distance(train_data['pickup_latitude'], train_data['pickup_longitude'], train_data['dropoff_latitude'], train_data['dropoff_longitude'])\n",
        "#test_data['distance'] = distance(test_data['pickup_latitude'], test_data['pickup_longitude'], test_data['dropoff_latitude'], test_data['dropoff_longitude'])"
      ],
      "execution_count": 234,
      "outputs": []
    },
    {
      "cell_type": "code",
      "metadata": {
        "colab": {
          "base_uri": "https://localhost:8080/"
        },
        "id": "8WTQVEIiMnxM",
        "outputId": "0d309725-d908-4fa0-faa7-91e7931fce51"
      },
      "source": [
        "train_data.shape"
      ],
      "execution_count": 235,
      "outputs": [
        {
          "output_type": "execute_result",
          "data": {
            "text/plain": [
              "(1000000, 9)"
            ]
          },
          "metadata": {},
          "execution_count": 235
        }
      ]
    },
    {
      "cell_type": "markdown",
      "metadata": {
        "id": "qiNrG84bvPf-"
      },
      "source": [
        "**Removing outliers and NaN values, that might have occured**"
      ]
    },
    {
      "cell_type": "code",
      "metadata": {
        "id": "VpppbKRdpemx"
      },
      "source": [
        "col = train_data.columns"
      ],
      "execution_count": 236,
      "outputs": []
    },
    {
      "cell_type": "code",
      "metadata": {
        "id": "muXTACSuVaOS"
      },
      "source": [
        "train_data = train_remove_outliers(train_data)"
      ],
      "execution_count": 237,
      "outputs": []
    },
    {
      "cell_type": "code",
      "metadata": {
        "id": "ohs_KvZSp0k1",
        "colab": {
          "base_uri": "https://localhost:8080/"
        },
        "outputId": "422acab3-4ff9-4fc7-f83b-99e82d766579"
      },
      "source": [
        "train_data.isnull().sum().sum()"
      ],
      "execution_count": 238,
      "outputs": [
        {
          "output_type": "execute_result",
          "data": {
            "text/plain": [
              "0"
            ]
          },
          "metadata": {},
          "execution_count": 238
        }
      ]
    },
    {
      "cell_type": "code",
      "metadata": {
        "colab": {
          "base_uri": "https://localhost:8080/"
        },
        "id": "Y0yRBaXkpsYC",
        "outputId": "da04fabc-1937-4958-a8b9-d4adc4e039fe"
      },
      "source": [
        "removal(train_data['distance'])\n",
        "removal(train_data['fare_amount'])\n",
        "train_data.dropna(inplace=True)"
      ],
      "execution_count": 239,
      "outputs": [
        {
          "output_type": "stream",
          "name": "stdout",
          "text": [
            "21.48563762192481\n"
          ]
        },
        {
          "output_type": "stream",
          "name": "stderr",
          "text": [
            "/usr/local/lib/python3.7/dist-packages/pandas/core/indexing.py:670: SettingWithCopyWarning: \n",
            "A value is trying to be set on a copy of a slice from a DataFrame\n",
            "\n",
            "See the caveats in the documentation: https://pandas.pydata.org/pandas-docs/stable/user_guide/indexing.html#returning-a-view-versus-a-copy\n",
            "  iloc._setitem_with_indexer(indexer, value)\n"
          ]
        },
        {
          "output_type": "stream",
          "name": "stdout",
          "text": [
            "57.33\n"
          ]
        }
      ]
    },
    {
      "cell_type": "code",
      "metadata": {
        "id": "uzeSfQnhT2Vr"
      },
      "source": [
        "date_split(train_data,'pickup_datetime')"
      ],
      "execution_count": 240,
      "outputs": []
    },
    {
      "cell_type": "code",
      "metadata": {
        "colab": {
          "base_uri": "https://localhost:8080/"
        },
        "id": "3sPusQ7aYPvT",
        "outputId": "fa801e23-1a31-4f0a-d662-c93a0f4ef53a"
      },
      "source": [
        "train_data.shape"
      ],
      "execution_count": 241,
      "outputs": [
        {
          "output_type": "execute_result",
          "data": {
            "text/plain": [
              "(968935, 14)"
            ]
          },
          "metadata": {},
          "execution_count": 241
        }
      ]
    },
    {
      "cell_type": "code",
      "metadata": {
        "colab": {
          "base_uri": "https://localhost:8080/"
        },
        "id": "YUwNQQWiXCX-",
        "outputId": "585e45cc-a85d-4b81-b1ba-f02ca5c2b701"
      },
      "source": [
        "train_data.isnull().sum().sum()"
      ],
      "execution_count": 242,
      "outputs": [
        {
          "output_type": "execute_result",
          "data": {
            "text/plain": [
              "0"
            ]
          },
          "metadata": {},
          "execution_count": 242
        }
      ]
    },
    {
      "cell_type": "code",
      "metadata": {
        "id": "qOVYZkvgUGsF"
      },
      "source": [
        "train_data.drop(['key','pickup_datetime','pickup_longitude','pickup_latitude','dropoff_longitude','dropoff_latitude'],axis=1,inplace=True)"
      ],
      "execution_count": 243,
      "outputs": []
    },
    {
      "cell_type": "code",
      "metadata": {
        "colab": {
          "base_uri": "https://localhost:8080/",
          "height": 203
        },
        "id": "S580Yh-Bcoa7",
        "outputId": "0d43db29-e8f9-417e-8801-f56e5fae1afb"
      },
      "source": [
        "train_data.head()"
      ],
      "execution_count": 244,
      "outputs": [
        {
          "output_type": "execute_result",
          "data": {
            "text/html": [
              "<div>\n",
              "<style scoped>\n",
              "    .dataframe tbody tr th:only-of-type {\n",
              "        vertical-align: middle;\n",
              "    }\n",
              "\n",
              "    .dataframe tbody tr th {\n",
              "        vertical-align: top;\n",
              "    }\n",
              "\n",
              "    .dataframe thead th {\n",
              "        text-align: right;\n",
              "    }\n",
              "</style>\n",
              "<table border=\"1\" class=\"dataframe\">\n",
              "  <thead>\n",
              "    <tr style=\"text-align: right;\">\n",
              "      <th></th>\n",
              "      <th>fare_amount</th>\n",
              "      <th>passenger_count</th>\n",
              "      <th>distance</th>\n",
              "      <th>year</th>\n",
              "      <th>month</th>\n",
              "      <th>day</th>\n",
              "      <th>weekday</th>\n",
              "      <th>pickup_datetime_hour</th>\n",
              "    </tr>\n",
              "  </thead>\n",
              "  <tbody>\n",
              "    <tr>\n",
              "      <th>0</th>\n",
              "      <td>4.5</td>\n",
              "      <td>1</td>\n",
              "      <td>1.030764</td>\n",
              "      <td>2009</td>\n",
              "      <td>6</td>\n",
              "      <td>15</td>\n",
              "      <td>0</td>\n",
              "      <td>17</td>\n",
              "    </tr>\n",
              "    <tr>\n",
              "      <th>1</th>\n",
              "      <td>16.9</td>\n",
              "      <td>1</td>\n",
              "      <td>8.450134</td>\n",
              "      <td>2010</td>\n",
              "      <td>1</td>\n",
              "      <td>5</td>\n",
              "      <td>1</td>\n",
              "      <td>16</td>\n",
              "    </tr>\n",
              "    <tr>\n",
              "      <th>2</th>\n",
              "      <td>5.7</td>\n",
              "      <td>2</td>\n",
              "      <td>1.389525</td>\n",
              "      <td>2011</td>\n",
              "      <td>8</td>\n",
              "      <td>18</td>\n",
              "      <td>3</td>\n",
              "      <td>0</td>\n",
              "    </tr>\n",
              "    <tr>\n",
              "      <th>3</th>\n",
              "      <td>7.7</td>\n",
              "      <td>1</td>\n",
              "      <td>2.799270</td>\n",
              "      <td>2012</td>\n",
              "      <td>4</td>\n",
              "      <td>21</td>\n",
              "      <td>5</td>\n",
              "      <td>4</td>\n",
              "    </tr>\n",
              "    <tr>\n",
              "      <th>4</th>\n",
              "      <td>5.3</td>\n",
              "      <td>1</td>\n",
              "      <td>1.999157</td>\n",
              "      <td>2010</td>\n",
              "      <td>3</td>\n",
              "      <td>9</td>\n",
              "      <td>1</td>\n",
              "      <td>7</td>\n",
              "    </tr>\n",
              "  </tbody>\n",
              "</table>\n",
              "</div>"
            ],
            "text/plain": [
              "   fare_amount  passenger_count  distance  ...  day  weekday  pickup_datetime_hour\n",
              "0          4.5                1  1.030764  ...   15        0                    17\n",
              "1         16.9                1  8.450134  ...    5        1                    16\n",
              "2          5.7                2  1.389525  ...   18        3                     0\n",
              "3          7.7                1  2.799270  ...   21        5                     4\n",
              "4          5.3                1  1.999157  ...    9        1                     7\n",
              "\n",
              "[5 rows x 8 columns]"
            ]
          },
          "metadata": {},
          "execution_count": 244
        }
      ]
    },
    {
      "cell_type": "code",
      "metadata": {
        "colab": {
          "base_uri": "https://localhost:8080/"
        },
        "id": "4WIB8y-jIcqe",
        "outputId": "1b5fb3f5-e11b-4c02-8758-5f80664439a8"
      },
      "source": [
        "train_data.columns"
      ],
      "execution_count": 245,
      "outputs": [
        {
          "output_type": "execute_result",
          "data": {
            "text/plain": [
              "Index(['fare_amount', 'passenger_count', 'distance', 'year', 'month', 'day',\n",
              "       'weekday', 'pickup_datetime_hour'],\n",
              "      dtype='object')"
            ]
          },
          "metadata": {},
          "execution_count": 245
        }
      ]
    },
    {
      "cell_type": "code",
      "metadata": {
        "colab": {
          "base_uri": "https://localhost:8080/"
        },
        "id": "ei7QCoxbJPQH",
        "outputId": "20dcf54e-8cee-48dd-ddb6-97269971571a"
      },
      "source": [
        "train_data.isnull().sum().sum()"
      ],
      "execution_count": 246,
      "outputs": [
        {
          "output_type": "execute_result",
          "data": {
            "text/plain": [
              "0"
            ]
          },
          "metadata": {},
          "execution_count": 246
        }
      ]
    },
    {
      "cell_type": "code",
      "metadata": {
        "id": "Ol_yTNQoJpQD"
      },
      "source": [
        "train_data.dropna(inplace=True)"
      ],
      "execution_count": 202,
      "outputs": []
    },
    {
      "cell_type": "code",
      "metadata": {
        "colab": {
          "base_uri": "https://localhost:8080/"
        },
        "id": "NVFczMelYs4X",
        "outputId": "084f47de-cf69-4eb1-d116-7ec9e88f5a80"
      },
      "source": [
        "train_data.shape"
      ],
      "execution_count": 247,
      "outputs": [
        {
          "output_type": "execute_result",
          "data": {
            "text/plain": [
              "(968935, 8)"
            ]
          },
          "metadata": {},
          "execution_count": 247
        }
      ]
    },
    {
      "cell_type": "markdown",
      "metadata": {
        "id": "4dBX9k8Svei8"
      },
      "source": [
        "**Splitting train data into train set and validation set**"
      ]
    },
    {
      "cell_type": "code",
      "metadata": {
        "colab": {
          "base_uri": "https://localhost:8080/"
        },
        "id": "rGl3reAa5WDf",
        "outputId": "8be2cd5b-e144-4a89-bca8-e7eb8615c8e8"
      },
      "source": [
        "train_data.columns"
      ],
      "execution_count": 248,
      "outputs": [
        {
          "output_type": "execute_result",
          "data": {
            "text/plain": [
              "Index(['fare_amount', 'passenger_count', 'distance', 'year', 'month', 'day',\n",
              "       'weekday', 'pickup_datetime_hour'],\n",
              "      dtype='object')"
            ]
          },
          "metadata": {},
          "execution_count": 248
        }
      ]
    },
    {
      "cell_type": "code",
      "metadata": {
        "id": "c956WJPFxk7z"
      },
      "source": [
        "X=train_data[['passenger_count', 'distance', 'year', 'month', 'day', 'weekday',\n",
        "       'pickup_datetime_hour']]\n",
        "y=train_data['fare_amount']"
      ],
      "execution_count": 249,
      "outputs": []
    },
    {
      "cell_type": "code",
      "metadata": {
        "id": "z2gHiDDgrKWq"
      },
      "source": [
        "X_train, X_val, y_train, y_val = train_test_split(X,y, test_size=0.3, random_state=42)"
      ],
      "execution_count": 250,
      "outputs": []
    },
    {
      "cell_type": "code",
      "metadata": {
        "id": "o-iEzeCLl7bE"
      },
      "source": [
        "from sklearn.preprocessing import StandardScaler\n",
        "\n",
        "scaler=StandardScaler().fit(X_train)\n",
        "scaler_2=StandardScaler().fit(X_val)\n",
        "\n",
        "train_scaled_data=scaler.transform(X_train)\n",
        "test_scaled_data=scaler_2.transform(X_val)"
      ],
      "execution_count": 251,
      "outputs": []
    },
    {
      "cell_type": "code",
      "metadata": {
        "id": "UyTx3l0ynLOZ"
      },
      "source": [
        "col = X_train.columns"
      ],
      "execution_count": 252,
      "outputs": []
    },
    {
      "cell_type": "code",
      "metadata": {
        "colab": {
          "base_uri": "https://localhost:8080/"
        },
        "id": "0-b8IYOql8Bj",
        "outputId": "d43de752-07b6-424e-e3b3-a7517b405ba0"
      },
      "source": [
        "df=pd.DataFrame(train_scaled_data,columns=col)\n",
        "print(df.head())\n",
        "dt=pd.DataFrame(test_scaled_data,columns=col)\n",
        "print(dt.head())"
      ],
      "execution_count": 253,
      "outputs": [
        {
          "output_type": "stream",
          "name": "stdout",
          "text": [
            "   passenger_count  distance  ...   weekday  pickup_datetime_hour\n",
            "0        -0.528873 -0.519530  ... -1.558885              1.456962\n",
            "1         0.237230 -0.332905  ...  1.518378             -2.073874\n",
            "2         2.535539 -0.518996  ...  1.005501             -1.613330\n",
            "3        -0.528873 -0.471187  ...  1.518378             -1.613330\n",
            "4        -0.528873 -0.189938  ... -1.558885              0.842904\n",
            "\n",
            "[5 rows x 7 columns]\n",
            "   passenger_count  distance  ...   weekday  pickup_datetime_hour\n",
            "0        -0.528987  0.228821  ... -1.560477              0.073832\n",
            "1         3.290806 -0.488449  ... -0.534002             -1.154278\n",
            "2         0.234971  2.008806  ...  1.005712             -0.233196\n",
            "3        -0.528987 -0.695292  ...  0.492474              0.227346\n",
            "4        -0.528987  0.156615  ... -0.534002             -0.233196\n",
            "\n",
            "[5 rows x 7 columns]\n"
          ]
        }
      ]
    },
    {
      "cell_type": "markdown",
      "metadata": {
        "id": "I-XtGGz2vvU6"
      },
      "source": [
        "## **Training**"
      ]
    },
    {
      "cell_type": "markdown",
      "metadata": {
        "id": "mrBVmDN5CfSH"
      },
      "source": [
        "**Gradient Boosting Regressor**"
      ]
    },
    {
      "cell_type": "code",
      "metadata": {
        "colab": {
          "base_uri": "https://localhost:8080/"
        },
        "id": "tg0vfekhCfrl",
        "outputId": "1f0e705a-df5b-48f1-d885-44061e2902f4"
      },
      "source": [
        "from sklearn.ensemble import GradientBoostingRegressor\n",
        "\n",
        "gbr = GradientBoostingRegressor(random_state=1)\n",
        "gbr.fit(X_train, y_train)\n",
        "pred_gbr = gbr.predict(X_train)\n",
        "\n",
        "print('RMSE train:',mean_squared_error(y_train, pred_gbr,squared=False))\n",
        "print('RMSE validation:',mean_squared_error(y_val, gbr.predict(X_val), squared=False))"
      ],
      "execution_count": 255,
      "outputs": [
        {
          "output_type": "stream",
          "name": "stdout",
          "text": [
            "RMSE train: 3.5783996062869705\n",
            "RMSE validation: 3.5648068512010114\n"
          ]
        }
      ]
    },
    {
      "cell_type": "markdown",
      "metadata": {
        "id": "P9JKSpIXtQO0"
      },
      "source": [
        "**Random Forest**"
      ]
    },
    {
      "cell_type": "code",
      "metadata": {
        "colab": {
          "base_uri": "https://localhost:8080/"
        },
        "id": "Z9kEG-FqH61P",
        "outputId": "e0ea316f-0dd5-4557-ac00-7e00743aa4a4"
      },
      "source": [
        "rf = RandomForestRegressor(random_state=1)\n",
        "rf.fit(X_train, y_train)\n",
        "pred_rf = rf.predict(X_train)\n",
        "\n",
        "print('RMSE train:',mean_squared_error(y_train, pred_rf,squared=False))\n",
        "print('RMSE validation:',mean_squared_error(y_val, rf.predict(X_val), squared=False))"
      ],
      "execution_count": 257,
      "outputs": [
        {
          "output_type": "stream",
          "name": "stdout",
          "text": [
            "RMSE train: 1.3887377459954888\n",
            "RMSE validation: 3.6766991377629306\n"
          ]
        }
      ]
    },
    {
      "cell_type": "markdown",
      "metadata": {
        "id": "wxTzBT7utXBN"
      },
      "source": [
        "**Extreme Gradient Boosting**"
      ]
    },
    {
      "cell_type": "code",
      "metadata": {
        "colab": {
          "base_uri": "https://localhost:8080/"
        },
        "id": "aKGTYY4uluKU",
        "outputId": "236f670c-b16c-442f-e1c4-f8eede335473"
      },
      "source": [
        "xgboost = XGBRegressor(random_state=42)\n",
        "xgboost.fit(X_train,y_train)\n",
        "pred_xgboost=xgboost.predict(X_train)\n",
        "\n",
        "print('RMSE train:', mean_squared_error(y_train, pred_xgboost,squared=False))\n",
        "print('RMSE validation:', mean_squared_error(y_val, xgboost.predict(X_val),squared=False))"
      ],
      "execution_count": 258,
      "outputs": [
        {
          "output_type": "stream",
          "name": "stdout",
          "text": [
            "[16:26:25] WARNING: /workspace/src/objective/regression_obj.cu:152: reg:linear is now deprecated in favor of reg:squarederror.\n",
            "RMSE train: 3.5791181785547734\n",
            "RMSE validation: 3.565779939641823\n"
          ]
        }
      ]
    },
    {
      "cell_type": "markdown",
      "metadata": {
        "id": "H4Q3Q6_ethHt"
      },
      "source": [
        "**Neural Network**"
      ]
    },
    {
      "cell_type": "code",
      "metadata": {
        "colab": {
          "base_uri": "https://localhost:8080/"
        },
        "id": "OS811Ko_jevR",
        "outputId": "a2e7e409-aaa5-4185-98f0-1e4eb2d30862"
      },
      "source": [
        "regr = MLPRegressor(random_state=1)\n",
        "regr.fit(X_train, y_train)\n",
        "pred_regr = regr.predict(X_train)\n",
        "\n",
        "print('RMSE train:', mean_squared_error(y_train, pred_regr,squared=False))\n",
        "print('RMSE validation:', mean_squared_error(y_val, regr.predict(X_val),squared=False))"
      ],
      "execution_count": 276,
      "outputs": [
        {
          "output_type": "stream",
          "name": "stderr",
          "text": [
            "/usr/local/lib/python3.7/dist-packages/sklearn/neural_network/_multilayer_perceptron.py:699: UserWarning: Training interrupted by user.\n",
            "  warnings.warn(\"Training interrupted by user.\")\n"
          ]
        },
        {
          "output_type": "stream",
          "name": "stdout",
          "text": [
            "RMSE train: 3.9519636365921937\n",
            "RMSE validation: 3.9220175849411745\n"
          ]
        }
      ]
    },
    {
      "cell_type": "markdown",
      "metadata": {
        "id": "m1X3ARb9tllA"
      },
      "source": [
        "**Decision Tree**"
      ]
    },
    {
      "cell_type": "code",
      "metadata": {
        "colab": {
          "base_uri": "https://localhost:8080/"
        },
        "id": "ypmS7vtzFQ8N",
        "outputId": "81c3bc86-0a01-4710-fde9-eed6de2687c2"
      },
      "source": [
        "dec = DecisionTreeRegressor(random_state=1, max_depth=6)\n",
        "dec.fit(X_train, y_train)\n",
        "pred_dec = dec.predict(X_train)\n",
        "\n",
        "print('RMSE train:', mean_squared_error(y_train, pred_dec,squared=False))\n",
        "print('RMSE validation:', mean_squared_error(y_val, dec.predict(X_val),squared=False))"
      ],
      "execution_count": 256,
      "outputs": [
        {
          "output_type": "stream",
          "name": "stdout",
          "text": [
            "RMSE train: 0.2210640154799549\n",
            "RMSE validation: 5.241048731528136\n"
          ]
        }
      ]
    },
    {
      "cell_type": "markdown",
      "metadata": {
        "id": "q_GMKDPsZLt6"
      },
      "source": [
        "## **Testing**"
      ]
    },
    {
      "cell_type": "code",
      "metadata": {
        "id": "UTLSFkowZQjL"
      },
      "source": [
        "#test_data=pd.read_csv(\"/content/{/content}/competitions/new-york-city-taxi-fare-prediction/test.csv\")"
      ],
      "execution_count": null,
      "outputs": []
    },
    {
      "cell_type": "code",
      "metadata": {
        "colab": {
          "base_uri": "https://localhost:8080/"
        },
        "id": "-evB7mfDvYeZ",
        "outputId": "4e6095c2-846f-4725-d9d5-8fa3f8cb6887"
      },
      "source": [
        "test_data.columns"
      ],
      "execution_count": 259,
      "outputs": [
        {
          "output_type": "execute_result",
          "data": {
            "text/plain": [
              "Index(['key', 'pickup_datetime', 'pickup_longitude', 'pickup_latitude',\n",
              "       'dropoff_longitude', 'dropoff_latitude', 'passenger_count'],\n",
              "      dtype='object')"
            ]
          },
          "metadata": {},
          "execution_count": 259
        }
      ]
    },
    {
      "cell_type": "code",
      "metadata": {
        "id": "LmOYGrmcvBSj"
      },
      "source": [
        "test_data['distance'] = distance(test_data['pickup_latitude'], test_data['pickup_longitude'], test_data['dropoff_latitude'], test_data['dropoff_longitude'])"
      ],
      "execution_count": 260,
      "outputs": []
    },
    {
      "cell_type": "code",
      "metadata": {
        "colab": {
          "base_uri": "https://localhost:8080/"
        },
        "id": "e6vUXQvTvJcv",
        "outputId": "601d72bc-36fa-4c26-f00f-752004c0b9fd"
      },
      "source": [
        "test_data.isnull().sum().sum()"
      ],
      "execution_count": 261,
      "outputs": [
        {
          "output_type": "execute_result",
          "data": {
            "text/plain": [
              "0"
            ]
          },
          "metadata": {},
          "execution_count": 261
        }
      ]
    },
    {
      "cell_type": "code",
      "metadata": {
        "id": "so6vOUK7vFOh"
      },
      "source": [
        "date_split(test_data,'pickup_datetime')"
      ],
      "execution_count": 262,
      "outputs": []
    },
    {
      "cell_type": "code",
      "metadata": {
        "id": "NrI-0Yb6vSfw"
      },
      "source": [
        "test_data.drop(['pickup_datetime','pickup_longitude','pickup_latitude','dropoff_longitude','dropoff_latitude'],axis=1,inplace=True)"
      ],
      "execution_count": 263,
      "outputs": []
    },
    {
      "cell_type": "code",
      "metadata": {
        "id": "RzBnSFDovWyq"
      },
      "source": [
        "test = test_data.drop(['key'], axis=1)"
      ],
      "execution_count": 266,
      "outputs": []
    },
    {
      "cell_type": "code",
      "metadata": {
        "id": "i_XbDwEovjIx"
      },
      "source": [
        "scaler3=StandardScaler().fit(test)\n",
        "test_scaled=scaler_2.transform(test)"
      ],
      "execution_count": 267,
      "outputs": []
    },
    {
      "cell_type": "markdown",
      "metadata": {
        "id": "wZbB8xrgv8pB"
      },
      "source": [
        "## **Submission**"
      ]
    },
    {
      "cell_type": "markdown",
      "metadata": {
        "id": "r0I4sywCtpci"
      },
      "source": [
        "**Predicting on test data and submission**"
      ]
    },
    {
      "cell_type": "code",
      "metadata": {
        "id": "S3ACdd92wVqe"
      },
      "source": [
        "pred1=gbr.predict(test)"
      ],
      "execution_count": 268,
      "outputs": []
    },
    {
      "cell_type": "code",
      "metadata": {
        "id": "DVA0pz4UwZwt"
      },
      "source": [
        "pred2=xgboost.predict(test)"
      ],
      "execution_count": 269,
      "outputs": []
    },
    {
      "cell_type": "code",
      "metadata": {
        "id": "hflo5301_7Vt"
      },
      "source": [
        "pred3=rf.predict(test)"
      ],
      "execution_count": 277,
      "outputs": []
    },
    {
      "cell_type": "code",
      "metadata": {
        "colab": {
          "base_uri": "https://localhost:8080/",
          "height": 203
        },
        "id": "tBeZn73jwo9g",
        "outputId": "00e18d6c-6bb0-483b-d843-f0b5a3affc3a"
      },
      "source": [
        "test_data['fare_amount']=pred1\n",
        "test_data.head(5)"
      ],
      "execution_count": 270,
      "outputs": [
        {
          "output_type": "execute_result",
          "data": {
            "text/html": [
              "<div>\n",
              "<style scoped>\n",
              "    .dataframe tbody tr th:only-of-type {\n",
              "        vertical-align: middle;\n",
              "    }\n",
              "\n",
              "    .dataframe tbody tr th {\n",
              "        vertical-align: top;\n",
              "    }\n",
              "\n",
              "    .dataframe thead th {\n",
              "        text-align: right;\n",
              "    }\n",
              "</style>\n",
              "<table border=\"1\" class=\"dataframe\">\n",
              "  <thead>\n",
              "    <tr style=\"text-align: right;\">\n",
              "      <th></th>\n",
              "      <th>key</th>\n",
              "      <th>passenger_count</th>\n",
              "      <th>distance</th>\n",
              "      <th>year</th>\n",
              "      <th>month</th>\n",
              "      <th>day</th>\n",
              "      <th>weekday</th>\n",
              "      <th>pickup_datetime_hour</th>\n",
              "      <th>fare_amount</th>\n",
              "    </tr>\n",
              "  </thead>\n",
              "  <tbody>\n",
              "    <tr>\n",
              "      <th>0</th>\n",
              "      <td>2015-01-27 13:08:24.0000002</td>\n",
              "      <td>1</td>\n",
              "      <td>2.323260</td>\n",
              "      <td>2015</td>\n",
              "      <td>1</td>\n",
              "      <td>27</td>\n",
              "      <td>1</td>\n",
              "      <td>13</td>\n",
              "      <td>10.679194</td>\n",
              "    </tr>\n",
              "    <tr>\n",
              "      <th>1</th>\n",
              "      <td>2015-01-27 13:08:24.0000003</td>\n",
              "      <td>1</td>\n",
              "      <td>2.425353</td>\n",
              "      <td>2015</td>\n",
              "      <td>1</td>\n",
              "      <td>27</td>\n",
              "      <td>1</td>\n",
              "      <td>13</td>\n",
              "      <td>11.156049</td>\n",
              "    </tr>\n",
              "    <tr>\n",
              "      <th>2</th>\n",
              "      <td>2011-10-08 11:53:44.0000002</td>\n",
              "      <td>1</td>\n",
              "      <td>0.618628</td>\n",
              "      <td>2011</td>\n",
              "      <td>10</td>\n",
              "      <td>8</td>\n",
              "      <td>5</td>\n",
              "      <td>11</td>\n",
              "      <td>4.867517</td>\n",
              "    </tr>\n",
              "    <tr>\n",
              "      <th>3</th>\n",
              "      <td>2012-12-01 21:12:12.0000002</td>\n",
              "      <td>1</td>\n",
              "      <td>1.961033</td>\n",
              "      <td>2012</td>\n",
              "      <td>12</td>\n",
              "      <td>1</td>\n",
              "      <td>5</td>\n",
              "      <td>21</td>\n",
              "      <td>8.009054</td>\n",
              "    </tr>\n",
              "    <tr>\n",
              "      <th>4</th>\n",
              "      <td>2012-12-01 21:12:12.0000003</td>\n",
              "      <td>1</td>\n",
              "      <td>5.387301</td>\n",
              "      <td>2012</td>\n",
              "      <td>12</td>\n",
              "      <td>1</td>\n",
              "      <td>5</td>\n",
              "      <td>21</td>\n",
              "      <td>15.089023</td>\n",
              "    </tr>\n",
              "  </tbody>\n",
              "</table>\n",
              "</div>"
            ],
            "text/plain": [
              "                           key  ...  fare_amount\n",
              "0  2015-01-27 13:08:24.0000002  ...    10.679194\n",
              "1  2015-01-27 13:08:24.0000003  ...    11.156049\n",
              "2  2011-10-08 11:53:44.0000002  ...     4.867517\n",
              "3  2012-12-01 21:12:12.0000002  ...     8.009054\n",
              "4  2012-12-01 21:12:12.0000003  ...    15.089023\n",
              "\n",
              "[5 rows x 9 columns]"
            ]
          },
          "metadata": {},
          "execution_count": 270
        }
      ]
    },
    {
      "cell_type": "code",
      "metadata": {
        "id": "pOZxvcPWw3Kj"
      },
      "source": [
        "result1=test_data[['key','fare_amount']]\n",
        "result1.to_csv(\"submission1\", index=False)"
      ],
      "execution_count": 271,
      "outputs": []
    },
    {
      "cell_type": "code",
      "metadata": {
        "colab": {
          "base_uri": "https://localhost:8080/",
          "height": 203
        },
        "id": "ZcYRLiLuw-lz",
        "outputId": "669f794f-954d-4723-e30b-61400bec1fe4"
      },
      "source": [
        "test_data['fare_amount']=pred2\n",
        "test_data.head()"
      ],
      "execution_count": 272,
      "outputs": [
        {
          "output_type": "execute_result",
          "data": {
            "text/html": [
              "<div>\n",
              "<style scoped>\n",
              "    .dataframe tbody tr th:only-of-type {\n",
              "        vertical-align: middle;\n",
              "    }\n",
              "\n",
              "    .dataframe tbody tr th {\n",
              "        vertical-align: top;\n",
              "    }\n",
              "\n",
              "    .dataframe thead th {\n",
              "        text-align: right;\n",
              "    }\n",
              "</style>\n",
              "<table border=\"1\" class=\"dataframe\">\n",
              "  <thead>\n",
              "    <tr style=\"text-align: right;\">\n",
              "      <th></th>\n",
              "      <th>key</th>\n",
              "      <th>passenger_count</th>\n",
              "      <th>distance</th>\n",
              "      <th>year</th>\n",
              "      <th>month</th>\n",
              "      <th>day</th>\n",
              "      <th>weekday</th>\n",
              "      <th>pickup_datetime_hour</th>\n",
              "      <th>fare_amount</th>\n",
              "    </tr>\n",
              "  </thead>\n",
              "  <tbody>\n",
              "    <tr>\n",
              "      <th>0</th>\n",
              "      <td>2015-01-27 13:08:24.0000002</td>\n",
              "      <td>1</td>\n",
              "      <td>2.323260</td>\n",
              "      <td>2015</td>\n",
              "      <td>1</td>\n",
              "      <td>27</td>\n",
              "      <td>1</td>\n",
              "      <td>13</td>\n",
              "      <td>10.466498</td>\n",
              "    </tr>\n",
              "    <tr>\n",
              "      <th>1</th>\n",
              "      <td>2015-01-27 13:08:24.0000003</td>\n",
              "      <td>1</td>\n",
              "      <td>2.425353</td>\n",
              "      <td>2015</td>\n",
              "      <td>1</td>\n",
              "      <td>27</td>\n",
              "      <td>1</td>\n",
              "      <td>13</td>\n",
              "      <td>10.983000</td>\n",
              "    </tr>\n",
              "    <tr>\n",
              "      <th>2</th>\n",
              "      <td>2011-10-08 11:53:44.0000002</td>\n",
              "      <td>1</td>\n",
              "      <td>0.618628</td>\n",
              "      <td>2011</td>\n",
              "      <td>10</td>\n",
              "      <td>8</td>\n",
              "      <td>5</td>\n",
              "      <td>11</td>\n",
              "      <td>4.885765</td>\n",
              "    </tr>\n",
              "    <tr>\n",
              "      <th>3</th>\n",
              "      <td>2012-12-01 21:12:12.0000002</td>\n",
              "      <td>1</td>\n",
              "      <td>1.961033</td>\n",
              "      <td>2012</td>\n",
              "      <td>12</td>\n",
              "      <td>1</td>\n",
              "      <td>5</td>\n",
              "      <td>21</td>\n",
              "      <td>8.058046</td>\n",
              "    </tr>\n",
              "    <tr>\n",
              "      <th>4</th>\n",
              "      <td>2012-12-01 21:12:12.0000003</td>\n",
              "      <td>1</td>\n",
              "      <td>5.387301</td>\n",
              "      <td>2012</td>\n",
              "      <td>12</td>\n",
              "      <td>1</td>\n",
              "      <td>5</td>\n",
              "      <td>21</td>\n",
              "      <td>15.215985</td>\n",
              "    </tr>\n",
              "  </tbody>\n",
              "</table>\n",
              "</div>"
            ],
            "text/plain": [
              "                           key  ...  fare_amount\n",
              "0  2015-01-27 13:08:24.0000002  ...    10.466498\n",
              "1  2015-01-27 13:08:24.0000003  ...    10.983000\n",
              "2  2011-10-08 11:53:44.0000002  ...     4.885765\n",
              "3  2012-12-01 21:12:12.0000002  ...     8.058046\n",
              "4  2012-12-01 21:12:12.0000003  ...    15.215985\n",
              "\n",
              "[5 rows x 9 columns]"
            ]
          },
          "metadata": {},
          "execution_count": 272
        }
      ]
    },
    {
      "cell_type": "code",
      "metadata": {
        "id": "LXKL8BSgxHVX"
      },
      "source": [
        "result2=test_data[['key','fare_amount']]\n",
        "result2.to_csv(\"submission2\", index=False)"
      ],
      "execution_count": 275,
      "outputs": []
    },
    {
      "cell_type": "code",
      "metadata": {
        "colab": {
          "base_uri": "https://localhost:8080/",
          "height": 203
        },
        "id": "x_RfSKhcAcU6",
        "outputId": "7062b12c-7798-46f7-e949-5833d29d51ea"
      },
      "source": [
        "test_data['fare_amount']=pred3\n",
        "test_data.head()"
      ],
      "execution_count": 278,
      "outputs": [
        {
          "output_type": "execute_result",
          "data": {
            "text/html": [
              "<div>\n",
              "<style scoped>\n",
              "    .dataframe tbody tr th:only-of-type {\n",
              "        vertical-align: middle;\n",
              "    }\n",
              "\n",
              "    .dataframe tbody tr th {\n",
              "        vertical-align: top;\n",
              "    }\n",
              "\n",
              "    .dataframe thead th {\n",
              "        text-align: right;\n",
              "    }\n",
              "</style>\n",
              "<table border=\"1\" class=\"dataframe\">\n",
              "  <thead>\n",
              "    <tr style=\"text-align: right;\">\n",
              "      <th></th>\n",
              "      <th>key</th>\n",
              "      <th>passenger_count</th>\n",
              "      <th>distance</th>\n",
              "      <th>year</th>\n",
              "      <th>month</th>\n",
              "      <th>day</th>\n",
              "      <th>weekday</th>\n",
              "      <th>pickup_datetime_hour</th>\n",
              "      <th>fare_amount</th>\n",
              "    </tr>\n",
              "  </thead>\n",
              "  <tbody>\n",
              "    <tr>\n",
              "      <th>0</th>\n",
              "      <td>2015-01-27 13:08:24.0000002</td>\n",
              "      <td>1</td>\n",
              "      <td>2.323260</td>\n",
              "      <td>2015</td>\n",
              "      <td>1</td>\n",
              "      <td>27</td>\n",
              "      <td>1</td>\n",
              "      <td>13</td>\n",
              "      <td>10.975</td>\n",
              "    </tr>\n",
              "    <tr>\n",
              "      <th>1</th>\n",
              "      <td>2015-01-27 13:08:24.0000003</td>\n",
              "      <td>1</td>\n",
              "      <td>2.425353</td>\n",
              "      <td>2015</td>\n",
              "      <td>1</td>\n",
              "      <td>27</td>\n",
              "      <td>1</td>\n",
              "      <td>13</td>\n",
              "      <td>11.200</td>\n",
              "    </tr>\n",
              "    <tr>\n",
              "      <th>2</th>\n",
              "      <td>2011-10-08 11:53:44.0000002</td>\n",
              "      <td>1</td>\n",
              "      <td>0.618628</td>\n",
              "      <td>2011</td>\n",
              "      <td>10</td>\n",
              "      <td>8</td>\n",
              "      <td>5</td>\n",
              "      <td>11</td>\n",
              "      <td>5.256</td>\n",
              "    </tr>\n",
              "    <tr>\n",
              "      <th>3</th>\n",
              "      <td>2012-12-01 21:12:12.0000002</td>\n",
              "      <td>1</td>\n",
              "      <td>1.961033</td>\n",
              "      <td>2012</td>\n",
              "      <td>12</td>\n",
              "      <td>1</td>\n",
              "      <td>5</td>\n",
              "      <td>21</td>\n",
              "      <td>8.001</td>\n",
              "    </tr>\n",
              "    <tr>\n",
              "      <th>4</th>\n",
              "      <td>2012-12-01 21:12:12.0000003</td>\n",
              "      <td>1</td>\n",
              "      <td>5.387301</td>\n",
              "      <td>2012</td>\n",
              "      <td>12</td>\n",
              "      <td>1</td>\n",
              "      <td>5</td>\n",
              "      <td>21</td>\n",
              "      <td>17.528</td>\n",
              "    </tr>\n",
              "  </tbody>\n",
              "</table>\n",
              "</div>"
            ],
            "text/plain": [
              "                           key  ...  fare_amount\n",
              "0  2015-01-27 13:08:24.0000002  ...       10.975\n",
              "1  2015-01-27 13:08:24.0000003  ...       11.200\n",
              "2  2011-10-08 11:53:44.0000002  ...        5.256\n",
              "3  2012-12-01 21:12:12.0000002  ...        8.001\n",
              "4  2012-12-01 21:12:12.0000003  ...       17.528\n",
              "\n",
              "[5 rows x 9 columns]"
            ]
          },
          "metadata": {},
          "execution_count": 278
        }
      ]
    },
    {
      "cell_type": "code",
      "metadata": {
        "id": "5vYj65Y6AhTy"
      },
      "source": [
        "result3=test_data[['key','fare_amount']]\n",
        "result3.to_csv(\"submission3\", index=False)"
      ],
      "execution_count": 279,
      "outputs": []
    }
  ]
}